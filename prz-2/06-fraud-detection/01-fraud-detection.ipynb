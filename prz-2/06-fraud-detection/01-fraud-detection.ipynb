{
 "cells": [
  {
   "cell_type": "markdown",
   "metadata": {},
   "source": [
    "## **Fraud Detection in Python**\n",
    "\n",
    "**Course Description**\n",
    "\n",
    "A typical organization loses an estimated 5% of its yearly revenue to fraud. In this course, learn to fight fraud by using data. Apply supervised learning algorithms to detect fraudulent behavior based upon past fraud, and use unsupervised learning methods to discover new types of fraud activities. \n",
    "\n",
    "Fraudulent transactions are rare compared to the norm.  As such, learn to properly classify imbalanced datasets.\n",
    "\n",
    "The course provides technical and theoretical insights and demonstrates how to implement fraud detection models. Finally, get tips and advice from real-life experience to help prevent common mistakes in fraud analytics."
   ]
  },
  {
   "cell_type": "markdown",
   "metadata": {},
   "source": [
    "**Imports**"
   ]
  },
  {
   "cell_type": "code",
   "execution_count": 1,
   "metadata": {
    "tags": []
   },
   "outputs": [],
   "source": [
    "import warnings\n",
    "warnings.filterwarnings('ignore')\n",
    "warnings.simplefilter('ignore')"
   ]
  },
  {
   "cell_type": "markdown",
   "metadata": {},
   "source": [
    "**Заметка**: в файле `requirements.txt` не была включена библиотека `gensim`, потребовалось добавить её самостоятельно и повторно выполнить установку библиотек через `pip`."
   ]
  },
  {
   "cell_type": "code",
   "execution_count": 3,
   "metadata": {
    "tags": []
   },
   "outputs": [],
   "source": [
    "import pandas as pd\n",
    "import matplotlib.pyplot as plt\n",
    "from matplotlib.patches import Rectangle\n",
    "import numpy as np\n",
    "from pprint import pprint as pp\n",
    "import csv\n",
    "from pathlib import Path\n",
    "import seaborn as sns\n",
    "from itertools import product\n",
    "import string\n",
    "\n",
    "import nltk\n",
    "from nltk.corpus import stopwords\n",
    "from nltk.stem.wordnet import WordNetLemmatizer\n",
    "\n",
    "from imblearn.over_sampling import SMOTE\n",
    "from imblearn.over_sampling import BorderlineSMOTE\n",
    "from imblearn.pipeline import Pipeline \n",
    "\n",
    "from sklearn.linear_model import LinearRegression, LogisticRegression\n",
    "from sklearn.model_selection import train_test_split, GridSearchCV\n",
    "from sklearn.tree import DecisionTreeClassifier\n",
    "from sklearn.metrics import r2_score, classification_report, confusion_matrix, accuracy_score, roc_auc_score, roc_curve, precision_recall_curve, average_precision_score\n",
    "from sklearn.metrics import homogeneity_score, silhouette_score\n",
    "from sklearn.ensemble import RandomForestClassifier, VotingClassifier\n",
    "from sklearn.preprocessing import MinMaxScaler\n",
    "from sklearn.cluster import MiniBatchKMeans, DBSCAN\n",
    "\n",
    "import gensim\n",
    "from gensim import corpora"
   ]
  },
  {
   "cell_type": "markdown",
   "metadata": {},
   "source": [
    "**Pandas Configuration Options**"
   ]
  },
  {
   "cell_type": "code",
   "execution_count": 4,
   "metadata": {
    "tags": []
   },
   "outputs": [],
   "source": [
    "pd.set_option('display.max_columns', 700)\n",
    "pd.set_option('display.max_rows', 400)\n",
    "pd.set_option('display.min_rows', 10)\n",
    "pd.set_option('display.expand_frame_repr', True)"
   ]
  },
  {
   "cell_type": "markdown",
   "metadata": {},
   "source": [
    "**Data Files Location**\n",
    "\n",
    "* Most data files for the exercises can be found on the [course site](https://www.datacamp.com/courses/fraud-detection-in-python)\n",
    "    * [Chapter 1](https://assets.datacamp.com/production/repositories/2162/datasets/cc3a36b722c0806e4a7df2634e345975a0724958/chapter_1.zip)\n",
    "    * [Chapter 2](https://assets.datacamp.com/production/repositories/2162/datasets/4fb6199be9b89626dcd6b36c235cbf60cf4c1631/chapter_2.zip)\n",
    "    * [Chapter 3](https://assets.datacamp.com/production/repositories/2162/datasets/08cfcd4158b3a758e72e9bd077a9e44fec9f773b/chapter_3.zip)\n",
    "    * [Chapter 4](https://assets.datacamp.com/production/repositories/2162/datasets/94f2356652dc9ea8f0654b5e9c29645115b6e77f/chapter_4.zip)"
   ]
  },
  {
   "cell_type": "markdown",
   "metadata": {},
   "source": [
    "**Data File Objects**"
   ]
  },
  {
   "cell_type": "code",
   "execution_count": 5,
   "metadata": {
    "tags": []
   },
   "outputs": [],
   "source": [
    "data = Path.cwd() \n",
    "\n",
    "ch1 = data / 'chapter_1'\n",
    "cc1_file = ch1 / 'creditcard_sampledata.csv'\n",
    "cc3_file = ch1 / 'creditcard_sampledata_3.csv'\n",
    "\n",
    "ch2 = data / 'chapter_2'\n",
    "cc2_file = ch2 / 'creditcard_sampledata_2.csv'\n",
    "\n",
    "ch3 = data / 'chapter_3'\n",
    "banksim_file = ch3 / 'banksim.csv'\n",
    "banksim_adj_file = ch3 / 'banksim_adj.csv'\n",
    "db_full_file = ch3 / 'db_full.pickle'\n",
    "labels_file = ch3 / 'labels.pickle'\n",
    "labels_full_file = ch3 / 'labels_full.pickle'\n",
    "x_scaled_file = ch3 / 'x_scaled.pickle'\n",
    "x_scaled_full_file = ch3 / 'x_scaled_full.pickle'\n",
    "\n",
    "ch4 = data / 'chapter_4'\n",
    "enron_emails_clean_file = ch4 / 'enron_emails_clean.csv'\n",
    "cleantext_file = ch4 / 'cleantext.pickle'\n",
    "corpus_file = ch4 / 'corpus.pickle'\n",
    "dict_file = ch4 / 'dict.pickle'\n",
    "ldamodel_file = ch4 / 'ldamodel.pickle'"
   ]
  },
  {
   "cell_type": "markdown",
   "metadata": {},
   "source": [
    "# Introduction and preparing your data\n",
    "\n",
    "Learn about the typical challenges associated with fraud detection. Learn how to resample data in a smart way, and tackle problems with imbalanced data."
   ]
  },
  {
   "cell_type": "markdown",
   "metadata": {},
   "source": [
    "## Introduction to fraud detection\n",
    "\n",
    "* Types:\n",
    "    * Insurance\n",
    "    * Credit card\n",
    "    * Identity theft\n",
    "    * Money laundering\n",
    "    * Tax evasion\n",
    "    * Healthcare\n",
    "    * Product warranty\n",
    "* e-commerce businesses must continuously assess the legitimacy of client transactions\n",
    "* Detecting fraud is challenging:\n",
    "    * Uncommon; < 0.01% of transactions\n",
    "    * Attempts are made to conceal fraud\n",
    "    * Behavior evolves\n",
    "    * Fraudulent activities perpetrated by networks - organized crime\n",
    "* Fraud detection requires training an algorithm to identify concealed observations from any normal observations\n",
    "* Fraud analytics teams:\n",
    "    * Often use rules based systems, based on manually set thresholds and experience\n",
    "    * Check the news\n",
    "    * Receive external lists of fraudulent accounts and names\n",
    "        * suspicious names or track an external hit list from police to reference check against the client base\n",
    "    * Sometimes use machine learning algorithms to detect fraud or suspicious behavior\n",
    "        * Existing sources can be used as inputs into the ML model\n",
    "        * Verify the veracity of rules based labels"
   ]
  },
  {
   "cell_type": "markdown",
   "metadata": {},
   "source": [
    "### Checking the fraud to non-fraud ratio\n",
    "\n",
    "In this chapter, you will work on `creditcard_sampledata.csv`, a dataset containing credit card transactions data. Fraud occurrences are fortunately an **extreme minority** in these transactions.\n",
    "\n",
    "However, Machine Learning algorithms usually work best when the different classes contained in the dataset are more or less equally present. If there are few cases of fraud, then there's little data to learn how to identify them. This is known as **class imbalance**, and it's one of the main challenges of fraud detection.\n",
    "\n",
    "Let's explore this dataset, and observe this class imbalance problem.\n",
    "\n",
    "**Instructions**\n",
    "\n",
    "* `import pandas as pd`, read the credit card data in and assign it to `df`. This has been done for you.\n",
    "* Use `.info()` to print information about `df`.\n",
    "* Use `.value_counts()` to get the count of fraudulent and non-fraudulent transactions in the `'Class'` column. Assign the result to `occ`.\n",
    "* Get the ratio of fraudulent transactions over the total number of transactions in the dataset."
   ]
  },
  {
   "cell_type": "code",
   "execution_count": 6,
   "metadata": {
    "tags": []
   },
   "outputs": [],
   "source": [
    "df = pd.read_csv(cc3_file)"
   ]
  },
  {
   "cell_type": "markdown",
   "metadata": {},
   "source": [
    "#### Explore the features available in your dataframe"
   ]
  },
  {
   "cell_type": "code",
   "execution_count": 7,
   "metadata": {
    "tags": []
   },
   "outputs": [
    {
     "name": "stdout",
     "output_type": "stream",
     "text": [
      "<class 'pandas.core.frame.DataFrame'>\n",
      "RangeIndex: 5050 entries, 0 to 5049\n",
      "Data columns (total 31 columns):\n",
      " #   Column      Non-Null Count  Dtype  \n",
      "---  ------      --------------  -----  \n",
      " 0   Unnamed: 0  5050 non-null   int64  \n",
      " 1   V1          5050 non-null   float64\n",
      " 2   V2          5050 non-null   float64\n",
      " 3   V3          5050 non-null   float64\n",
      " 4   V4          5050 non-null   float64\n",
      " 5   V5          5050 non-null   float64\n",
      " 6   V6          5050 non-null   float64\n",
      " 7   V7          5050 non-null   float64\n",
      " 8   V8          5050 non-null   float64\n",
      " 9   V9          5050 non-null   float64\n",
      " 10  V10         5050 non-null   float64\n",
      " 11  V11         5050 non-null   float64\n",
      " 12  V12         5050 non-null   float64\n",
      " 13  V13         5050 non-null   float64\n",
      " 14  V14         5050 non-null   float64\n",
      " 15  V15         5050 non-null   float64\n",
      " 16  V16         5050 non-null   float64\n",
      " 17  V17         5050 non-null   float64\n",
      " 18  V18         5050 non-null   float64\n",
      " 19  V19         5050 non-null   float64\n",
      " 20  V20         5050 non-null   float64\n",
      " 21  V21         5050 non-null   float64\n",
      " 22  V22         5050 non-null   float64\n",
      " 23  V23         5050 non-null   float64\n",
      " 24  V24         5050 non-null   float64\n",
      " 25  V25         5050 non-null   float64\n",
      " 26  V26         5050 non-null   float64\n",
      " 27  V27         5050 non-null   float64\n",
      " 28  V28         5050 non-null   float64\n",
      " 29  Amount      5050 non-null   float64\n",
      " 30  Class       5050 non-null   int64  \n",
      "dtypes: float64(29), int64(2)\n",
      "memory usage: 1.2 MB\n"
     ]
    }
   ],
   "source": [
    "df.info()"
   ]
  },
  {
   "cell_type": "code",
   "execution_count": 8,
   "metadata": {
    "tags": []
   },
   "outputs": [
    {
     "data": {
      "text/html": [
       "<div>\n",
       "<style scoped>\n",
       "    .dataframe tbody tr th:only-of-type {\n",
       "        vertical-align: middle;\n",
       "    }\n",
       "\n",
       "    .dataframe tbody tr th {\n",
       "        vertical-align: top;\n",
       "    }\n",
       "\n",
       "    .dataframe thead th {\n",
       "        text-align: right;\n",
       "    }\n",
       "</style>\n",
       "<table border=\"1\" class=\"dataframe\">\n",
       "  <thead>\n",
       "    <tr style=\"text-align: right;\">\n",
       "      <th></th>\n",
       "      <th>Unnamed: 0</th>\n",
       "      <th>V1</th>\n",
       "      <th>V2</th>\n",
       "      <th>V3</th>\n",
       "      <th>V4</th>\n",
       "      <th>V5</th>\n",
       "      <th>V6</th>\n",
       "      <th>V7</th>\n",
       "      <th>V8</th>\n",
       "      <th>V9</th>\n",
       "      <th>V10</th>\n",
       "      <th>V11</th>\n",
       "      <th>V12</th>\n",
       "      <th>V13</th>\n",
       "      <th>V14</th>\n",
       "      <th>V15</th>\n",
       "      <th>V16</th>\n",
       "      <th>V17</th>\n",
       "      <th>V18</th>\n",
       "      <th>V19</th>\n",
       "      <th>V20</th>\n",
       "      <th>V21</th>\n",
       "      <th>V22</th>\n",
       "      <th>V23</th>\n",
       "      <th>V24</th>\n",
       "      <th>V25</th>\n",
       "      <th>V26</th>\n",
       "      <th>V27</th>\n",
       "      <th>V28</th>\n",
       "      <th>Amount</th>\n",
       "      <th>Class</th>\n",
       "    </tr>\n",
       "  </thead>\n",
       "  <tbody>\n",
       "    <tr>\n",
       "      <th>0</th>\n",
       "      <td>258647</td>\n",
       "      <td>1.725265</td>\n",
       "      <td>-1.337256</td>\n",
       "      <td>-1.012687</td>\n",
       "      <td>-0.361656</td>\n",
       "      <td>-1.431611</td>\n",
       "      <td>-1.098681</td>\n",
       "      <td>-0.842274</td>\n",
       "      <td>-0.026594</td>\n",
       "      <td>-0.032409</td>\n",
       "      <td>0.215113</td>\n",
       "      <td>1.618952</td>\n",
       "      <td>-0.654046</td>\n",
       "      <td>-1.442665</td>\n",
       "      <td>-1.546538</td>\n",
       "      <td>-0.230008</td>\n",
       "      <td>1.785539</td>\n",
       "      <td>1.419793</td>\n",
       "      <td>0.071666</td>\n",
       "      <td>0.233031</td>\n",
       "      <td>0.275911</td>\n",
       "      <td>0.414524</td>\n",
       "      <td>0.793434</td>\n",
       "      <td>0.028887</td>\n",
       "      <td>0.419421</td>\n",
       "      <td>-0.367529</td>\n",
       "      <td>-0.155634</td>\n",
       "      <td>-0.015768</td>\n",
       "      <td>0.010790</td>\n",
       "      <td>189.00</td>\n",
       "      <td>0</td>\n",
       "    </tr>\n",
       "    <tr>\n",
       "      <th>1</th>\n",
       "      <td>69263</td>\n",
       "      <td>0.683254</td>\n",
       "      <td>-1.681875</td>\n",
       "      <td>0.533349</td>\n",
       "      <td>-0.326064</td>\n",
       "      <td>-1.455603</td>\n",
       "      <td>0.101832</td>\n",
       "      <td>-0.520590</td>\n",
       "      <td>0.114036</td>\n",
       "      <td>-0.601760</td>\n",
       "      <td>0.444011</td>\n",
       "      <td>1.521570</td>\n",
       "      <td>0.499202</td>\n",
       "      <td>-0.127849</td>\n",
       "      <td>-0.237253</td>\n",
       "      <td>-0.752351</td>\n",
       "      <td>0.667190</td>\n",
       "      <td>0.724785</td>\n",
       "      <td>-1.736615</td>\n",
       "      <td>0.702088</td>\n",
       "      <td>0.638186</td>\n",
       "      <td>0.116898</td>\n",
       "      <td>-0.304605</td>\n",
       "      <td>-0.125547</td>\n",
       "      <td>0.244848</td>\n",
       "      <td>0.069163</td>\n",
       "      <td>-0.460712</td>\n",
       "      <td>-0.017068</td>\n",
       "      <td>0.063542</td>\n",
       "      <td>315.17</td>\n",
       "      <td>0</td>\n",
       "    </tr>\n",
       "    <tr>\n",
       "      <th>2</th>\n",
       "      <td>96552</td>\n",
       "      <td>1.067973</td>\n",
       "      <td>-0.656667</td>\n",
       "      <td>1.029738</td>\n",
       "      <td>0.253899</td>\n",
       "      <td>-1.172715</td>\n",
       "      <td>0.073232</td>\n",
       "      <td>-0.745771</td>\n",
       "      <td>0.249803</td>\n",
       "      <td>1.383057</td>\n",
       "      <td>-0.483771</td>\n",
       "      <td>-0.782780</td>\n",
       "      <td>0.005242</td>\n",
       "      <td>-1.273288</td>\n",
       "      <td>-0.269260</td>\n",
       "      <td>0.091287</td>\n",
       "      <td>-0.347973</td>\n",
       "      <td>0.495328</td>\n",
       "      <td>-0.925949</td>\n",
       "      <td>0.099138</td>\n",
       "      <td>-0.083859</td>\n",
       "      <td>-0.189315</td>\n",
       "      <td>-0.426743</td>\n",
       "      <td>0.079539</td>\n",
       "      <td>0.129692</td>\n",
       "      <td>0.002778</td>\n",
       "      <td>0.970498</td>\n",
       "      <td>-0.035056</td>\n",
       "      <td>0.017313</td>\n",
       "      <td>59.98</td>\n",
       "      <td>0</td>\n",
       "    </tr>\n",
       "    <tr>\n",
       "      <th>3</th>\n",
       "      <td>281898</td>\n",
       "      <td>0.119513</td>\n",
       "      <td>0.729275</td>\n",
       "      <td>-1.678879</td>\n",
       "      <td>-1.551408</td>\n",
       "      <td>3.128914</td>\n",
       "      <td>3.210632</td>\n",
       "      <td>0.356276</td>\n",
       "      <td>0.920374</td>\n",
       "      <td>-0.160589</td>\n",
       "      <td>-0.801748</td>\n",
       "      <td>0.137341</td>\n",
       "      <td>-0.156740</td>\n",
       "      <td>-0.429388</td>\n",
       "      <td>-0.752392</td>\n",
       "      <td>0.155272</td>\n",
       "      <td>0.215068</td>\n",
       "      <td>0.352222</td>\n",
       "      <td>-0.376168</td>\n",
       "      <td>-0.398920</td>\n",
       "      <td>0.043715</td>\n",
       "      <td>-0.335825</td>\n",
       "      <td>-0.906171</td>\n",
       "      <td>0.108350</td>\n",
       "      <td>0.593062</td>\n",
       "      <td>-0.424303</td>\n",
       "      <td>0.164201</td>\n",
       "      <td>0.245881</td>\n",
       "      <td>0.071029</td>\n",
       "      <td>0.89</td>\n",
       "      <td>0</td>\n",
       "    </tr>\n",
       "    <tr>\n",
       "      <th>4</th>\n",
       "      <td>86917</td>\n",
       "      <td>1.271253</td>\n",
       "      <td>0.275694</td>\n",
       "      <td>0.159568</td>\n",
       "      <td>1.003096</td>\n",
       "      <td>-0.128535</td>\n",
       "      <td>-0.608730</td>\n",
       "      <td>0.088777</td>\n",
       "      <td>-0.145336</td>\n",
       "      <td>0.156047</td>\n",
       "      <td>0.022707</td>\n",
       "      <td>-0.963306</td>\n",
       "      <td>-0.228074</td>\n",
       "      <td>-0.324933</td>\n",
       "      <td>0.390609</td>\n",
       "      <td>1.065923</td>\n",
       "      <td>0.285930</td>\n",
       "      <td>-0.627072</td>\n",
       "      <td>0.170175</td>\n",
       "      <td>-0.215912</td>\n",
       "      <td>-0.147394</td>\n",
       "      <td>0.031958</td>\n",
       "      <td>0.123503</td>\n",
       "      <td>-0.174528</td>\n",
       "      <td>-0.147535</td>\n",
       "      <td>0.735909</td>\n",
       "      <td>-0.262270</td>\n",
       "      <td>0.015577</td>\n",
       "      <td>0.015955</td>\n",
       "      <td>6.53</td>\n",
       "      <td>0</td>\n",
       "    </tr>\n",
       "  </tbody>\n",
       "</table>\n",
       "</div>"
      ],
      "text/plain": [
       "   Unnamed: 0        V1        V2        V3        V4        V5        V6  \\\n",
       "0      258647  1.725265 -1.337256 -1.012687 -0.361656 -1.431611 -1.098681   \n",
       "1       69263  0.683254 -1.681875  0.533349 -0.326064 -1.455603  0.101832   \n",
       "2       96552  1.067973 -0.656667  1.029738  0.253899 -1.172715  0.073232   \n",
       "3      281898  0.119513  0.729275 -1.678879 -1.551408  3.128914  3.210632   \n",
       "4       86917  1.271253  0.275694  0.159568  1.003096 -0.128535 -0.608730   \n",
       "\n",
       "         V7        V8        V9       V10       V11       V12       V13  \\\n",
       "0 -0.842274 -0.026594 -0.032409  0.215113  1.618952 -0.654046 -1.442665   \n",
       "1 -0.520590  0.114036 -0.601760  0.444011  1.521570  0.499202 -0.127849   \n",
       "2 -0.745771  0.249803  1.383057 -0.483771 -0.782780  0.005242 -1.273288   \n",
       "3  0.356276  0.920374 -0.160589 -0.801748  0.137341 -0.156740 -0.429388   \n",
       "4  0.088777 -0.145336  0.156047  0.022707 -0.963306 -0.228074 -0.324933   \n",
       "\n",
       "        V14       V15       V16       V17       V18       V19       V20  \\\n",
       "0 -1.546538 -0.230008  1.785539  1.419793  0.071666  0.233031  0.275911   \n",
       "1 -0.237253 -0.752351  0.667190  0.724785 -1.736615  0.702088  0.638186   \n",
       "2 -0.269260  0.091287 -0.347973  0.495328 -0.925949  0.099138 -0.083859   \n",
       "3 -0.752392  0.155272  0.215068  0.352222 -0.376168 -0.398920  0.043715   \n",
       "4  0.390609  1.065923  0.285930 -0.627072  0.170175 -0.215912 -0.147394   \n",
       "\n",
       "        V21       V22       V23       V24       V25       V26       V27  \\\n",
       "0  0.414524  0.793434  0.028887  0.419421 -0.367529 -0.155634 -0.015768   \n",
       "1  0.116898 -0.304605 -0.125547  0.244848  0.069163 -0.460712 -0.017068   \n",
       "2 -0.189315 -0.426743  0.079539  0.129692  0.002778  0.970498 -0.035056   \n",
       "3 -0.335825 -0.906171  0.108350  0.593062 -0.424303  0.164201  0.245881   \n",
       "4  0.031958  0.123503 -0.174528 -0.147535  0.735909 -0.262270  0.015577   \n",
       "\n",
       "        V28  Amount  Class  \n",
       "0  0.010790  189.00      0  \n",
       "1  0.063542  315.17      0  \n",
       "2  0.017313   59.98      0  \n",
       "3  0.071029    0.89      0  \n",
       "4  0.015955    6.53      0  "
      ]
     },
     "execution_count": 8,
     "metadata": {},
     "output_type": "execute_result"
    }
   ],
   "source": [
    "df.head()"
   ]
  },
  {
   "cell_type": "code",
   "execution_count": 9,
   "metadata": {
    "tags": []
   },
   "outputs": [
    {
     "data": {
      "text/plain": [
       "0    5000\n",
       "1      50\n",
       "Name: Class, dtype: int64"
      ]
     },
     "execution_count": 9,
     "metadata": {},
     "output_type": "execute_result"
    }
   ],
   "source": [
    "# Count the occurrences of fraud and no fraud and print them\n",
    "occ = df['Class'].value_counts()\n",
    "occ"
   ]
  },
  {
   "cell_type": "code",
   "execution_count": 10,
   "metadata": {
    "tags": []
   },
   "outputs": [
    {
     "name": "stdout",
     "output_type": "stream",
     "text": [
      "Ratio of fraudulent cases: 0.009900990099009901\n",
      "Ratio of non-fraudulent cases: 0.9900990099009901\n"
     ]
    }
   ],
   "source": [
    "# Print the ratio of fraud cases\n",
    "ratio_cases = occ/len(df.index)\n",
    "print(f'Ratio of fraudulent cases: {ratio_cases[1]}\\nRatio of non-fraudulent cases: {ratio_cases[0]}')"
   ]
  },
  {
   "cell_type": "markdown",
   "metadata": {},
   "source": [
    "**The ratio of fraudulent transactions is very low. This is a case of class imbalance problem, and you're going to learn how to deal with this in the next exercises.**"
   ]
  },
  {
   "cell_type": "markdown",
   "metadata": {},
   "source": [
    "### Data visualization\n",
    "\n",
    "From the previous exercise we know that the ratio of fraud to non-fraud observations is very low. You can do something about that, for example by **re-sampling** our data, which is explained in the next video.\n",
    "\n",
    "In this exercise, you'll look at the data and **visualize the fraud to non-fraud ratio**. It is always a good starting point in your fraud analysis, to look at your data first, before you make any changes to it.\n",
    "\n",
    "Moreover, when talking to your colleagues, a picture often makes it very clear that we're dealing with heavily imbalanced data. Let's create a plot to visualize the ratio fraud to non-fraud data points on the dataset `df`.\n",
    "\n",
    "The function `prep_data()` is already loaded in your workspace, as well as `matplotlib.pyplot as plt`.\n",
    "\n",
    "**Instructions**\n",
    "\n",
    "* Define the `plot_data(X, y)` function, that will nicely plot the given feature set `X` with labels `y` in a scatter plot. This has been done for you.\n",
    "* Use the function `prep_data()` on your dataset `df` to create feature set `X` and labels `y`.\n",
    "* Run the function `plot_data()` on your newly obtained `X` and `y` to visualize your results."
   ]
  },
  {
   "cell_type": "markdown",
   "metadata": {},
   "source": [
    "#### def prep_data"
   ]
  },
  {
   "cell_type": "code",
   "execution_count": 11,
   "metadata": {
    "tags": []
   },
   "outputs": [],
   "source": [
    "def prep_data(df: pd.DataFrame) -> (np.ndarray, np.ndarray):\n",
    "    \"\"\"\n",
    "    Convert the DataFrame into two variable\n",
    "    X: data columns (V1 - V28)\n",
    "    y: lable column\n",
    "    \"\"\"\n",
    "    X = df.iloc[:, 2:30].values\n",
    "    y = df.Class.values\n",
    "    return X, y"
   ]
  },
  {
   "cell_type": "markdown",
   "metadata": {},
   "source": [
    "#### def plot_data"
   ]
  },
  {
   "cell_type": "code",
   "execution_count": 12,
   "metadata": {
    "tags": []
   },
   "outputs": [],
   "source": [
    "# Define a function to create a scatter plot of our data and labels\n",
    "def plot_data(X: np.ndarray, y: np.ndarray):\n",
    "    plt.scatter(X[y == 0, 0], X[y == 0, 1], label=\"Class #0\", alpha=0.5, linewidth=0.15)\n",
    "    plt.scatter(X[y == 1, 0], X[y == 1, 1], label=\"Class #1\", alpha=0.5, linewidth=0.15, c='r')\n",
    "    plt.legend()\n",
    "    return plt.show()"
   ]
  },
  {
   "cell_type": "code",
   "execution_count": 13,
   "metadata": {
    "tags": []
   },
   "outputs": [],
   "source": [
    "# Create X and y from the prep_data function \n",
    "X, y = prep_data(df)"
   ]
  },
  {
   "cell_type": "code",
   "execution_count": 14,
   "metadata": {
    "tags": []
   },
   "outputs": [
    {
     "data": {
      "image/png": "[encoded data removed]",
      "text/plain": [
       "<Figure size 640x480 with 1 Axes>"
      ]
     },
     "metadata": {},
     "output_type": "display_data"
    }
   ],
   "source": [
    "# Plot our data by running our plot data function on X and y\n",
    "plot_data(X, y)"
   ]
  },
  {
   "cell_type": "markdown",
   "metadata": {},
   "source": [
    "**By visualizing the data, you can immediately see how our fraud cases are scattered over our data, and how few cases we have. A picture often makes the imbalance problem clear. In the next exercises we'll visually explore how to improve our fraud to non-fraud balance.**"
   ]
  },
  {
   "cell_type": "markdown",
   "metadata": {},
   "source": [
    "#### Reproduced using the DataFrame"
   ]
  },
  {
   "cell_type": "code",
   "execution_count": 15,
   "metadata": {
    "tags": []
   },
   "outputs": [
    {
     "data": {
      "image/png": "[encoded data removed]",
      "text/plain": [
       "<Figure size 640x480 with 1 Axes>"
      ]
     },
     "metadata": {},
     "output_type": "display_data"
    }
   ],
   "source": [
    "plt.scatter(df.V2[df.Class == 0], df.V3[df.Class == 0], label=\"Class #0\", alpha=0.5, linewidth=0.15)\n",
    "plt.scatter(df.V2[df.Class == 1], df.V3[df.Class == 1], label=\"Class #1\", alpha=0.5, linewidth=0.15, c='r')\n",
    "plt.legend()\n",
    "plt.show()"
   ]
  },
  {
   "cell_type": "markdown",
   "metadata": {},
   "source": [
    "## Increase successful detections with data resampling\n",
    "\n",
    "* resampling can help model performance in cases of imbalanced data sets"
   ]
  },
  {
   "cell_type": "markdown",
   "metadata": {},
   "source": [
    "#### Undersampling\n",
    "\n",
    "* ![undersampling](https://raw.githubusercontent.com/trenton3983/DataCamp/master/Images/fraud_detection/undersampling.JPG)\n",
    "* Undersampling the majority class (non-fraud cases)\n",
    "    * Straightforward method to adjust imbalanced data\n",
    "    * Take random draws from the non-fraud observations, to match the occurences of fraud observations (as shown in the picture)"
   ]
  },
  {
   "cell_type": "markdown",
   "metadata": {},
   "source": [
    "#### Oversampling\n",
    "\n",
    "* ![oversampling](https://raw.githubusercontent.com/trenton3983/DataCamp/master/Images/fraud_detection/oversampling.JPG)\n",
    "* Oversampling the minority class (fraud cases)\n",
    "    * Take random draws from the fraud cases and copy those observations to increase the amount of fraud samples\n",
    "* Both methods lead to having a balance between fraud and non-fraud cases\n",
    "* Drawbacks\n",
    "    * with random undersampling, a lot of information is thrown away\n",
    "    * with oversampling, the model will be trained on a lot of duplicates"
   ]
  },
  {
   "cell_type": "markdown",
   "metadata": {},
   "source": [
    "#### Implement resampling methods using Python imblean module\n",
    "\n",
    "* compatible with scikit-learn\n",
    "\n",
    "```python\n",
    "from imblearn.over_sampling import RandomOverSampler\n",
    "\n",
    "method = RandomOverSampler()\n",
    "X_resampled, y_resampled =  method.fit_sample(X, y)\n",
    "\n",
    "compare_plots(X_resampled, y_resampled, X, y)\n",
    "```\n",
    "\n",
    "![oversampling plot](https://raw.githubusercontent.com/trenton3983/DataCamp/master/Images/fraud_detection/oversampling_plot.JPG)\n",
    "* The darker blue points reflect there are more identical data"
   ]
  },
  {
   "cell_type": "markdown",
   "metadata": {},
   "source": [
    "#### SMOTE\n",
    "\n",
    "* ![smote](https://raw.githubusercontent.com/trenton3983/DataCamp/master/Images/fraud_detection/smote.JPG)\n",
    "* Synthetic minority Oversampling Technique (SMOTE)\n",
    "    * [Resampling strategies for Imbalanced Data Sets](https://www.kaggle.com/rafjaa/resampling-strategies-for-imbalanced-datasets)\n",
    "    * Another way of adjusting the imbalance by oversampling minority observations\n",
    "    * SMOTE uses characteristics of nearest neighbors of fraud cases to create new synthetic fraud cases\n",
    "        * avoids duplicating observations"
   ]
  },
  {
   "cell_type": "markdown",
   "metadata": {},
   "source": [
    "#### Determining the best resampling method is situational\n",
    "\n",
    "* Random Undersampling (RUS):\n",
    "    * If there is a lot of data and many minority cases, then undersampling may be computationally more convenient\n",
    "        * In most cases, throwing away data is not desirable\n",
    "* Random Oversampling (ROS):\n",
    "    * Straightforward\n",
    "    * Training the model on many duplicates\n",
    "* SMOTE:\n",
    "    * more sophisticated\n",
    "    * realistic data set\n",
    "    * training on synthetic data\n",
    "    * only works well if the minority case features are similar\n",
    "        * **if fraud is spread through the data and not distinct, using nearest neighbors to create more fraud cases, introduces noise into the data, as the nearest neighbors might not be fraud cases**"
   ]
  },
  {
   "cell_type": "markdown",
   "metadata": {},
   "source": [
    "#### When to use resmapling methods\n",
    "\n",
    "* Use resampling methods on the training set, not on the test set\n",
    "* The goal is to produce a better model by providing balanced data\n",
    "    * The goal is not to predict the synthetic samples\n",
    "* Test data should be free of duplicates and synthetic data\n",
    "* Only test the model on real data\n",
    "    * First, spit the data into train and test sets\n",
    "    \n",
    "```python\n",
    "# Define resampling method and split into train and test\n",
    "method = SMOTE(kind='borderline1')\n",
    "X_train, X_test, y_train, y_test = train_test_split(X, y, train_size=0.8, random_state=0)\n",
    "\n",
    "# Apply resampling to the training data only\n",
    "X_resampled, y_resampled = method.fit_sample(X_train, y_train)\n",
    "\n",
    "# Continue fitting the model and obtain predictions\n",
    "model = LogisticRegression()\n",
    "model.fit(X_resampled, y_resampled)\n",
    "\n",
    "# Get model performance metrics\n",
    "predicted = model.predict(X_test)\n",
    "print(classification_report(y_test, predicted))\n",
    "```"
   ]
  },
  {
   "cell_type": "markdown",
   "metadata": {},
   "source": [
    "### Resampling methods for imbalanced data\n",
    "\n",
    "Which of these methods takes a random subsample of your majority class to account for class \"imbalancedness\"?\n",
    "\n",
    "**Possible Answers**\n",
    "\n",
    "* ~~Random Over Sampling (ROS)~~\n",
    "* **Random Under Sampling (RUS)**\n",
    "* ~~Synthetic Minority Over-sampling Technique (SMOTE)~~\n",
    "* ~~None of the above~~\n",
    "\n",
    "**By using ROS and SMOTE you add more examples to the minority class. RUS adjusts the balance of your data by reducing the majority class.**"
   ]
  },
  {
   "cell_type": "markdown",
   "metadata": {},
   "source": [
    "### Applying Synthetic Minority Oversampling Technique (SMOTE)\n",
    "\n",
    "In this exercise, you're going to re-balance our data using the **Synthetic Minority Over-sampling Technique** (SMOTE). Unlike ROS, SMOTE does not create exact copies of observations, but **creates new, synthetic, samples** that are quite similar to the existing observations in the minority class. SMOTE is therefore slightly more sophisticated than just copying observations, so let's apply SMOTE to our credit card data. The dataset `df` is available and the packages you need for SMOTE are imported. In the following exercise, you'll visualize the result and compare it to the original data, such that you can see the effect of applying SMOTE very clearly.\n",
    "\n",
    "**Instructions**\n",
    "\n",
    "* Use the `prep_data` function on `df` to create features `X` and labels `y`.\n",
    "* Define the resampling method as SMOTE of the regular kind, under the variable `method`.\n",
    "* Use `.fit_sample()` on the original `X` and `y` to obtain newly resampled data.\n",
    "* Plot the resampled data using the `plot_data()` function."
   ]
  },
  {
   "cell_type": "code",
   "execution_count": 16,
   "metadata": {
    "tags": []
   },
   "outputs": [],
   "source": [
    "# Run the prep_data function\n",
    "X, y = prep_data(df)"
   ]
  },
  {
   "cell_type": "code",
   "execution_count": 17,
   "metadata": {
    "tags": []
   },
   "outputs": [
    {
     "name": "stdout",
     "output_type": "stream",
     "text": [
      "X shape: (5050, 28)\n",
      "y shape: (5050,)\n"
     ]
    }
   ],
   "source": [
    "print(f'X shape: {X.shape}\\ny shape: {y.shape}')"
   ]
  },
  {
   "cell_type": "code",
   "execution_count": 18,
   "metadata": {
    "tags": []
   },
   "outputs": [],
   "source": [
    "# Define the resampling method\n",
    "method = SMOTE()"
   ]
  },
  {
   "cell_type": "code",
   "execution_count": 20,
   "metadata": {
    "tags": []
   },
   "outputs": [],
   "source": [
    "# Create the resampled feature set\n",
    "X_resampled, y_resampled = method.fit_resample(X, y) # Нужно было заменить fit_sample на fit_resample"
   ]
  },
  {
   "cell_type": "code",
   "execution_count": 21,
   "metadata": {
    "tags": []
   },
   "outputs": [
    {
     "data": {
      "image/png": "[encoded data removed]",
      "text/plain": [
       "<Figure size 640x480 with 1 Axes>"
      ]
     },
     "metadata": {},
     "output_type": "display_data"
    }
   ],
   "source": [
    "# Plot the resampled data\n",
    "plot_data(X_resampled, y_resampled)"
   ]
  },
  {
   "cell_type": "markdown",
   "metadata": {},
   "source": [
    "**The minority class is now much more prominently visible in our data. To see the results of SMOTE even better, we'll compare it to the original data in the next exercise.**"
   ]
  },
  {
   "cell_type": "markdown",
   "metadata": {},
   "source": [
    "### Compare SMOTE to original data\n",
    "\n",
    "In the last exercise, you saw that using SMOTE suddenly gives us more observations of the minority class. Let's compare those results to our original data, to get a good feeling for what has actually happened. Let's have a look at the value counts again of our old and new data, and let's plot the two scatter plots of the data side by side. You'll use the function compare_plot() for that that, which takes the following arguments: `X`, `y`, `X_resampled`, `y_resampled`, `method=''`. The function plots your original data in a scatter plot, along with the resampled side by side.\n",
    "\n",
    "**Instructions**\n",
    "\n",
    "* Print the value counts of our original labels, `y`. Be mindful that `y` is currently a Numpy array, so in order to use value counts, we'll assign `y` back as a pandas Series object.\n",
    "* Repeat the step and print the value counts on `y_resampled`. This shows you how the balance between the two classes has changed with SMOTE.\n",
    "* Use the `compare_plot()` function called on our original data as well our resampled data to see the scatterplots side by side."
   ]
  },
  {
   "cell_type": "code",
   "execution_count": 22,
   "metadata": {
    "tags": []
   },
   "outputs": [
    {
     "data": {
      "text/plain": [
       "0    5000\n",
       "1      50\n",
       "dtype: int64"
      ]
     },
     "execution_count": 22,
     "metadata": {},
     "output_type": "execute_result"
    }
   ],
   "source": [
    "pd.value_counts(pd.Series(y))"
   ]
  },
  {
   "cell_type": "code",
   "execution_count": 23,
   "metadata": {
    "tags": []
   },
   "outputs": [
    {
     "data": {
      "text/plain": [
       "0    5000\n",
       "1    5000\n",
       "dtype: int64"
      ]
     },
     "execution_count": 23,
     "metadata": {},
     "output_type": "execute_result"
    }
   ],
   "source": [
    "pd.value_counts(pd.Series(y_resampled))"
   ]
  },
  {
   "cell_type": "markdown",
   "metadata": {},
   "source": [
    "#### def compare_plot"
   ]
  },
  {
   "cell_type": "code",
   "execution_count": 24,
   "metadata": {
    "tags": []
   },
   "outputs": [],
   "source": [
    "def compare_plot(X: np.ndarray, y: np.ndarray, X_resampled: np.ndarray, y_resampled: np.ndarray, method: str):\n",
    "    plt.subplot(1, 2, 1)\n",
    "    plt.scatter(X[y == 0, 0], X[y == 0, 1], label=\"Class #0\", alpha=0.5, linewidth=0.15)\n",
    "    plt.scatter(X[y == 1, 0], X[y == 1, 1], label=\"Class #1\", alpha=0.5, linewidth=0.15, c='r')\n",
    "    plt.title('Original Set')\n",
    "    plt.subplot(1, 2, 2)\n",
    "    plt.scatter(X_resampled[y_resampled == 0, 0], X_resampled[y_resampled == 0, 1], label=\"Class #0\", alpha=0.5, linewidth=0.15)\n",
    "    plt.scatter(X_resampled[y_resampled == 1, 0], X_resampled[y_resampled == 1, 1], label=\"Class #1\", alpha=0.5, linewidth=0.15, c='r')\n",
    "    plt.title(method)\n",
    "    plt.legend()\n",
    "    plt.show()"
   ]
  },
  {
   "cell_type": "code",
   "execution_count": 25,
   "metadata": {},
   "outputs": [
    {
     "data": {
      "image/png": "[encoded data removed]",
      "text/plain": [
       "<Figure size 640x480 with 2 Axes>"
      ]
     },
     "metadata": {},
     "output_type": "display_data"
    }
   ],
   "source": [
    "compare_plot(X, y, X_resampled, y_resampled, method='SMOTE')"
   ]
  },
  {
   "cell_type": "markdown",
   "metadata": {},
   "source": [
    "**It should by now be clear that SMOTE has balanced our data completely, and that the minority class is now equal in size to the majority class. Visualizing the data shows the effect on the data very clearly. The next exercise will demonstrate multiple ways to implement SMOTE and that each method will have a slightly different effect.**"
   ]
  },
  {
   "cell_type": "markdown",
   "metadata": {},
   "source": [
    "## Fraud detection algorithms in action"
   ]
  },
  {
   "cell_type": "markdown",
   "metadata": {},
   "source": [
    "#### Rules Based Systems\n",
    "\n",
    "* ![rules based](https://raw.githubusercontent.com/trenton3983/DataCamp/master/Images/fraud_detection/rules_based.JPG)\n",
    "* Might block transactions from risky zip codes\n",
    "* Block transactions from cards used too frequently (e.g. last 30 minutes)\n",
    "* Can catch fraud, but also generates false alarms (false positive)\n",
    "* Limitations:\n",
    "    * Fixed threshold per rule and it's difficult to determine the threshold; they don't adapt over time\n",
    "    * Limited to yes / no outcomes, whereas ML yields a probability\n",
    "        * probability allows for fine-tuning the outcomes (i.e. rate of occurences of false positives and false negatives)\n",
    "    * Fails to capture interaction between features\n",
    "        * Ex. Size of the transaction only matters in combination to the frequency"
   ]
  },
  {
   "cell_type": "markdown",
   "metadata": {},
   "source": [
    "#### ML Based Systems\n",
    "\n",
    "* Adapt to the data, thus can change over time\n",
    "* Uses all the data combined, rather than a threshold per feature\n",
    "* Produces a probability, rather than a binary score\n",
    "* Typically have better performance and can be combined with rules"
   ]
  },
  {
   "cell_type": "code",
   "execution_count": 26,
   "metadata": {
    "tags": []
   },
   "outputs": [],
   "source": [
    "# Step 1: split the features and labels into train and test data\n",
    "X_train, X_test, y_train, y_test = train_test_split(X, y, test_size=0.2)"
   ]
  },
  {
   "cell_type": "code",
   "execution_count": 27,
   "metadata": {
    "tags": []
   },
   "outputs": [],
   "source": [
    "# Step 2: Define which model to use\n",
    "model = LinearRegression()"
   ]
  },
  {
   "cell_type": "code",
   "execution_count": 28,
   "metadata": {
    "tags": []
   },
   "outputs": [
    {
     "data": {
      "text/html": [
       "<style>#sk-container-id-1 {color: black;background-color: white;}#sk-container-id-1 pre{padding: 0;}#sk-container-id-1 div.sk-toggleable {background-color: white;}#sk-container-id-1 label.sk-toggleable__label {cursor: pointer;display: block;width: 100%;margin-bottom: 0;padding: 0.3em;box-sizing: border-box;text-align: center;}#sk-container-id-1 label.sk-toggleable__label-arrow:before {content: \"▸\";float: left;margin-right: 0.25em;color: #696969;}#sk-container-id-1 label.sk-toggleable__label-arrow:hover:before {color: black;}#sk-container-id-1 div.sk-estimator:hover label.sk-toggleable__label-arrow:before {color: black;}#sk-container-id-1 div.sk-toggleable__content {max-height: 0;max-width: 0;overflow: hidden;text-align: left;background-color: #f0f8ff;}#sk-container-id-1 div.sk-toggleable__content pre {margin: 0.2em;color: black;border-radius: 0.25em;background-color: #f0f8ff;}#sk-container-id-1 input.sk-toggleable__control:checked~div.sk-toggleable__content {max-height: 200px;max-width: 100%;overflow: auto;}#sk-container-id-1 input.sk-toggleable__control:checked~label.sk-toggleable__label-arrow:before {content: \"▾\";}#sk-container-id-1 div.sk-estimator input.sk-toggleable__control:checked~label.sk-toggleable__label {background-color: #d4ebff;}#sk-container-id-1 div.sk-label input.sk-toggleable__control:checked~label.sk-toggleable__label {background-color: #d4ebff;}#sk-container-id-1 input.sk-hidden--visually {border: 0;clip: rect(1px 1px 1px 1px);clip: rect(1px, 1px, 1px, 1px);height: 1px;margin: -1px;overflow: hidden;padding: 0;position: absolute;width: 1px;}#sk-container-id-1 div.sk-estimator {font-family: monospace;background-color: #f0f8ff;border: 1px dotted black;border-radius: 0.25em;box-sizing: border-box;margin-bottom: 0.5em;}#sk-container-id-1 div.sk-estimator:hover {background-color: #d4ebff;}#sk-container-id-1 div.sk-parallel-item::after {content: \"\";width: 100%;border-bottom: 1px solid gray;flex-grow: 1;}#sk-container-id-1 div.sk-label:hover label.sk-toggleable__label {background-color: #d4ebff;}#sk-container-id-1 div.sk-serial::before {content: \"\";position: absolute;border-left: 1px solid gray;box-sizing: border-box;top: 0;bottom: 0;left: 50%;z-index: 0;}#sk-container-id-1 div.sk-serial {display: flex;flex-direction: column;align-items: center;background-color: white;padding-right: 0.2em;padding-left: 0.2em;position: relative;}#sk-container-id-1 div.sk-item {position: relative;z-index: 1;}#sk-container-id-1 div.sk-parallel {display: flex;align-items: stretch;justify-content: center;background-color: white;position: relative;}#sk-container-id-1 div.sk-item::before, #sk-container-id-1 div.sk-parallel-item::before {content: \"\";position: absolute;border-left: 1px solid gray;box-sizing: border-box;top: 0;bottom: 0;left: 50%;z-index: -1;}#sk-container-id-1 div.sk-parallel-item {display: flex;flex-direction: column;z-index: 1;position: relative;background-color: white;}#sk-container-id-1 div.sk-parallel-item:first-child::after {align-self: flex-end;width: 50%;}#sk-container-id-1 div.sk-parallel-item:last-child::after {align-self: flex-start;width: 50%;}#sk-container-id-1 div.sk-parallel-item:only-child::after {width: 0;}#sk-container-id-1 div.sk-dashed-wrapped {border: 1px dashed gray;margin: 0 0.4em 0.5em 0.4em;box-sizing: border-box;padding-bottom: 0.4em;background-color: white;}#sk-container-id-1 div.sk-label label {font-family: monospace;font-weight: bold;display: inline-block;line-height: 1.2em;}#sk-container-id-1 div.sk-label-container {text-align: center;}#sk-container-id-1 div.sk-container {/* jupyter's `normalize.less` sets `[hidden] { display: none; }` but bootstrap.min.css set `[hidden] { display: none !important; }` so we also need the `!important` here to be able to override the default hidden behavior on the sphinx rendered scikit-learn.org. See: https://github.com/scikit-learn/scikit-learn/issues/21755 */display: inline-block !important;position: relative;}#sk-container-id-1 div.sk-text-repr-fallback {display: none;}</style><div id=\"sk-container-id-1\" class=\"sk-top-container\"><div class=\"sk-text-repr-fallback\"><pre>LinearRegression()</pre><b>In a Jupyter environment, please rerun this cell to show the HTML representation or trust the notebook. <br />On GitHub, the HTML representation is unable to render, please try loading this page with nbviewer.org.</b></div><div class=\"sk-container\" hidden><div class=\"sk-item\"><div class=\"sk-estimator sk-toggleable\"><input class=\"sk-toggleable__control sk-hidden--visually\" id=\"sk-estimator-id-1\" type=\"checkbox\" checked><label for=\"sk-estimator-id-1\" class=\"sk-toggleable__label sk-toggleable__label-arrow\">LinearRegression</label><div class=\"sk-toggleable__content\"><pre>LinearRegression()</pre></div></div></div></div></div>"
      ],
      "text/plain": [
       "LinearRegression()"
      ]
     },
     "execution_count": 28,
     "metadata": {},
     "output_type": "execute_result"
    }
   ],
   "source": [
    "# Step 3: Fit the model to the training data\n",
    "model.fit(X_train, y_train)"
   ]
  },
  {
   "cell_type": "code",
   "execution_count": 29,
   "metadata": {
    "tags": []
   },
   "outputs": [],
   "source": [
    "# Step 4: Obtain model predictions from the test data\n",
    "y_predicted = model.predict(X_test)"
   ]
  },
  {
   "cell_type": "code",
   "execution_count": 30,
   "metadata": {
    "tags": []
   },
   "outputs": [
    {
     "data": {
      "text/plain": [
       "0.7716008045388973"
      ]
     },
     "execution_count": 30,
     "metadata": {},
     "output_type": "execute_result"
    }
   ],
   "source": [
    "# Step 5: Compare y_test to predictions and obtain performance metrics (r^2 score)\n",
    "r2_score(y_test, y_predicted)"
   ]
  },
  {
   "cell_type": "markdown",
   "metadata": {},
   "source": [
    "### Exploring the traditional method of fraud detection\n",
    "\n",
    "In this exercise you're going to try finding fraud cases in our credit card dataset the *\"old way\"*. First you'll define threshold values using common statistics, to split fraud and non-fraud. Then, use those thresholds on your features to detect fraud. This is common practice within fraud analytics teams.\n",
    "\n",
    "Statistical thresholds are often determined by looking at the **mean** values of observations. Let's start this exercise by checking whether feature **means differ between fraud and non-fraud cases**. Then, you'll use that information to create common sense thresholds. Finally, you'll check how well this performs in fraud detection.\n",
    "\n",
    "`pandas` has already been imported as `pd`.\n",
    "\n",
    "**Instructions**\n",
    "\n",
    "* Use `groupby()` to group `df` on `Class` and obtain the mean of the features.\n",
    "* Create the condition `V1` smaller than -3, and `V3` smaller than -5 as a condition to flag fraud cases.\n",
    "* As a measure of performance, use the `crosstab` function from `pandas` to compare our flagged fraud cases to actual fraud cases."
   ]
  },
  {
   "cell_type": "code",
   "execution_count": 31,
   "metadata": {
    "tags": []
   },
   "outputs": [],
   "source": [
    "df.drop(['Unnamed: 0'], axis=1, inplace=True)"
   ]
  },
  {
   "cell_type": "code",
   "execution_count": 32,
   "metadata": {
    "tags": []
   },
   "outputs": [
    {
     "data": {
      "text/html": [
       "<div>\n",
       "<style scoped>\n",
       "    .dataframe tbody tr th:only-of-type {\n",
       "        vertical-align: middle;\n",
       "    }\n",
       "\n",
       "    .dataframe tbody tr th {\n",
       "        vertical-align: top;\n",
       "    }\n",
       "\n",
       "    .dataframe thead th {\n",
       "        text-align: right;\n",
       "    }\n",
       "</style>\n",
       "<table border=\"1\" class=\"dataframe\">\n",
       "  <thead>\n",
       "    <tr style=\"text-align: right;\">\n",
       "      <th></th>\n",
       "      <th>V1</th>\n",
       "      <th>V2</th>\n",
       "      <th>V3</th>\n",
       "      <th>V4</th>\n",
       "      <th>V5</th>\n",
       "      <th>V6</th>\n",
       "      <th>V7</th>\n",
       "      <th>V8</th>\n",
       "      <th>V9</th>\n",
       "      <th>V10</th>\n",
       "      <th>V11</th>\n",
       "      <th>V12</th>\n",
       "      <th>V13</th>\n",
       "      <th>V14</th>\n",
       "      <th>V15</th>\n",
       "      <th>V16</th>\n",
       "      <th>V17</th>\n",
       "      <th>V18</th>\n",
       "      <th>V19</th>\n",
       "      <th>V20</th>\n",
       "      <th>V21</th>\n",
       "      <th>V22</th>\n",
       "      <th>V23</th>\n",
       "      <th>V24</th>\n",
       "      <th>V25</th>\n",
       "      <th>V26</th>\n",
       "      <th>V27</th>\n",
       "      <th>V28</th>\n",
       "      <th>Amount</th>\n",
       "    </tr>\n",
       "    <tr>\n",
       "      <th>Class</th>\n",
       "      <th></th>\n",
       "      <th></th>\n",
       "      <th></th>\n",
       "      <th></th>\n",
       "      <th></th>\n",
       "      <th></th>\n",
       "      <th></th>\n",
       "      <th></th>\n",
       "      <th></th>\n",
       "      <th></th>\n",
       "      <th></th>\n",
       "      <th></th>\n",
       "      <th></th>\n",
       "      <th></th>\n",
       "      <th></th>\n",
       "      <th></th>\n",
       "      <th></th>\n",
       "      <th></th>\n",
       "      <th></th>\n",
       "      <th></th>\n",
       "      <th></th>\n",
       "      <th></th>\n",
       "      <th></th>\n",
       "      <th></th>\n",
       "      <th></th>\n",
       "      <th></th>\n",
       "      <th></th>\n",
       "      <th></th>\n",
       "      <th></th>\n",
       "    </tr>\n",
       "  </thead>\n",
       "  <tbody>\n",
       "    <tr>\n",
       "      <th>0</th>\n",
       "      <td>0.035030</td>\n",
       "      <td>0.011553</td>\n",
       "      <td>0.037444</td>\n",
       "      <td>-0.045760</td>\n",
       "      <td>-0.013825</td>\n",
       "      <td>-0.030885</td>\n",
       "      <td>0.014315</td>\n",
       "      <td>-0.022432</td>\n",
       "      <td>-0.002227</td>\n",
       "      <td>0.001667</td>\n",
       "      <td>-0.004511</td>\n",
       "      <td>0.017434</td>\n",
       "      <td>0.004204</td>\n",
       "      <td>0.006542</td>\n",
       "      <td>-0.026640</td>\n",
       "      <td>0.001190</td>\n",
       "      <td>0.004481</td>\n",
       "      <td>-0.010892</td>\n",
       "      <td>-0.016554</td>\n",
       "      <td>-0.002896</td>\n",
       "      <td>-0.010583</td>\n",
       "      <td>-0.010206</td>\n",
       "      <td>-0.003305</td>\n",
       "      <td>-0.000918</td>\n",
       "      <td>-0.002613</td>\n",
       "      <td>-0.004651</td>\n",
       "      <td>-0.009584</td>\n",
       "      <td>0.002414</td>\n",
       "      <td>85.843714</td>\n",
       "    </tr>\n",
       "    <tr>\n",
       "      <th>1</th>\n",
       "      <td>-4.985211</td>\n",
       "      <td>3.321539</td>\n",
       "      <td>-7.293909</td>\n",
       "      <td>4.827952</td>\n",
       "      <td>-3.326587</td>\n",
       "      <td>-1.591882</td>\n",
       "      <td>-5.776541</td>\n",
       "      <td>1.395058</td>\n",
       "      <td>-2.537728</td>\n",
       "      <td>-5.917934</td>\n",
       "      <td>4.020563</td>\n",
       "      <td>-7.032865</td>\n",
       "      <td>-0.104179</td>\n",
       "      <td>-7.100399</td>\n",
       "      <td>-0.120265</td>\n",
       "      <td>-4.658854</td>\n",
       "      <td>-7.589219</td>\n",
       "      <td>-2.650436</td>\n",
       "      <td>0.894255</td>\n",
       "      <td>0.194580</td>\n",
       "      <td>0.703182</td>\n",
       "      <td>0.069065</td>\n",
       "      <td>-0.088374</td>\n",
       "      <td>-0.029425</td>\n",
       "      <td>-0.073336</td>\n",
       "      <td>-0.023377</td>\n",
       "      <td>0.380072</td>\n",
       "      <td>0.009304</td>\n",
       "      <td>113.469000</td>\n",
       "    </tr>\n",
       "  </tbody>\n",
       "</table>\n",
       "</div>"
      ],
      "text/plain": [
       "             V1        V2        V3        V4        V5        V6        V7  \\\n",
       "Class                                                                         \n",
       "0      0.035030  0.011553  0.037444 -0.045760 -0.013825 -0.030885  0.014315   \n",
       "1     -4.985211  3.321539 -7.293909  4.827952 -3.326587 -1.591882 -5.776541   \n",
       "\n",
       "             V8        V9       V10       V11       V12       V13       V14  \\\n",
       "Class                                                                         \n",
       "0     -0.022432 -0.002227  0.001667 -0.004511  0.017434  0.004204  0.006542   \n",
       "1      1.395058 -2.537728 -5.917934  4.020563 -7.032865 -0.104179 -7.100399   \n",
       "\n",
       "            V15       V16       V17       V18       V19       V20       V21  \\\n",
       "Class                                                                         \n",
       "0     -0.026640  0.001190  0.004481 -0.010892 -0.016554 -0.002896 -0.010583   \n",
       "1     -0.120265 -4.658854 -7.589219 -2.650436  0.894255  0.194580  0.703182   \n",
       "\n",
       "            V22       V23       V24       V25       V26       V27       V28  \\\n",
       "Class                                                                         \n",
       "0     -0.010206 -0.003305 -0.000918 -0.002613 -0.004651 -0.009584  0.002414   \n",
       "1      0.069065 -0.088374 -0.029425 -0.073336 -0.023377  0.380072  0.009304   \n",
       "\n",
       "           Amount  \n",
       "Class              \n",
       "0       85.843714  \n",
       "1      113.469000  "
      ]
     },
     "execution_count": 32,
     "metadata": {},
     "output_type": "execute_result"
    }
   ],
   "source": [
    "df.groupby('Class').mean()"
   ]
  },
  {
   "cell_type": "code",
   "execution_count": 33,
   "metadata": {
    "tags": []
   },
   "outputs": [],
   "source": [
    "df['flag_as_fraud'] = np.where(np.logical_and(df.V1 < -3, df.V3 < -5), 1, 0)"
   ]
  },
  {
   "cell_type": "code",
   "execution_count": 34,
   "metadata": {
    "tags": []
   },
   "outputs": [
    {
     "data": {
      "text/html": [
       "<div>\n",
       "<style scoped>\n",
       "    .dataframe tbody tr th:only-of-type {\n",
       "        vertical-align: middle;\n",
       "    }\n",
       "\n",
       "    .dataframe tbody tr th {\n",
       "        vertical-align: top;\n",
       "    }\n",
       "\n",
       "    .dataframe thead th {\n",
       "        text-align: right;\n",
       "    }\n",
       "</style>\n",
       "<table border=\"1\" class=\"dataframe\">\n",
       "  <thead>\n",
       "    <tr style=\"text-align: right;\">\n",
       "      <th>Flagged Fraud</th>\n",
       "      <th>0</th>\n",
       "      <th>1</th>\n",
       "    </tr>\n",
       "    <tr>\n",
       "      <th>Actual Fraud</th>\n",
       "      <th></th>\n",
       "      <th></th>\n",
       "    </tr>\n",
       "  </thead>\n",
       "  <tbody>\n",
       "    <tr>\n",
       "      <th>0</th>\n",
       "      <td>4984</td>\n",
       "      <td>16</td>\n",
       "    </tr>\n",
       "    <tr>\n",
       "      <th>1</th>\n",
       "      <td>28</td>\n",
       "      <td>22</td>\n",
       "    </tr>\n",
       "  </tbody>\n",
       "</table>\n",
       "</div>"
      ],
      "text/plain": [
       "Flagged Fraud     0   1\n",
       "Actual Fraud           \n",
       "0              4984  16\n",
       "1                28  22"
      ]
     },
     "execution_count": 34,
     "metadata": {},
     "output_type": "execute_result"
    }
   ],
   "source": [
    "pd.crosstab(df.Class, df.flag_as_fraud, rownames=['Actual Fraud'], colnames=['Flagged Fraud'])"
   ]
  },
  {
   "cell_type": "markdown",
   "metadata": {},
   "source": [
    "**With this rule, 22 out of 50 fraud cases are detected, 28 are not detected, and 16 false positives are identified.**"
   ]
  },
  {
   "cell_type": "markdown",
   "metadata": {},
   "source": [
    "### Using ML classification to catch fraud\n",
    "\n",
    "In this exercise you'll see what happens when you use a simple machine learning model on our credit card data instead.\n",
    "\n",
    "Do you think you can beat those results? Remember, you've predicted *22 out of 50* fraud cases, and had *16 false positives*.\n",
    "\n",
    "So with that in mind, let's implement a **Logistic Regression** model. If you have taken the class on supervised learning in Python, you should be familiar with this model. If not, you might want to refresh that at this point. But don't worry, you'll be guided through the structure of the machine learning model.\n",
    "\n",
    "The `X` and `y` variables are available in your workspace.\n",
    "\n",
    "**Instructions**\n",
    "\n",
    "* Split `X` and `y` into training and test data, keeping 30% of the data for testing.\n",
    "* Fit your model to your training data.\n",
    "* Obtain the model predicted labels by running `model.predict` on `X_test`.\n",
    "* Obtain a classification comparing `y_test` with `predicted`, and use the given confusion matrix to check your results."
   ]
  },
  {
   "cell_type": "code",
   "execution_count": 35,
   "metadata": {
    "tags": []
   },
   "outputs": [],
   "source": [
    "# Create the training and testing sets\n",
    "X_train, X_test, y_train, y_test = train_test_split(X, y, test_size=0.3, random_state=0)"
   ]
  },
  {
   "cell_type": "code",
   "execution_count": 36,
   "metadata": {
    "tags": []
   },
   "outputs": [
    {
     "data": {
      "text/html": [
       "<style>#sk-container-id-2 {color: black;background-color: white;}#sk-container-id-2 pre{padding: 0;}#sk-container-id-2 div.sk-toggleable {background-color: white;}#sk-container-id-2 label.sk-toggleable__label {cursor: pointer;display: block;width: 100%;margin-bottom: 0;padding: 0.3em;box-sizing: border-box;text-align: center;}#sk-container-id-2 label.sk-toggleable__label-arrow:before {content: \"▸\";float: left;margin-right: 0.25em;color: #696969;}#sk-container-id-2 label.sk-toggleable__label-arrow:hover:before {color: black;}#sk-container-id-2 div.sk-estimator:hover label.sk-toggleable__label-arrow:before {color: black;}#sk-container-id-2 div.sk-toggleable__content {max-height: 0;max-width: 0;overflow: hidden;text-align: left;background-color: #f0f8ff;}#sk-container-id-2 div.sk-toggleable__content pre {margin: 0.2em;color: black;border-radius: 0.25em;background-color: #f0f8ff;}#sk-container-id-2 input.sk-toggleable__control:checked~div.sk-toggleable__content {max-height: 200px;max-width: 100%;overflow: auto;}#sk-container-id-2 input.sk-toggleable__control:checked~label.sk-toggleable__label-arrow:before {content: \"▾\";}#sk-container-id-2 div.sk-estimator input.sk-toggleable__control:checked~label.sk-toggleable__label {background-color: #d4ebff;}#sk-container-id-2 div.sk-label input.sk-toggleable__control:checked~label.sk-toggleable__label {background-color: #d4ebff;}#sk-container-id-2 input.sk-hidden--visually {border: 0;clip: rect(1px 1px 1px 1px);clip: rect(1px, 1px, 1px, 1px);height: 1px;margin: -1px;overflow: hidden;padding: 0;position: absolute;width: 1px;}#sk-container-id-2 div.sk-estimator {font-family: monospace;background-color: #f0f8ff;border: 1px dotted black;border-radius: 0.25em;box-sizing: border-box;margin-bottom: 0.5em;}#sk-container-id-2 div.sk-estimator:hover {background-color: #d4ebff;}#sk-container-id-2 div.sk-parallel-item::after {content: \"\";width: 100%;border-bottom: 1px solid gray;flex-grow: 1;}#sk-container-id-2 div.sk-label:hover label.sk-toggleable__label {background-color: #d4ebff;}#sk-container-id-2 div.sk-serial::before {content: \"\";position: absolute;border-left: 1px solid gray;box-sizing: border-box;top: 0;bottom: 0;left: 50%;z-index: 0;}#sk-container-id-2 div.sk-serial {display: flex;flex-direction: column;align-items: center;background-color: white;padding-right: 0.2em;padding-left: 0.2em;position: relative;}#sk-container-id-2 div.sk-item {position: relative;z-index: 1;}#sk-container-id-2 div.sk-parallel {display: flex;align-items: stretch;justify-content: center;background-color: white;position: relative;}#sk-container-id-2 div.sk-item::before, #sk-container-id-2 div.sk-parallel-item::before {content: \"\";position: absolute;border-left: 1px solid gray;box-sizing: border-box;top: 0;bottom: 0;left: 50%;z-index: -1;}#sk-container-id-2 div.sk-parallel-item {display: flex;flex-direction: column;z-index: 1;position: relative;background-color: white;}#sk-container-id-2 div.sk-parallel-item:first-child::after {align-self: flex-end;width: 50%;}#sk-container-id-2 div.sk-parallel-item:last-child::after {align-self: flex-start;width: 50%;}#sk-container-id-2 div.sk-parallel-item:only-child::after {width: 0;}#sk-container-id-2 div.sk-dashed-wrapped {border: 1px dashed gray;margin: 0 0.4em 0.5em 0.4em;box-sizing: border-box;padding-bottom: 0.4em;background-color: white;}#sk-container-id-2 div.sk-label label {font-family: monospace;font-weight: bold;display: inline-block;line-height: 1.2em;}#sk-container-id-2 div.sk-label-container {text-align: center;}#sk-container-id-2 div.sk-container {/* jupyter's `normalize.less` sets `[hidden] { display: none; }` but bootstrap.min.css set `[hidden] { display: none !important; }` so we also need the `!important` here to be able to override the default hidden behavior on the sphinx rendered scikit-learn.org. See: https://github.com/scikit-learn/scikit-learn/issues/21755 */display: inline-block !important;position: relative;}#sk-container-id-2 div.sk-text-repr-fallback {display: none;}</style><div id=\"sk-container-id-2\" class=\"sk-top-container\"><div class=\"sk-text-repr-fallback\"><pre>LogisticRegression(solver=&#x27;liblinear&#x27;)</pre><b>In a Jupyter environment, please rerun this cell to show the HTML representation or trust the notebook. <br />On GitHub, the HTML representation is unable to render, please try loading this page with nbviewer.org.</b></div><div class=\"sk-container\" hidden><div class=\"sk-item\"><div class=\"sk-estimator sk-toggleable\"><input class=\"sk-toggleable__control sk-hidden--visually\" id=\"sk-estimator-id-2\" type=\"checkbox\" checked><label for=\"sk-estimator-id-2\" class=\"sk-toggleable__label sk-toggleable__label-arrow\">LogisticRegression</label><div class=\"sk-toggleable__content\"><pre>LogisticRegression(solver=&#x27;liblinear&#x27;)</pre></div></div></div></div></div>"
      ],
      "text/plain": [
       "LogisticRegression(solver='liblinear')"
      ]
     },
     "execution_count": 36,
     "metadata": {},
     "output_type": "execute_result"
    }
   ],
   "source": [
    "# Fit a logistic regression model to our data\n",
    "model = LogisticRegression(solver='liblinear')\n",
    "model.fit(X_train, y_train)"
   ]
  },
  {
   "cell_type": "code",
   "execution_count": 37,
   "metadata": {
    "tags": []
   },
   "outputs": [],
   "source": [
    "# Obtain model predictions\n",
    "predicted = model.predict(X_test)"
   ]
  },
  {
   "cell_type": "code",
   "execution_count": 38,
   "metadata": {
    "tags": []
   },
   "outputs": [
    {
     "name": "stdout",
     "output_type": "stream",
     "text": [
      "Classification report:\n",
      "               precision    recall  f1-score   support\n",
      "\n",
      "           0       1.00      1.00      1.00      1505\n",
      "           1       0.89      0.80      0.84        10\n",
      "\n",
      "    accuracy                           1.00      1515\n",
      "   macro avg       0.94      0.90      0.92      1515\n",
      "weighted avg       1.00      1.00      1.00      1515\n",
      "\n",
      "Confusion matrix:\n",
      " [[1504    1]\n",
      " [   2    8]]\n"
     ]
    }
   ],
   "source": [
    "# Print the classifcation report and confusion matrix\n",
    "print('Classification report:\\n', classification_report(y_test, predicted))\n",
    "conf_mat = confusion_matrix(y_true=y_test, y_pred=predicted)\n",
    "print('Confusion matrix:\\n', conf_mat)"
   ]
  },
  {
   "cell_type": "markdown",
   "metadata": {},
   "source": [
    "**Do you think these results are better than the rules based model? We are getting far fewer false positives, so that's an improvement. Also, we're catching a higher percentage of fraud cases, so that is also better than before. Do you understand why we have fewer observations to look at in the confusion matrix? Remember we are using only our test data to calculate the model results on. We're comparing the crosstab on the full dataset from the last exercise, with a confusion matrix of only 30% of the total dataset, so that's where that difference comes from. In the next chapter, we'll dive deeper into understanding these model performance metrics. Let's now explore whether we can improve the prediction results even further with resampling methods.**"
   ]
  },
  {
   "cell_type": "markdown",
   "metadata": {},
   "source": [
    "### Logistic regression with SMOTE\n",
    "\n",
    "In this exercise, you're going to take the Logistic Regression model from the previous exercise, and combine that with a **SMOTE resampling method**. We'll show you how to do that efficiently by using a pipeline that combines the resampling method with the model in one go. First, you need to define the pipeline that you're going to use.\n",
    "\n",
    "**Instructions**\n",
    "\n",
    "* Import the `Pipeline` module from `imblearn`, this has been done for you.\n",
    "* Then define what you want to put into the pipeline, assign the `SMOTE` method with `borderline2` to `resampling`, and assign `LogisticRegression()` to the `model`.\n",
    "* Combine two steps in the `Pipeline()` function. You need to state you want to combine `resampling` with the `model` in the respective place in the argument. I show you how to do this."
   ]
  },
  {
   "cell_type": "code",
   "execution_count": 39,
   "metadata": {
    "tags": []
   },
   "outputs": [],
   "source": [
    "# Define which resampling method and which ML model to use in the pipeline\n",
    "# resampling = SMOTE(kind='borderline2')  # has been changed to BorderlineSMOTE\n",
    "resampling = BorderlineSMOTE()\n",
    "model = LogisticRegression(solver='liblinear')"
   ]
  },
  {
   "cell_type": "code",
   "execution_count": 40,
   "metadata": {
    "tags": []
   },
   "outputs": [],
   "source": [
    "pipeline = Pipeline([('SMOTE', resampling), ('Logistic Regression', model)])"
   ]
  },
  {
   "cell_type": "markdown",
   "metadata": {},
   "source": [
    "### Pipelining\n",
    "\n",
    "Now that you have our pipeline defined, aka **combining a logistic regression with a SMOTE method**, let's run it on the data. You can treat the pipeline as if it were a **single machine learning model**. Our data X and y are already defined, and the pipeline is defined in the previous exercise. Are you curious to find out what the model results are? Let's give it a try!\n",
    "\n",
    "**Instructions**\n",
    "\n",
    "* Split the data 'X'and 'y' into the training and test set. Set aside 30% of the data for a test set, and set the `random_state` to zero.\n",
    "* Fit your pipeline onto your training data and obtain the predictions by running the `pipeline.predict()` function on our `X_test` dataset."
   ]
  },
  {
   "cell_type": "code",
   "execution_count": 41,
   "metadata": {
    "tags": []
   },
   "outputs": [],
   "source": [
    "# Split your data X and y, into a training and a test set and fit the pipeline onto the training data\n",
    "X_train, X_test, y_train, y_test = train_test_split(X, y, test_size=0.3, random_state=0)"
   ]
  },
  {
   "cell_type": "code",
   "execution_count": 42,
   "metadata": {
    "tags": []
   },
   "outputs": [],
   "source": [
    "pipeline.fit(X_train, y_train) \n",
    "predicted = pipeline.predict(X_test)"
   ]
  },
  {
   "cell_type": "code",
   "execution_count": 43,
   "metadata": {
    "tags": []
   },
   "outputs": [
    {
     "name": "stdout",
     "output_type": "stream",
     "text": [
      "Classifcation report:\n",
      "               precision    recall  f1-score   support\n",
      "\n",
      "           0       1.00      1.00      1.00      1505\n",
      "           1       0.71      1.00      0.83        10\n",
      "\n",
      "    accuracy                           1.00      1515\n",
      "   macro avg       0.86      1.00      0.92      1515\n",
      "weighted avg       1.00      1.00      1.00      1515\n",
      "\n",
      "Confusion matrix:\n",
      " [[1501    4]\n",
      " [   0   10]]\n"
     ]
    }
   ],
   "source": [
    "# Obtain the results from the classification report and confusion matrix \n",
    "print('Classifcation report:\\n', classification_report(y_test, predicted))\n",
    "conf_mat = confusion_matrix(y_true=y_test, y_pred=predicted)\n",
    "print('Confusion matrix:\\n', conf_mat)"
   ]
  },
  {
   "cell_type": "markdown",
   "metadata": {},
   "source": [
    "**As you can see, the SMOTE slightly improves our results. We now manage to find all cases of fraud, but we have a slightly higher number of false positives, albeit only 7 cases. Remember, resampling doesn't necessarily lead to better results. When the fraud cases are very spread and scattered over the data, using SMOTE can introduce a bit of bias. Nearest neighbors aren't necessarily also fraud cases, so the synthetic samples might 'confuse' the model slightly. In the next chapters, we'll learn how to also adjust our machine learning models to better detect the minority fraud cases.**"
   ]
  },
  {
   "cell_type": "markdown",
   "metadata": {},
   "source": [
    "# Fraud detection using labeled data\n",
    "\n",
    "Learn how to flag fraudulent transactions with supervised learning. Use classifiers, adjust and compare them to find the most efficient fraud detection model."
   ]
  },
  {
   "cell_type": "markdown",
   "metadata": {},
   "source": [
    "## Review classification methods\n",
    "\n",
    "* Classification:\n",
    "    * The problem of identifying to which class a new observation belongs, on the basis of a training set of data containing observations whose class is known\n",
    "    * Goal: use known fraud cases to train a model to recognize new cases\n",
    "    * Classes are sometimes called targets, labels or categories\n",
    "    * Spam detection in email service providers can be identified as a classification problem\n",
    "        * Binary classification since there are only 2 classes, spam and not spam\n",
    "    * Fraud detection is also a binary classification prpoblem\n",
    "    * Patient diagnosis\n",
    "    * Classification problems normall have categorical output like yes/no, 1/0 or True/False\n",
    "    * Variable to predict: $$y\\in0,1$$\n",
    "        * 0: negative calss ('majority' normal cases)\n",
    "        * 1: positive class ('minority' fraud cases)"
   ]
  },
  {
   "cell_type": "markdown",
   "metadata": {},
   "source": [
    "#### Logistic Regression\n",
    "\n",
    "* Logistic Regression is one of the most used ML algorithms in binary classification\n",
    "* ![logistic regression](https://raw.githubusercontent.com/trenton3983/DataCamp/master/Images/fraud_detection/logistic_regression.JPG)\n",
    "* Can be adjusted reasonably well to work on imbalanced data...useful for fraud detection"
   ]
  },
  {
   "cell_type": "markdown",
   "metadata": {},
   "source": [
    "#### Neural Network\n",
    "\n",
    "* ![neural network](https://raw.githubusercontent.com/trenton3983/DataCamp/master/Images/fraud_detection/neural_network.JPG)\n",
    "* Can be used as classifiers for fraud detection\n",
    "* Capable of fitting highly non-linear models to the data\n",
    "* More complex to implement than other classifiers - not demonstrated here"
   ]
  },
  {
   "cell_type": "markdown",
   "metadata": {},
   "source": [
    "#### Decision Trees\n",
    "\n",
    "* ![decision tree](https://raw.githubusercontent.com/trenton3983/DataCamp/master/Images/fraud_detection/decision_tree.JPG)\n",
    "* Commonly used for fraud detection\n",
    "* Transparent results, easily interpreted by analysts\n",
    "* Decision trees are prone to overfit the data"
   ]
  },
  {
   "cell_type": "markdown",
   "metadata": {},
   "source": [
    "#### Random Forests\n",
    "\n",
    "* ![random forest](https://raw.githubusercontent.com/trenton3983/DataCamp/master/Images/fraud_detection/random_forest.JPG)\n",
    "* **Random Forests are a more robust option than a single decision tree**\n",
    "    * Construct a multitude of decision trees when training the model and outputting the class that is the mode or mean predicted class of the individual trees\n",
    "    * A random forest consists of a collection of trees on a random subset of features\n",
    "    * Final predictions are the combined results of those trees\n",
    "    * Random forests can handle complex data and are not prone to overfit\n",
    "    * They are interpretable by looking at feature importance, and can be adjusted to work well on highly imbalanced data\n",
    "    * Their drawback is they're computationally complex\n",
    "    * Very popular for fraud detection\n",
    "    * A Random Forest model will be optimized in the exercises\n",
    "    \n",
    "**Implementation:**\n",
    "\n",
    "```python\n",
    "from sklearn.ensemble import RandomForestClassifier\n",
    "model = RandomForestClassifier()\n",
    "model.fit(X_train, y_train)\n",
    "predicted = model.predict(X_test)\n",
    "print(f'Accuracy Score:\\n{accuracy_score(y_test, predicted)}')\n",
    "```"
   ]
  },
  {
   "cell_type": "markdown",
   "metadata": {},
   "source": [
    "### Natural hit rate\n",
    "\n",
    "In this exercise, you'll again use credit card transaction data. The features and labels are similar to the data in the previous chapter, and the **data is heavily imbalanced**. We've given you features `X` and labels `y` to work with already, which are both numpy arrays.\n",
    "\n",
    "First you need to explore how prevalent fraud is in the dataset, to understand what the **\"natural accuracy\"** is, if we were to predict everything as non-fraud. It's is important to understand which level of \"accuracy\" you need to \"beat\" in order to get a **better prediction than by doing nothing**. In the following exercises, you'll create our first random forest classifier for fraud detection. That will serve as the **\"baseline\"** model that you're going to try to improve in the upcoming exercises.\n",
    "\n",
    "**Instructions**\n",
    "\n",
    "* Count the total number of observations by taking the length of your labels `y`.\n",
    "* Count the non-fraud cases in our data by using list comprehension on `y`; remember `y` is a NumPy array so `.value_counts()` cannot be used in this case.\n",
    "* Calculate the natural accuracy by dividing the non-fraud cases over the total observations.\n",
    "* Print the percentage."
   ]
  },
  {
   "cell_type": "code",
   "execution_count": 44,
   "metadata": {
    "tags": []
   },
   "outputs": [
    {
     "data": {
      "text/html": [
       "<div>\n",
       "<style scoped>\n",
       "    .dataframe tbody tr th:only-of-type {\n",
       "        vertical-align: middle;\n",
       "    }\n",
       "\n",
       "    .dataframe tbody tr th {\n",
       "        vertical-align: top;\n",
       "    }\n",
       "\n",
       "    .dataframe thead th {\n",
       "        text-align: right;\n",
       "    }\n",
       "</style>\n",
       "<table border=\"1\" class=\"dataframe\">\n",
       "  <thead>\n",
       "    <tr style=\"text-align: right;\">\n",
       "      <th></th>\n",
       "      <th>Unnamed: 0</th>\n",
       "      <th>V1</th>\n",
       "      <th>V2</th>\n",
       "      <th>V3</th>\n",
       "      <th>V4</th>\n",
       "      <th>V5</th>\n",
       "      <th>V6</th>\n",
       "      <th>V7</th>\n",
       "      <th>V8</th>\n",
       "      <th>V9</th>\n",
       "      <th>V10</th>\n",
       "      <th>V11</th>\n",
       "      <th>V12</th>\n",
       "      <th>V13</th>\n",
       "      <th>V14</th>\n",
       "      <th>V15</th>\n",
       "      <th>V16</th>\n",
       "      <th>V17</th>\n",
       "      <th>V18</th>\n",
       "      <th>V19</th>\n",
       "      <th>V20</th>\n",
       "      <th>V21</th>\n",
       "      <th>V22</th>\n",
       "      <th>V23</th>\n",
       "      <th>V24</th>\n",
       "      <th>V25</th>\n",
       "      <th>V26</th>\n",
       "      <th>V27</th>\n",
       "      <th>V28</th>\n",
       "      <th>Amount</th>\n",
       "      <th>Class</th>\n",
       "    </tr>\n",
       "  </thead>\n",
       "  <tbody>\n",
       "    <tr>\n",
       "      <th>0</th>\n",
       "      <td>221547</td>\n",
       "      <td>-1.191668</td>\n",
       "      <td>0.428409</td>\n",
       "      <td>1.640028</td>\n",
       "      <td>-1.848859</td>\n",
       "      <td>-0.870903</td>\n",
       "      <td>-0.204849</td>\n",
       "      <td>-0.385675</td>\n",
       "      <td>0.352793</td>\n",
       "      <td>-1.098301</td>\n",
       "      <td>-0.334597</td>\n",
       "      <td>-0.679089</td>\n",
       "      <td>-0.039671</td>\n",
       "      <td>1.372661</td>\n",
       "      <td>-0.732001</td>\n",
       "      <td>-0.344528</td>\n",
       "      <td>1.024751</td>\n",
       "      <td>0.380209</td>\n",
       "      <td>-1.087349</td>\n",
       "      <td>0.364507</td>\n",
       "      <td>0.051924</td>\n",
       "      <td>0.507173</td>\n",
       "      <td>1.292565</td>\n",
       "      <td>-0.467752</td>\n",
       "      <td>1.244887</td>\n",
       "      <td>0.697707</td>\n",
       "      <td>0.059375</td>\n",
       "      <td>-0.319964</td>\n",
       "      <td>-0.017444</td>\n",
       "      <td>27.44</td>\n",
       "      <td>0</td>\n",
       "    </tr>\n",
       "    <tr>\n",
       "      <th>1</th>\n",
       "      <td>184524</td>\n",
       "      <td>1.966614</td>\n",
       "      <td>-0.450087</td>\n",
       "      <td>-1.228586</td>\n",
       "      <td>0.142873</td>\n",
       "      <td>-0.150627</td>\n",
       "      <td>-0.543590</td>\n",
       "      <td>-0.076217</td>\n",
       "      <td>-0.108390</td>\n",
       "      <td>0.973310</td>\n",
       "      <td>-0.029903</td>\n",
       "      <td>0.279973</td>\n",
       "      <td>0.885685</td>\n",
       "      <td>-0.583912</td>\n",
       "      <td>0.322019</td>\n",
       "      <td>-1.065335</td>\n",
       "      <td>-0.340285</td>\n",
       "      <td>-0.385399</td>\n",
       "      <td>0.216554</td>\n",
       "      <td>0.675646</td>\n",
       "      <td>-0.190851</td>\n",
       "      <td>0.124055</td>\n",
       "      <td>0.564916</td>\n",
       "      <td>-0.039331</td>\n",
       "      <td>-0.283904</td>\n",
       "      <td>0.186400</td>\n",
       "      <td>0.192932</td>\n",
       "      <td>-0.039155</td>\n",
       "      <td>-0.071314</td>\n",
       "      <td>35.95</td>\n",
       "      <td>0</td>\n",
       "    </tr>\n",
       "    <tr>\n",
       "      <th>2</th>\n",
       "      <td>91201</td>\n",
       "      <td>1.528452</td>\n",
       "      <td>-1.296191</td>\n",
       "      <td>-0.890677</td>\n",
       "      <td>-2.504028</td>\n",
       "      <td>0.803202</td>\n",
       "      <td>3.350793</td>\n",
       "      <td>-1.633016</td>\n",
       "      <td>0.815350</td>\n",
       "      <td>-1.884692</td>\n",
       "      <td>1.465259</td>\n",
       "      <td>-0.188235</td>\n",
       "      <td>-0.976779</td>\n",
       "      <td>0.560550</td>\n",
       "      <td>-0.250847</td>\n",
       "      <td>0.936115</td>\n",
       "      <td>0.136409</td>\n",
       "      <td>-0.078251</td>\n",
       "      <td>0.355086</td>\n",
       "      <td>0.127756</td>\n",
       "      <td>-0.163982</td>\n",
       "      <td>-0.412088</td>\n",
       "      <td>-1.017485</td>\n",
       "      <td>0.129566</td>\n",
       "      <td>0.948048</td>\n",
       "      <td>0.287826</td>\n",
       "      <td>-0.396592</td>\n",
       "      <td>0.042997</td>\n",
       "      <td>0.025853</td>\n",
       "      <td>28.40</td>\n",
       "      <td>0</td>\n",
       "    </tr>\n",
       "    <tr>\n",
       "      <th>3</th>\n",
       "      <td>26115</td>\n",
       "      <td>-0.774614</td>\n",
       "      <td>1.100916</td>\n",
       "      <td>0.679080</td>\n",
       "      <td>1.034016</td>\n",
       "      <td>0.168633</td>\n",
       "      <td>0.874582</td>\n",
       "      <td>0.209454</td>\n",
       "      <td>0.770550</td>\n",
       "      <td>-0.558106</td>\n",
       "      <td>-0.165442</td>\n",
       "      <td>0.017562</td>\n",
       "      <td>0.285377</td>\n",
       "      <td>-0.818739</td>\n",
       "      <td>0.637991</td>\n",
       "      <td>-0.370124</td>\n",
       "      <td>-0.605148</td>\n",
       "      <td>0.275686</td>\n",
       "      <td>0.246362</td>\n",
       "      <td>1.331927</td>\n",
       "      <td>0.080978</td>\n",
       "      <td>0.011158</td>\n",
       "      <td>0.146017</td>\n",
       "      <td>-0.130401</td>\n",
       "      <td>-0.848815</td>\n",
       "      <td>0.005698</td>\n",
       "      <td>-0.183295</td>\n",
       "      <td>0.282940</td>\n",
       "      <td>0.123856</td>\n",
       "      <td>43.20</td>\n",
       "      <td>0</td>\n",
       "    </tr>\n",
       "    <tr>\n",
       "      <th>4</th>\n",
       "      <td>201292</td>\n",
       "      <td>-1.075860</td>\n",
       "      <td>1.361160</td>\n",
       "      <td>1.496972</td>\n",
       "      <td>2.242604</td>\n",
       "      <td>1.314751</td>\n",
       "      <td>0.272787</td>\n",
       "      <td>1.005246</td>\n",
       "      <td>0.132932</td>\n",
       "      <td>-1.558317</td>\n",
       "      <td>0.484216</td>\n",
       "      <td>-1.967998</td>\n",
       "      <td>-1.818338</td>\n",
       "      <td>-2.036184</td>\n",
       "      <td>0.346962</td>\n",
       "      <td>-1.161316</td>\n",
       "      <td>1.017093</td>\n",
       "      <td>-0.926787</td>\n",
       "      <td>0.183965</td>\n",
       "      <td>-2.102868</td>\n",
       "      <td>-0.354008</td>\n",
       "      <td>0.254485</td>\n",
       "      <td>0.530692</td>\n",
       "      <td>-0.651119</td>\n",
       "      <td>0.626389</td>\n",
       "      <td>1.040212</td>\n",
       "      <td>0.249501</td>\n",
       "      <td>-0.146745</td>\n",
       "      <td>0.029714</td>\n",
       "      <td>10.59</td>\n",
       "      <td>0</td>\n",
       "    </tr>\n",
       "  </tbody>\n",
       "</table>\n",
       "</div>"
      ],
      "text/plain": [
       "   Unnamed: 0        V1        V2        V3        V4        V5        V6  \\\n",
       "0      221547 -1.191668  0.428409  1.640028 -1.848859 -0.870903 -0.204849   \n",
       "1      184524  1.966614 -0.450087 -1.228586  0.142873 -0.150627 -0.543590   \n",
       "2       91201  1.528452 -1.296191 -0.890677 -2.504028  0.803202  3.350793   \n",
       "3       26115 -0.774614  1.100916  0.679080  1.034016  0.168633  0.874582   \n",
       "4      201292 -1.075860  1.361160  1.496972  2.242604  1.314751  0.272787   \n",
       "\n",
       "         V7        V8        V9       V10       V11       V12       V13  \\\n",
       "0 -0.385675  0.352793 -1.098301 -0.334597 -0.679089 -0.039671  1.372661   \n",
       "1 -0.076217 -0.108390  0.973310 -0.029903  0.279973  0.885685 -0.583912   \n",
       "2 -1.633016  0.815350 -1.884692  1.465259 -0.188235 -0.976779  0.560550   \n",
       "3  0.209454  0.770550 -0.558106 -0.165442  0.017562  0.285377 -0.818739   \n",
       "4  1.005246  0.132932 -1.558317  0.484216 -1.967998 -1.818338 -2.036184   \n",
       "\n",
       "        V14       V15       V16       V17       V18       V19       V20  \\\n",
       "0 -0.732001 -0.344528  1.024751  0.380209 -1.087349  0.364507  0.051924   \n",
       "1  0.322019 -1.065335 -0.340285 -0.385399  0.216554  0.675646 -0.190851   \n",
       "2 -0.250847  0.936115  0.136409 -0.078251  0.355086  0.127756 -0.163982   \n",
       "3  0.637991 -0.370124 -0.605148  0.275686  0.246362  1.331927  0.080978   \n",
       "4  0.346962 -1.161316  1.017093 -0.926787  0.183965 -2.102868 -0.354008   \n",
       "\n",
       "        V21       V22       V23       V24       V25       V26       V27  \\\n",
       "0  0.507173  1.292565 -0.467752  1.244887  0.697707  0.059375 -0.319964   \n",
       "1  0.124055  0.564916 -0.039331 -0.283904  0.186400  0.192932 -0.039155   \n",
       "2 -0.412088 -1.017485  0.129566  0.948048  0.287826 -0.396592  0.042997   \n",
       "3  0.011158  0.146017 -0.130401 -0.848815  0.005698 -0.183295  0.282940   \n",
       "4  0.254485  0.530692 -0.651119  0.626389  1.040212  0.249501 -0.146745   \n",
       "\n",
       "        V28  Amount  Class  \n",
       "0 -0.017444   27.44      0  \n",
       "1 -0.071314   35.95      0  \n",
       "2  0.025853   28.40      0  \n",
       "3  0.123856   43.20      0  \n",
       "4  0.029714   10.59      0  "
      ]
     },
     "execution_count": 44,
     "metadata": {},
     "output_type": "execute_result"
    }
   ],
   "source": [
    "df2 = pd.read_csv(cc2_file)\n",
    "df2.head()"
   ]
  },
  {
   "cell_type": "code",
   "execution_count": 45,
   "metadata": {
    "tags": []
   },
   "outputs": [
    {
     "name": "stdout",
     "output_type": "stream",
     "text": [
      "X shape: (7300, 28)\n",
      "y shape: (7300,)\n"
     ]
    }
   ],
   "source": [
    "X, y = prep_data(df2)\n",
    "print(f'X shape: {X.shape}\\ny shape: {y.shape}')"
   ]
  },
  {
   "cell_type": "code",
   "execution_count": 46,
   "metadata": {
    "tags": []
   },
   "outputs": [
    {
     "data": {
      "text/plain": [
       "array([ 4.28408570e-01,  1.64002800e+00, -1.84885886e+00, -8.70902974e-01,\n",
       "       -2.04848888e-01, -3.85675453e-01,  3.52792552e-01, -1.09830131e+00,\n",
       "       -3.34596757e-01, -6.79088729e-01, -3.96709268e-02,  1.37266082e+00,\n",
       "       -7.32000706e-01, -3.44528134e-01,  1.02475103e+00,  3.80208554e-01,\n",
       "       -1.08734881e+00,  3.64507163e-01,  5.19236276e-02,  5.07173439e-01,\n",
       "        1.29256539e+00, -4.67752261e-01,  1.24488683e+00,  6.97706854e-01,\n",
       "        5.93750372e-02, -3.19964326e-01, -1.74444289e-02,  2.74400000e+01])"
      ]
     },
     "execution_count": 46,
     "metadata": {},
     "output_type": "execute_result"
    }
   ],
   "source": [
    "X[0, :]"
   ]
  },
  {
   "cell_type": "code",
   "execution_count": 47,
   "metadata": {
    "tags": []
   },
   "outputs": [
    {
     "data": {
      "text/plain": [
       "0    7000\n",
       "1     300\n",
       "Name: Class, dtype: int64"
      ]
     },
     "execution_count": 47,
     "metadata": {},
     "output_type": "execute_result"
    }
   ],
   "source": [
    "df2.Class.value_counts()"
   ]
  },
  {
   "cell_type": "code",
   "execution_count": 48,
   "metadata": {
    "tags": []
   },
   "outputs": [
    {
     "data": {
      "text/plain": [
       "7300"
      ]
     },
     "execution_count": 48,
     "metadata": {},
     "output_type": "execute_result"
    }
   ],
   "source": [
    "# Count the total number of observations from the length of y\n",
    "total_obs = len(y)\n",
    "total_obs"
   ]
  },
  {
   "cell_type": "code",
   "execution_count": 49,
   "metadata": {
    "tags": []
   },
   "outputs": [
    {
     "data": {
      "text/plain": [
       "7000"
      ]
     },
     "execution_count": 49,
     "metadata": {},
     "output_type": "execute_result"
    }
   ],
   "source": [
    "# Count the total number of non-fraudulent observations \n",
    "non_fraud = [i for i in y if i == 0]\n",
    "count_non_fraud = non_fraud.count(0)\n",
    "count_non_fraud"
   ]
  },
  {
   "cell_type": "code",
   "execution_count": 50,
   "metadata": {
    "tags": []
   },
   "outputs": [
    {
     "name": "stdout",
     "output_type": "stream",
     "text": [
      "95.89%\n"
     ]
    }
   ],
   "source": [
    "percentage = count_non_fraud/total_obs * 100\n",
    "print(f'{percentage:0.2f}%')"
   ]
  },
  {
   "cell_type": "markdown",
   "metadata": {},
   "source": [
    "**This tells us that by doing nothing, we would be correct in 95.9% of the cases. So now you understand, that if we get an accuracy of less than this number, our model does not actually add any value in predicting how many cases are correct. Let's see how a random forest does in predicting fraud in our data.**"
   ]
  },
  {
   "cell_type": "markdown",
   "metadata": {},
   "source": [
    "### Random Forest Classifier - part 1\n",
    "\n",
    "Let's now create a first **random forest classifier** for fraud detection. Hopefully you can do better than the baseline accuracy you've just calculated, which was roughly **96%**. This model will serve as the **\"baseline\" model** that you're going to try to improve in the upcoming exercises. Let's start first with **splitting the data into a test and training set**, and **defining the Random Forest model**. The data available are features `X` and labels `y`.\n",
    "\n",
    "**Instructions**\n",
    "\n",
    "* Import the random forest classifier from `sklearn`.\n",
    "* Split your features `X` and labels `y` into a training and test set. Set aside a test set of 30%.\n",
    "* Assign the random forest classifier to `model` and keep `random_state` at 5. We need to set a random state here in order to be able to compare results across different models."
   ]
  },
  {
   "cell_type": "markdown",
   "metadata": {},
   "source": [
    "#### X_train, X_test, y_train, y_test"
   ]
  },
  {
   "cell_type": "code",
   "execution_count": 51,
   "metadata": {
    "tags": []
   },
   "outputs": [],
   "source": [
    "# Split your data into training and test set\n",
    "X_train, X_test, y_train, y_test = train_test_split(X, y, test_size=0.3, random_state=0)"
   ]
  },
  {
   "cell_type": "code",
   "execution_count": 52,
   "metadata": {
    "tags": []
   },
   "outputs": [],
   "source": [
    "# Define the model as the random forest\n",
    "model = RandomForestClassifier(random_state=5, n_estimators=20)"
   ]
  },
  {
   "cell_type": "markdown",
   "metadata": {},
   "source": [
    "### Random Forest Classifier - part 2\n",
    "\n",
    "Let's see how our Random Forest model performs **without doing anything special to it**. The `model` from the previous exercise is available, and you've already split your data in `X_train, y_train, X_test, y_test`.\n",
    "\n",
    "**Instructions 1/3**\n",
    "\n",
    "* Fit the earlier defined `model` to our training data and obtain predictions by getting the model predictions on `X_test`."
   ]
  },
  {
   "cell_type": "code",
   "execution_count": 53,
   "metadata": {
    "tags": []
   },
   "outputs": [
    {
     "data": {
      "text/html": [
       "<style>#sk-container-id-3 {color: black;background-color: white;}#sk-container-id-3 pre{padding: 0;}#sk-container-id-3 div.sk-toggleable {background-color: white;}#sk-container-id-3 label.sk-toggleable__label {cursor: pointer;display: block;width: 100%;margin-bottom: 0;padding: 0.3em;box-sizing: border-box;text-align: center;}#sk-container-id-3 label.sk-toggleable__label-arrow:before {content: \"▸\";float: left;margin-right: 0.25em;color: #696969;}#sk-container-id-3 label.sk-toggleable__label-arrow:hover:before {color: black;}#sk-container-id-3 div.sk-estimator:hover label.sk-toggleable__label-arrow:before {color: black;}#sk-container-id-3 div.sk-toggleable__content {max-height: 0;max-width: 0;overflow: hidden;text-align: left;background-color: #f0f8ff;}#sk-container-id-3 div.sk-toggleable__content pre {margin: 0.2em;color: black;border-radius: 0.25em;background-color: #f0f8ff;}#sk-container-id-3 input.sk-toggleable__control:checked~div.sk-toggleable__content {max-height: 200px;max-width: 100%;overflow: auto;}#sk-container-id-3 input.sk-toggleable__control:checked~label.sk-toggleable__label-arrow:before {content: \"▾\";}#sk-container-id-3 div.sk-estimator input.sk-toggleable__control:checked~label.sk-toggleable__label {background-color: #d4ebff;}#sk-container-id-3 div.sk-label input.sk-toggleable__control:checked~label.sk-toggleable__label {background-color: #d4ebff;}#sk-container-id-3 input.sk-hidden--visually {border: 0;clip: rect(1px 1px 1px 1px);clip: rect(1px, 1px, 1px, 1px);height: 1px;margin: -1px;overflow: hidden;padding: 0;position: absolute;width: 1px;}#sk-container-id-3 div.sk-estimator {font-family: monospace;background-color: #f0f8ff;border: 1px dotted black;border-radius: 0.25em;box-sizing: border-box;margin-bottom: 0.5em;}#sk-container-id-3 div.sk-estimator:hover {background-color: #d4ebff;}#sk-container-id-3 div.sk-parallel-item::after {content: \"\";width: 100%;border-bottom: 1px solid gray;flex-grow: 1;}#sk-container-id-3 div.sk-label:hover label.sk-toggleable__label {background-color: #d4ebff;}#sk-container-id-3 div.sk-serial::before {content: \"\";position: absolute;border-left: 1px solid gray;box-sizing: border-box;top: 0;bottom: 0;left: 50%;z-index: 0;}#sk-container-id-3 div.sk-serial {display: flex;flex-direction: column;align-items: center;background-color: white;padding-right: 0.2em;padding-left: 0.2em;position: relative;}#sk-container-id-3 div.sk-item {position: relative;z-index: 1;}#sk-container-id-3 div.sk-parallel {display: flex;align-items: stretch;justify-content: center;background-color: white;position: relative;}#sk-container-id-3 div.sk-item::before, #sk-container-id-3 div.sk-parallel-item::before {content: \"\";position: absolute;border-left: 1px solid gray;box-sizing: border-box;top: 0;bottom: 0;left: 50%;z-index: -1;}#sk-container-id-3 div.sk-parallel-item {display: flex;flex-direction: column;z-index: 1;position: relative;background-color: white;}#sk-container-id-3 div.sk-parallel-item:first-child::after {align-self: flex-end;width: 50%;}#sk-container-id-3 div.sk-parallel-item:last-child::after {align-self: flex-start;width: 50%;}#sk-container-id-3 div.sk-parallel-item:only-child::after {width: 0;}#sk-container-id-3 div.sk-dashed-wrapped {border: 1px dashed gray;margin: 0 0.4em 0.5em 0.4em;box-sizing: border-box;padding-bottom: 0.4em;background-color: white;}#sk-container-id-3 div.sk-label label {font-family: monospace;font-weight: bold;display: inline-block;line-height: 1.2em;}#sk-container-id-3 div.sk-label-container {text-align: center;}#sk-container-id-3 div.sk-container {/* jupyter's `normalize.less` sets `[hidden] { display: none; }` but bootstrap.min.css set `[hidden] { display: none !important; }` so we also need the `!important` here to be able to override the default hidden behavior on the sphinx rendered scikit-learn.org. See: https://github.com/scikit-learn/scikit-learn/issues/21755 */display: inline-block !important;position: relative;}#sk-container-id-3 div.sk-text-repr-fallback {display: none;}</style><div id=\"sk-container-id-3\" class=\"sk-top-container\"><div class=\"sk-text-repr-fallback\"><pre>RandomForestClassifier(n_estimators=20, random_state=5)</pre><b>In a Jupyter environment, please rerun this cell to show the HTML representation or trust the notebook. <br />On GitHub, the HTML representation is unable to render, please try loading this page with nbviewer.org.</b></div><div class=\"sk-container\" hidden><div class=\"sk-item\"><div class=\"sk-estimator sk-toggleable\"><input class=\"sk-toggleable__control sk-hidden--visually\" id=\"sk-estimator-id-3\" type=\"checkbox\" checked><label for=\"sk-estimator-id-3\" class=\"sk-toggleable__label sk-toggleable__label-arrow\">RandomForestClassifier</label><div class=\"sk-toggleable__content\"><pre>RandomForestClassifier(n_estimators=20, random_state=5)</pre></div></div></div></div></div>"
      ],
      "text/plain": [
       "RandomForestClassifier(n_estimators=20, random_state=5)"
      ]
     },
     "execution_count": 53,
     "metadata": {},
     "output_type": "execute_result"
    }
   ],
   "source": [
    "# Fit the model to our training set\n",
    "model.fit(X_train, y_train)"
   ]
  },
  {
   "cell_type": "code",
   "execution_count": 54,
   "metadata": {
    "tags": []
   },
   "outputs": [],
   "source": [
    "# Obtain predictions from the test data \n",
    "predicted = model.predict(X_test)"
   ]
  },
  {
   "cell_type": "markdown",
   "metadata": {},
   "source": [
    "**Instructions 2/3**\n",
    "\n",
    "* Obtain and print the accuracy score by comparing the actual labels `y_test` with our predicted labels `predicted`."
   ]
  },
  {
   "cell_type": "code",
   "execution_count": 55,
   "metadata": {
    "tags": []
   },
   "outputs": [
    {
     "name": "stdout",
     "output_type": "stream",
     "text": [
      "Accuracy Score:\n",
      "0.991\n"
     ]
    }
   ],
   "source": [
    "print(f'Accuracy Score:\\n{accuracy_score(y_test, predicted):0.3f}')"
   ]
  },
  {
   "cell_type": "markdown",
   "metadata": {},
   "source": [
    "**Instructions 3/3**\n",
    "\n",
    "What is a benefit of using Random Forests versus Decision Trees?\n",
    "\n",
    "**Possible Answers**\n",
    "\n",
    "* ~~Random Forests always have a higher accuracy than Decision Trees.~~\n",
    "* **Random Forests do not tend to overfit, whereas Decision Trees do.**\n",
    "* ~~Random Forests are computationally more efficient than Decision Trees.~~\n",
    "* ~~You can obtain \"feature importance\" from Random Forest, which makes it more transparent.~~\n",
    "\n",
    "**Random Forest prevents overfitting most of the time, by creating random subsets of the features and building smaller trees using these subsets. Afterwards, it combines the subtrees of subsamples of features, so it does not tend to overfit to your entire feature set the way \"deep\" Decisions Trees do.**"
   ]
  },
  {
   "cell_type": "markdown",
   "metadata": {},
   "source": [
    "## Perfomance evaluation\n",
    "\n",
    "* Performance metrics for fraud detection models\n",
    "* There are other performace metrics that are more informative and reliable than accuracy"
   ]
  },
  {
   "cell_type": "markdown",
   "metadata": {},
   "source": [
    "#### Accuracy\n",
    "\n",
    "![accuracy](https://raw.githubusercontent.com/trenton3983/DataCamp/master/Images/fraud_detection/accuracy.JPG)\n",
    "* Accuracy isn't a reliable performance metric when working with highly imbalanced data (such as fraud detection)\n",
    "* By doing nothing, aka predicting everything is the majority class (right image), a higher accuracy is obtained than by trying to build a predictive model (left image)"
   ]
  },
  {
   "cell_type": "markdown",
   "metadata": {},
   "source": [
    "#### Confusion Matrix\n",
    "\n",
    "![advanced confusion matrix](https://raw.githubusercontent.com/trenton3983/DataCamp/master/Images/fraud_detection/confusion_matrix_advanced.JPG)\n",
    "![confusion matrix](https://raw.githubusercontent.com/trenton3983/DataCamp/master/Images/fraud_detection/confusion_matrix.JPG)\n",
    "* [Confusion Matrix](https://en.wikipedia.org/wiki/Confusion_matrix)\n",
    "* False Positives (FP) / False Negatives (FN)\n",
    "    * FN: predicts the person is not pregnant, but actually is\n",
    "        * Cases of fraud not caught by the model\n",
    "    * FP: predicts the person is pregnant, but actually is not\n",
    "        * Cases of 'false alarm'\n",
    "    * the business case determines whether FN or FP cases are more important\n",
    "        * a credit card company might want to catch as much fraud as possible and reduce false negatives, as fraudulent transactions can be incredibly costly\n",
    "            * a false alarm just means a transaction is blocked\n",
    "        * an insurance company can't handle many false alarms, as it means getting a team of investigators involved for each positive prediction\n",
    "        \n",
    "* True Positives / True Negatives are the cases predicted correctly (e.g. fraud / non-fraud)"
   ]
  },
  {
   "cell_type": "markdown",
   "metadata": {},
   "source": [
    "#### Precision Recall\n",
    "\n",
    "* Credit card company wants to optimize for recall\n",
    "* Insurance company wants to optimize for precision\n",
    "* Precision:\n",
    "    * $$Precision=\\frac{\\#\\space True\\space Positives}{\\#\\space True\\space Positives+\\#\\space False\\space Positives}$$\n",
    "    * Fraction of actual fraud cases out of all predicted fraud cases\n",
    "        * true positives relative to the sum of true positives and false positives\n",
    "* Recall:\n",
    "    * $$Recall=\\frac{\\#\\space True\\space Positives}{\\#\\space True\\space Positives+\\#\\space False\\space Negatives}$$\n",
    "    * Fraction of predicted fraud cases out of all actual fraud cases\n",
    "        * true positives relative to the sum of true positives and false negative\n",
    "* Precision and recall are typically inversely related\n",
    "    * As precision increases, recall falls and vice-versa\n",
    "    * ![precision recall inverse relation](https://raw.githubusercontent.com/trenton3983/DataCamp/master/Images/fraud_detection/precision_recall_inverse.JPG)"
   ]
  },
  {
   "cell_type": "markdown",
   "metadata": {},
   "source": [
    "#### F-Score\n",
    "\n",
    "* Weighs both precision and recall into on measure\n",
    "\n",
    "\\begin{align}\n",
    "F-measure = \\frac{2\\times{Precision}\\times{Recall}}{Precision\\times{Recall}} \\\\ \n",
    "\\\\\n",
    "= \\frac{2\\times{TP}}{2\\times{TP}+FP+FN}\n",
    "\\end{align}\n",
    "\n",
    "* is a performance metric that takes into account a balance between Precision and Recall"
   ]
  },
  {
   "cell_type": "markdown",
   "metadata": {},
   "source": [
    "#### Obtaining performance metrics from sklean\n",
    "\n",
    "```python\n",
    "# import the methods\n",
    "from sklearn.metrics import precision_recall_curve, average_precision_score\n",
    "\n",
    "# Calculate average precision and the PR curve\n",
    "average_precision = average_precision_score(y_test, predicted)\n",
    "\n",
    "# Obtain precision and recall\n",
    "precision, recall = precision_recall_curve(y_test, predicted)\n",
    "```"
   ]
  },
  {
   "cell_type": "markdown",
   "metadata": {},
   "source": [
    "#### Receiver Operating Characteristic (ROC) curve to compare algorithms\n",
    "\n",
    "* Created by plotting the true positive rate against the false positive rate at various threshold settings\n",
    "* ![roc curve](https://raw.githubusercontent.com/trenton3983/DataCamp/master/Images/fraud_detection/roc_curve.JPG)\n",
    "* Useful for comparing performance of different algorithms\n",
    "\n",
    "```python\n",
    "# Obtain model probabilities\n",
    "probs = model.predict_proba(X_test)\n",
    "\n",
    "# Print ROC_AUC score using probabilities\n",
    "print(metrics.roc_auc_score(y_test, probs[:, 1]))\n",
    "```"
   ]
  },
  {
   "cell_type": "markdown",
   "metadata": {},
   "source": [
    "#### Confusion matrix and classification report\n",
    "\n",
    "```python\n",
    "from sklearn.metrics import classification_report, confusion_matrix\n",
    "\n",
    "# Obtain predictions\n",
    "predicted = model.predict(X_test)\n",
    "\n",
    "# Print classification report using predictions\n",
    "print(classification_report(y_test, predicted))\n",
    "\n",
    "# Print confusion matrix using predictions\n",
    "print(confusion_matrix(y_test, predicted))\n",
    "```"
   ]
  },
  {
   "cell_type": "markdown",
   "metadata": {},
   "source": [
    "### Performance metrics for the RF model\n",
    "\n",
    "In the previous exercises you obtained an accuracy score for your random forest model. This time, we know **accuracy can be misleading** in the case of fraud detection. With highly imbalanced fraud data, the AUROC curve is a more reliable performance metric, used to compare different classifiers. Moreover, the *classification report* tells you about the precision and recall of your model, whilst the *confusion matrix* actually shows how many fraud cases you can predict correctly. So let's get these performance metrics.\n",
    "\n",
    "You'll continue working on the same random forest model from the previous exercise. Your model, defined as `model = RandomForestClassifier(random_state=5)` has been fitted to your training data already, and `X_train, y_train, X_test, y_test` are available.\n",
    "\n",
    "**Instructions**\n",
    "\n",
    "* Import the classification report, confusion matrix and ROC score from `sklearn.metrics`.\n",
    "* Get the binary predictions from your trained random forest `model`.\n",
    "* Get the predicted probabilities by running the `predict_proba()` function.\n",
    "* Obtain classification report and confusion matrix by comparing `y_test` with `predicted`."
   ]
  },
  {
   "cell_type": "code",
   "execution_count": 56,
   "metadata": {
    "tags": []
   },
   "outputs": [],
   "source": [
    "# Obtain the predictions from our random forest model \n",
    "predicted = model.predict(X_test)"
   ]
  },
  {
   "cell_type": "code",
   "execution_count": 57,
   "metadata": {
    "tags": []
   },
   "outputs": [],
   "source": [
    "# Predict probabilities\n",
    "probs = model.predict_proba(X_test)"
   ]
  },
  {
   "cell_type": "code",
   "execution_count": 58,
   "metadata": {
    "tags": []
   },
   "outputs": [
    {
     "name": "stdout",
     "output_type": "stream",
     "text": [
      "ROC Score:\n",
      "0.9419896444670147\n",
      "\n",
      "Classification Report:\n",
      "              precision    recall  f1-score   support\n",
      "\n",
      "           0       0.99      1.00      1.00      2099\n",
      "           1       0.97      0.80      0.88        91\n",
      "\n",
      "    accuracy                           0.99      2190\n",
      "   macro avg       0.98      0.90      0.94      2190\n",
      "weighted avg       0.99      0.99      0.99      2190\n",
      "\n",
      "\n",
      "Confusion Matrix:\n",
      "[[2097    2]\n",
      " [  18   73]]\n"
     ]
    }
   ],
   "source": [
    "# Print the ROC curve, classification report and confusion matrix\n",
    "print('ROC Score:')\n",
    "print(roc_auc_score(y_test, probs[:,1]))\n",
    "print('\\nClassification Report:')\n",
    "print(classification_report(y_test, predicted))\n",
    "print('\\nConfusion Matrix:')\n",
    "print(confusion_matrix(y_test, predicted))"
   ]
  },
  {
   "cell_type": "markdown",
   "metadata": {},
   "source": [
    "**You have now obtained more meaningful performance metrics that tell us how well the model performs, given the highly imbalanced data that you're working with. The model predicts 76 cases of fraud, out of which 73 are actual fraud. You have only 3 false positives. This is really good, and as a result you have a very high precision score. You do however, miss 18 cases of actual fraud. Recall is therefore not as good as precision.**"
   ]
  },
  {
   "cell_type": "markdown",
   "metadata": {},
   "source": [
    "### Plotting the Precision vs. Recall Curve\n",
    "\n",
    "You can also plot a **Precision-Recall curve**, to investigate the trade-off between the two in your model. In this curve **Precision and Recall are inversely related**; as Precision increases, Recall falls and vice-versa. A balance between these two needs to be achieved in your model, otherwise you might end up with many false positives, or not enough actual fraud cases caught. To achieve this and to compare performance, the precision-recall curves come in handy.\n",
    "\n",
    "Your Random Forest Classifier is available as `model`, and the predictions as `predicted`. You can simply obtain the average precision score and the PR curve from the sklearn package. The function `plot_pr_curve()` plots the results for you. Let's give it a try.\n",
    "\n",
    "**Instructions 1/3**\n",
    "\n",
    "* Calculate the average precision by running the function on the actual labels `y_test` and your predicted labels `predicted`."
   ]
  },
  {
   "cell_type": "code",
   "execution_count": 59,
   "metadata": {
    "tags": []
   },
   "outputs": [
    {
     "data": {
      "text/plain": [
       "0.7890250388880526"
      ]
     },
     "execution_count": 59,
     "metadata": {},
     "output_type": "execute_result"
    }
   ],
   "source": [
    "# Calculate average precision and the PR curve\n",
    "average_precision = average_precision_score(y_test, predicted)\n",
    "average_precision"
   ]
  },
  {
   "cell_type": "markdown",
   "metadata": {},
   "source": [
    "**Instructions 2/3**\n",
    "\n",
    "* Run the `precision_recall_curve()` function on the same arguments `y_test` and `predicted` and plot the curve (this last thing has been done for you)."
   ]
  },
  {
   "cell_type": "code",
   "execution_count": 60,
   "metadata": {
    "tags": []
   },
   "outputs": [
    {
     "name": "stdout",
     "output_type": "stream",
     "text": [
      "Precision: [0.04155251 0.97333333 1.        ]\n",
      "Recall: [1.        0.8021978 0.       ]\n"
     ]
    }
   ],
   "source": [
    "# Obtain precision and recall \n",
    "precision, recall, _ = precision_recall_curve(y_test, predicted)\n",
    "print(f'Precision: {precision}\\nRecall: {recall}')"
   ]
  },
  {
   "cell_type": "markdown",
   "metadata": {},
   "source": [
    "#### def plot_pr_curve"
   ]
  },
  {
   "cell_type": "code",
   "execution_count": 61,
   "metadata": {
    "tags": []
   },
   "outputs": [],
   "source": [
    "def plot_pr_curve(recall, precision, average_precision):\n",
    "    \"\"\"\n",
    "    https://scikit-learn.org/stable/auto_examples/model_selection/plot_precision_recall.html\n",
    "    \"\"\"\n",
    "    from inspect import signature\n",
    "    plt.figure()\n",
    "    step_kwargs = ({'step': 'post'}\n",
    "                   if 'step' in signature(plt.fill_between).parameters\n",
    "                   else {})\n",
    "\n",
    "    plt.step(recall, precision, color='b', alpha=0.2, where='post')\n",
    "    plt.fill_between(recall, precision, alpha=0.2, color='b', **step_kwargs)\n",
    "\n",
    "    plt.xlabel('Recall')\n",
    "    plt.ylabel('Precision')\n",
    "    plt.ylim([0.0, 1.0])\n",
    "    plt.xlim([0.0, 1.0])\n",
    "    plt.title(f'2-class Precision-Recall curve: AP={average_precision:0.2f}')\n",
    "    return plt.show()"
   ]
  },
  {
   "cell_type": "code",
   "execution_count": 62,
   "metadata": {
    "tags": []
   },
   "outputs": [
    {
     "data": {
      "image/png": "[encoded data removed]",
      "text/plain": [
       "<Figure size 640x480 with 1 Axes>"
      ]
     },
     "metadata": {},
     "output_type": "display_data"
    }
   ],
   "source": [
    "# Plot the recall precision tradeoff\n",
    "plot_pr_curve(recall, precision, average_precision)"
   ]
  },
  {
   "cell_type": "markdown",
   "metadata": {},
   "source": [
    "**Instructions 3/3**\n",
    "\n",
    "What's the benefit of the performance metric ROC curve (AUROC) versus Precision and Recall?\n",
    "\n",
    "**Possible Answers**\n",
    "\n",
    "* **The AUROC answers the question: \"How well can this classifier be expected to perform in general, at a variety of different baseline probabilities?\" but precision and recall don't.**\n",
    "* ~~The AUROC answers the question: \"How meaningful is a positive result from my classifier given the baseline probabilities of my problem?\" but precision and recall don't.~~\n",
    "* ~~Precision and Recall are not informative when the data is imbalanced.~~\n",
    "* ~~The AUROC curve allows you to visualize classifier performance and with Precision and Recall you cannot.~~\n",
    "\n",
    "**The ROC curve plots the true positives vs. false positives , for a classifier, as its discrimination threshold is varied. Since, a random method describes a horizontal curve through the unit interval, it has an AUC of 0.5. Minimally, classifiers should perform better than this, and the extent to which they score higher than one another (meaning the area under the ROC curve is larger), they have better expected performance.**"
   ]
  },
  {
   "cell_type": "markdown",
   "metadata": {},
   "source": [
    "## Adjusting the algorithm weights\n",
    "\n",
    "* Adjust model parameter to optimize for fraud detection.\n",
    "* When training a model, try different options and settings to get the best recall-precision trade-off\n",
    "* sklearn has two simple options to tweak the model for heavily imbalanced data\n",
    "    * `class_weight`:\n",
    "        * `balanced` mode: `model = RandomForestClassifier(class_weight='balanced')`\n",
    "            * uses the values of y to automatically adjust weights inversely proportional to class frequencies in the the input data\n",
    "            * this option is available for other classifiers\n",
    "                * `model = LogisticRegression(class_weight='balanced')`\n",
    "                * `model = SVC(kernel='linear', class_weight='balanced', probability=True)`\n",
    "        * `balanced_subsample` mode: `model = RandomForestClassifier(class_weight='balanced_subsample')`\n",
    "            * is the same as the `balanced` option, except weights are calculated again at each iteration of growing a tree in a the random forest\n",
    "            * this option is only applicable for the Random Forest model\n",
    "        * manual input\n",
    "            * adjust weights to any ratio, not just value counts relative to sample\n",
    "            * `class_weight={0:1,1:4}`\n",
    "            * this is a good option to slightly upsample the minority class"
   ]
  },
  {
   "cell_type": "markdown",
   "metadata": {},
   "source": [
    "#### Hyperparameter tuning\n",
    "\n",
    "* Random Forest takes many other options to optimize the model\n",
    "\n",
    "```python\n",
    "model = RandomForestClassifier(n_estimators=10, \n",
    "                               criterion=’gini’, \n",
    "                               max_depth=None, \n",
    "                               min_samples_split=2, \n",
    "                               min_samples_leaf=1, \n",
    "                               max_features=’auto’, \n",
    "                               n_jobs=-1, class_weight=None)\n",
    "```\n",
    "\n",
    "* the shape and size of the trees in a random forest are adjusted with **leaf size** and **tree depth**\n",
    "* `n_estimators`: one of the most important setting is the number of trees in the forest\n",
    "* `max_features`: the number of features considered for splitting at each leaf node\n",
    "* `criterion`: change the way the data is split at each node (default is `gini` coefficient)"
   ]
  },
  {
   "cell_type": "markdown",
   "metadata": {},
   "source": [
    "#### GridSearchCV for hyperparameter tuning\n",
    "\n",
    "* [sklearn.model_selection.GridSearchCV](https://scikit-learn.org/stable/modules/generated/sklearn.model_selection.GridSearchCV.html)\n",
    "* `from sklearn.model_selection import GridSearchCV`\n",
    "* `GridSearchCV evaluates all combinations of parameters defined in the parameter grid\n",
    "* Random Forest Parameter Grid:\n",
    "\n",
    "```python\n",
    "# Create the parameter grid \n",
    "param_grid = {'max_depth': [80, 90, 100, 110],\n",
    "              'max_features': [2, 3],\n",
    "              'min_samples_leaf': [3, 4, 5],\n",
    "              'min_samples_split': [8, 10, 12],\n",
    "              'n_estimators': [100, 200, 300, 1000]}\n",
    "\n",
    "# Define which model to use\n",
    "model = RandomForestRegressor()\n",
    "\n",
    "# Instantiate the grid search model\n",
    "grid_search_model = GridSearchCV(estimator = model, \n",
    "                                 param_grid = param_grid, \n",
    "                                 cv = 5,\n",
    "                                 n_jobs = -1, \n",
    "                                 scoring='f1')\n",
    "```\n",
    "\n",
    "* define the ML model to be used\n",
    "* put the model into `GridSearchCV`\n",
    "* pass in `param_grid`\n",
    "* frequency of cross-validation\n",
    "* define a scoring metric to evaluate the models\n",
    "    * the default option is accuracy which isn't optimal for fraud detection\n",
    "    * use `precision`, `recall` or `f1`\n",
    "\n",
    "```python\n",
    "# Fit the grid search to the data\n",
    "grid_search_model.fit(X_train, y_train)\n",
    "\n",
    "# Get the optimal parameters \n",
    "grid_search_model.best_params_\n",
    "\n",
    "{'bootstrap': True,\n",
    " 'max_depth': 80,\n",
    " 'max_features': 3,\n",
    " 'min_samples_leaf': 5,\n",
    " 'min_samples_split': 12,\n",
    " 'n_estimators': 100}\n",
    "```\n",
    "\n",
    "* once `GridSearchCV` and `model` are fit to the data, obtain the parameters belonging to the optimal model by using the `best_params_` attribute\n",
    "* `GridSearchCV` is computationally heavy\n",
    "    * Can require many hours, depending on the amount of data and number of parameters in the grid\n",
    "    * __**Save the Results**__\n",
    "\n",
    "```python\n",
    "# Get the best_estimator results\n",
    "grid_search.best_estimator_\n",
    "grid_search.best_score_\n",
    "```\n",
    "\n",
    "* `best_score_`: mean cross-validated score of the `best_estimator_`, which depends on the `scoring` option"
   ]
  },
  {
   "cell_type": "markdown",
   "metadata": {},
   "source": [
    "### Model adjustments\n",
    "\n",
    "A simple way to adjust the random forest model to deal with highly imbalanced fraud data, is to use the **`class_weights` option** when defining the `sklearn` model. However, as you will see, it is a bit of a blunt force mechanism and might not work for your very special case.\n",
    "\n",
    "In this exercise you'll explore the ``weight = \"balanced_subsample\"`` mode the Random Forest model from the earlier exercise. You already have split your data in a training and test set, i.e `X_train`, `X_test`, `y_train`, `y_test` are available. The metrics function have already been imported.\n",
    "\n",
    "**Instructions**\n",
    "\n",
    "* Set the `class_weight` argument of your classifier to `balanced_subsample`.\n",
    "* Fit your model to your training set.\n",
    "* Obtain predictions and probabilities from X_test.\n",
    "* Obtain the `roc_auc_score`, the classification report and confusion matrix."
   ]
  },
  {
   "cell_type": "code",
   "execution_count": 63,
   "metadata": {
    "tags": []
   },
   "outputs": [
    {
     "name": "stdout",
     "output_type": "stream",
     "text": [
      "ROC Score:\n",
      "0.9750299724096771\n",
      "\n",
      "Classification Report:\n",
      "              precision    recall  f1-score   support\n",
      "\n",
      "           0       0.99      1.00      1.00      2099\n",
      "           1       0.99      0.80      0.88        91\n",
      "\n",
      "    accuracy                           0.99      2190\n",
      "   macro avg       0.99      0.90      0.94      2190\n",
      "weighted avg       0.99      0.99      0.99      2190\n",
      "\n",
      "\n",
      "Confusion Matrix:\n",
      "[[2098    1]\n",
      " [  18   73]]\n"
     ]
    }
   ],
   "source": [
    "# Define the model with balanced subsample\n",
    "model = RandomForestClassifier(class_weight='balanced_subsample', random_state=5, n_estimators=100)\n",
    "\n",
    "# Fit your training model to your training set\n",
    "model.fit(X_train, y_train)\n",
    "\n",
    "# Obtain the predicted values and probabilities from the model \n",
    "predicted = model.predict(X_test)\n",
    "probs = model.predict_proba(X_test)\n",
    "\n",
    "# Print the ROC curve, classification report and confusion matrix\n",
    "print('ROC Score:')\n",
    "print(roc_auc_score(y_test, probs[:,1]))\n",
    "print('\\nClassification Report:')\n",
    "print(classification_report(y_test, predicted))\n",
    "print('\\nConfusion Matrix:')\n",
    "print(confusion_matrix(y_test, predicted))"
   ]
  },
  {
   "cell_type": "markdown",
   "metadata": {},
   "source": [
    "**You can see that the model results don't improve drastically. We now have 3 less false positives, but now 19 in stead of 18 false negatives, i.e. cases of fraud we are not catching. If we mostly care about catching fraud, and not so much about the false positives, this does actually not improve our model at all, albeit a simple option to try. In the next exercises you'll see how to more smartly tweak your model to focus on reducing false negatives and catch more fraud.**"
   ]
  },
  {
   "cell_type": "markdown",
   "metadata": {},
   "source": [
    "### Adjusting RF for fraud detection\n",
    "\n",
    "In this exercise you're going to dive into the options for the random forest classifier, as we'll **assign weights** and **tweak the shape** of the decision trees in the forest. You'll **define weights manually**, to be able to off-set that imbalance slightly. In our case we have 300 fraud to 7000 non-fraud cases, so by setting the weight ratio to 1:12, we get to a 1/3 fraud to 2/3 non-fraud ratio, which is good enough for training the model on.\n",
    "\n",
    "The data in this exercise has already been split into training and test set, so you just need to focus on defining your model. You can then use the function `get_model_results()` as a short cut. This function fits the model to your training data, predicts and obtains performance metrics similar to the steps you did in the previous exercises.\n",
    "\n",
    "**Instructions**\n",
    "\n",
    "* Change the `weight` option to set the ratio to 1 to 12 for the non-fraud and fraud cases, and set the split criterion to 'entropy'.\n",
    "* Set the maximum depth to 10.\n",
    "* Set the minimal samples in leaf nodes to 10.\n",
    "* Set the number of trees to use in the model to 20."
   ]
  },
  {
   "cell_type": "markdown",
   "metadata": {},
   "source": [
    "#### def get_model_results"
   ]
  },
  {
   "cell_type": "code",
   "execution_count": 64,
   "metadata": {
    "tags": []
   },
   "outputs": [],
   "source": [
    "def get_model_results(X_train: np.ndarray, y_train: np.ndarray,\n",
    "                      X_test: np.ndarray, y_test: np.ndarray, model):\n",
    "    \"\"\"\n",
    "    model: sklearn model (e.g. RandomForestClassifier)\n",
    "    \"\"\"\n",
    "    # Fit your training model to your training set\n",
    "    model.fit(X_train, y_train)\n",
    "\n",
    "    # Obtain the predicted values and probabilities from the model \n",
    "    predicted = model.predict(X_test)\n",
    "    \n",
    "    try:\n",
    "        probs = model.predict_proba(X_test)\n",
    "        print('ROC Score:')\n",
    "        print(roc_auc_score(y_test, probs[:,1]))\n",
    "    except AttributeError:\n",
    "        pass\n",
    "\n",
    "    # Print the ROC curve, classification report and confusion matrix\n",
    "    print('\\nClassification Report:')\n",
    "    print(classification_report(y_test, predicted))\n",
    "    print('\\nConfusion Matrix:')\n",
    "    print(confusion_matrix(y_test, predicted))"
   ]
  },
  {
   "cell_type": "code",
   "execution_count": 65,
   "metadata": {
    "tags": []
   },
   "outputs": [
    {
     "name": "stdout",
     "output_type": "stream",
     "text": [
      "ROC Score:\n",
      "0.9609651901219315\n",
      "\n",
      "Classification Report:\n",
      "              precision    recall  f1-score   support\n",
      "\n",
      "           0       0.99      1.00      1.00      2099\n",
      "           1       0.97      0.85      0.91        91\n",
      "\n",
      "    accuracy                           0.99      2190\n",
      "   macro avg       0.98      0.92      0.95      2190\n",
      "weighted avg       0.99      0.99      0.99      2190\n",
      "\n",
      "\n",
      "Confusion Matrix:\n",
      "[[2097    2]\n",
      " [  14   77]]\n"
     ]
    }
   ],
   "source": [
    "# Change the model options\n",
    "model = RandomForestClassifier(bootstrap=True,\n",
    "                               class_weight={0:1, 1:12},\n",
    "                               criterion='entropy',\n",
    "                               # Change depth of model\n",
    "                               max_depth=10,\n",
    "                               # Change the number of samples in leaf nodes\n",
    "                               min_samples_leaf=10, \n",
    "                               # Change the number of trees to use\n",
    "                               n_estimators=20,\n",
    "                               n_jobs=-1,\n",
    "                               random_state=5)\n",
    "\n",
    "# Run the function get_model_results\n",
    "get_model_results(X_train, y_train, X_test, y_test, model)"
   ]
  },
  {
   "cell_type": "markdown",
   "metadata": {},
   "source": [
    "**By smartly defining more options in the model, you can obtain better predictions. You have effectively reduced the number of false negatives, i.e. you are catching more cases of fraud, whilst keeping the number of false positives low. In this exercise you've manually changed the options of the model. There is a smarter way of doing it, by using `GridSearchCV`, which you'll see in the next exercise!**"
   ]
  },
  {
   "cell_type": "markdown",
   "metadata": {},
   "source": [
    "### Parameter optimization with GridSearchCV\n",
    "\n",
    "In this exercise you're going to **tweak our model in a less \"random\" way**, but use `GridSearchCV` to do the work for you.\n",
    "\n",
    "With `GridSearchCV` you can define **which performance metric to score** the options on. Since for fraud detection we are mostly interested in catching as many fraud cases as possible, you can optimize your model settings to get the best possible Recall score. If you also cared about reducing the number of false positives, you could optimize on F1-score, this gives you that nice Precision-Recall trade-off.\n",
    "\n",
    "`GridSearchCV` has already been imported from `sklearn.model_selection`, so let's give it a try!\n",
    "\n",
    "**Instructions**\n",
    "\n",
    "* Define in the parameter grid that you want to try 1 and 30 trees, and that you want to try the `gini` and `entropy` split criterion.\n",
    "* Define the model to be simple `RandomForestClassifier`, you want to keep the random_state at 5 to be able to compare models.\n",
    "* Set the `scoring` option such that it optimizes for recall.\n",
    "* Fit the model to the training data `X_train` and `y_train` and obtain the best parameters for the model."
   ]
  },
  {
   "cell_type": "code",
   "execution_count": 66,
   "metadata": {
    "tags": []
   },
   "outputs": [
    {
     "name": "stderr",
     "output_type": "stream",
     "text": [
      "/home/matt/.virtualenvs/ml4cyber-prz2/lib/python3.8/site-packages/sklearn/ensemble/_forest.py:424: FutureWarning: `max_features='auto'` has been deprecated in 1.1 and will be removed in 1.3. To keep the past behaviour, explicitly set `max_features='sqrt'` or remove this parameter as it is also the default value for RandomForestClassifiers and ExtraTreesClassifiers.\n",
      "  warn(\n",
      "/home/matt/.virtualenvs/ml4cyber-prz2/lib/python3.8/site-packages/sklearn/ensemble/_forest.py:424: FutureWarning: `max_features='auto'` has been deprecated in 1.1 and will be removed in 1.3. To keep the past behaviour, explicitly set `max_features='sqrt'` or remove this parameter as it is also the default value for RandomForestClassifiers and ExtraTreesClassifiers.\n",
      "  warn(\n",
      "/home/matt/.virtualenvs/ml4cyber-prz2/lib/python3.8/site-packages/sklearn/ensemble/_forest.py:424: FutureWarning: `max_features='auto'` has been deprecated in 1.1 and will be removed in 1.3. To keep the past behaviour, explicitly set `max_features='sqrt'` or remove this parameter as it is also the default value for RandomForestClassifiers and ExtraTreesClassifiers.\n",
      "  warn(\n",
      "/home/matt/.virtualenvs/ml4cyber-prz2/lib/python3.8/site-packages/sklearn/ensemble/_forest.py:424: FutureWarning: `max_features='auto'` has been deprecated in 1.1 and will be removed in 1.3. To keep the past behaviour, explicitly set `max_features='sqrt'` or remove this parameter as it is also the default value for RandomForestClassifiers and ExtraTreesClassifiers.\n",
      "  warn(\n",
      "/home/matt/.virtualenvs/ml4cyber-prz2/lib/python3.8/site-packages/sklearn/ensemble/_forest.py:424: FutureWarning: `max_features='auto'` has been deprecated in 1.1 and will be removed in 1.3. To keep the past behaviour, explicitly set `max_features='sqrt'` or remove this parameter as it is also the default value for RandomForestClassifiers and ExtraTreesClassifiers.\n",
      "  warn(\n",
      "/home/matt/.virtualenvs/ml4cyber-prz2/lib/python3.8/site-packages/sklearn/ensemble/_forest.py:424: FutureWarning: `max_features='auto'` has been deprecated in 1.1 and will be removed in 1.3. To keep the past behaviour, explicitly set `max_features='sqrt'` or remove this parameter as it is also the default value for RandomForestClassifiers and ExtraTreesClassifiers.\n",
      "  warn(\n",
      "/home/matt/.virtualenvs/ml4cyber-prz2/lib/python3.8/site-packages/sklearn/ensemble/_forest.py:424: FutureWarning: `max_features='auto'` has been deprecated in 1.1 and will be removed in 1.3. To keep the past behaviour, explicitly set `max_features='sqrt'` or remove this parameter as it is also the default value for RandomForestClassifiers and ExtraTreesClassifiers.\n",
      "  warn(\n",
      "/home/matt/.virtualenvs/ml4cyber-prz2/lib/python3.8/site-packages/sklearn/ensemble/_forest.py:424: FutureWarning: `max_features='auto'` has been deprecated in 1.1 and will be removed in 1.3. To keep the past behaviour, explicitly set `max_features='sqrt'` or remove this parameter as it is also the default value for RandomForestClassifiers and ExtraTreesClassifiers.\n",
      "  warn(\n",
      "/home/matt/.virtualenvs/ml4cyber-prz2/lib/python3.8/site-packages/sklearn/ensemble/_forest.py:424: FutureWarning: `max_features='auto'` has been deprecated in 1.1 and will be removed in 1.3. To keep the past behaviour, explicitly set `max_features='sqrt'` or remove this parameter as it is also the default value for RandomForestClassifiers and ExtraTreesClassifiers.\n",
      "  warn(\n",
      "/home/matt/.virtualenvs/ml4cyber-prz2/lib/python3.8/site-packages/sklearn/ensemble/_forest.py:424: FutureWarning: `max_features='auto'` has been deprecated in 1.1 and will be removed in 1.3. To keep the past behaviour, explicitly set `max_features='sqrt'` or remove this parameter as it is also the default value for RandomForestClassifiers and ExtraTreesClassifiers.\n",
      "  warn(\n",
      "/home/matt/.virtualenvs/ml4cyber-prz2/lib/python3.8/site-packages/sklearn/ensemble/_forest.py:424: FutureWarning: `max_features='auto'` has been deprecated in 1.1 and will be removed in 1.3. To keep the past behaviour, explicitly set `max_features='sqrt'` or remove this parameter as it is also the default value for RandomForestClassifiers and ExtraTreesClassifiers.\n",
      "  warn(\n",
      "/home/matt/.virtualenvs/ml4cyber-prz2/lib/python3.8/site-packages/sklearn/ensemble/_forest.py:424: FutureWarning: `max_features='auto'` has been deprecated in 1.1 and will be removed in 1.3. To keep the past behaviour, explicitly set `max_features='sqrt'` or remove this parameter as it is also the default value for RandomForestClassifiers and ExtraTreesClassifiers.\n",
      "  warn(\n",
      "/home/matt/.virtualenvs/ml4cyber-prz2/lib/python3.8/site-packages/sklearn/ensemble/_forest.py:424: FutureWarning: `max_features='auto'` has been deprecated in 1.1 and will be removed in 1.3. To keep the past behaviour, explicitly set `max_features='sqrt'` or remove this parameter as it is also the default value for RandomForestClassifiers and ExtraTreesClassifiers.\n",
      "  warn(\n",
      "/home/matt/.virtualenvs/ml4cyber-prz2/lib/python3.8/site-packages/sklearn/ensemble/_forest.py:424: FutureWarning: `max_features='auto'` has been deprecated in 1.1 and will be removed in 1.3. To keep the past behaviour, explicitly set `max_features='sqrt'` or remove this parameter as it is also the default value for RandomForestClassifiers and ExtraTreesClassifiers.\n",
      "  warn(\n",
      "/home/matt/.virtualenvs/ml4cyber-prz2/lib/python3.8/site-packages/sklearn/ensemble/_forest.py:424: FutureWarning: `max_features='auto'` has been deprecated in 1.1 and will be removed in 1.3. To keep the past behaviour, explicitly set `max_features='sqrt'` or remove this parameter as it is also the default value for RandomForestClassifiers and ExtraTreesClassifiers.\n",
      "  warn(\n",
      "/home/matt/.virtualenvs/ml4cyber-prz2/lib/python3.8/site-packages/sklearn/ensemble/_forest.py:424: FutureWarning: `max_features='auto'` has been deprecated in 1.1 and will be removed in 1.3. To keep the past behaviour, explicitly set `max_features='sqrt'` or remove this parameter as it is also the default value for RandomForestClassifiers and ExtraTreesClassifiers.\n",
      "  warn(\n",
      "/home/matt/.virtualenvs/ml4cyber-prz2/lib/python3.8/site-packages/sklearn/ensemble/_forest.py:424: FutureWarning: `max_features='auto'` has been deprecated in 1.1 and will be removed in 1.3. To keep the past behaviour, explicitly set `max_features='sqrt'` or remove this parameter as it is also the default value for RandomForestClassifiers and ExtraTreesClassifiers.\n",
      "  warn(\n",
      "/home/matt/.virtualenvs/ml4cyber-prz2/lib/python3.8/site-packages/sklearn/ensemble/_forest.py:424: FutureWarning: `max_features='auto'` has been deprecated in 1.1 and will be removed in 1.3. To keep the past behaviour, explicitly set `max_features='sqrt'` or remove this parameter as it is also the default value for RandomForestClassifiers and ExtraTreesClassifiers.\n",
      "  warn(\n",
      "/home/matt/.virtualenvs/ml4cyber-prz2/lib/python3.8/site-packages/sklearn/ensemble/_forest.py:424: FutureWarning: `max_features='auto'` has been deprecated in 1.1 and will be removed in 1.3. To keep the past behaviour, explicitly set `max_features='sqrt'` or remove this parameter as it is also the default value for RandomForestClassifiers and ExtraTreesClassifiers.\n",
      "  warn(\n",
      "/home/matt/.virtualenvs/ml4cyber-prz2/lib/python3.8/site-packages/sklearn/ensemble/_forest.py:424: FutureWarning: `max_features='auto'` has been deprecated in 1.1 and will be removed in 1.3. To keep the past behaviour, explicitly set `max_features='sqrt'` or remove this parameter as it is also the default value for RandomForestClassifiers and ExtraTreesClassifiers.\n",
      "  warn(\n",
      "/home/matt/.virtualenvs/ml4cyber-prz2/lib/python3.8/site-packages/sklearn/ensemble/_forest.py:424: FutureWarning: `max_features='auto'` has been deprecated in 1.1 and will be removed in 1.3. To keep the past behaviour, explicitly set `max_features='sqrt'` or remove this parameter as it is also the default value for RandomForestClassifiers and ExtraTreesClassifiers.\n",
      "  warn(\n",
      "/home/matt/.virtualenvs/ml4cyber-prz2/lib/python3.8/site-packages/sklearn/ensemble/_forest.py:424: FutureWarning: `max_features='auto'` has been deprecated in 1.1 and will be removed in 1.3. To keep the past behaviour, explicitly set `max_features='sqrt'` or remove this parameter as it is also the default value for RandomForestClassifiers and ExtraTreesClassifiers.\n",
      "  warn(\n",
      "/home/matt/.virtualenvs/ml4cyber-prz2/lib/python3.8/site-packages/sklearn/ensemble/_forest.py:424: FutureWarning: `max_features='auto'` has been deprecated in 1.1 and will be removed in 1.3. To keep the past behaviour, explicitly set `max_features='sqrt'` or remove this parameter as it is also the default value for RandomForestClassifiers and ExtraTreesClassifiers.\n",
      "  warn(\n",
      "/home/matt/.virtualenvs/ml4cyber-prz2/lib/python3.8/site-packages/sklearn/ensemble/_forest.py:424: FutureWarning: `max_features='auto'` has been deprecated in 1.1 and will be removed in 1.3. To keep the past behaviour, explicitly set `max_features='sqrt'` or remove this parameter as it is also the default value for RandomForestClassifiers and ExtraTreesClassifiers.\n",
      "  warn(\n",
      "/home/matt/.virtualenvs/ml4cyber-prz2/lib/python3.8/site-packages/sklearn/ensemble/_forest.py:424: FutureWarning: `max_features='auto'` has been deprecated in 1.1 and will be removed in 1.3. To keep the past behaviour, explicitly set `max_features='sqrt'` or remove this parameter as it is also the default value for RandomForestClassifiers and ExtraTreesClassifiers.\n",
      "  warn(\n",
      "/home/matt/.virtualenvs/ml4cyber-prz2/lib/python3.8/site-packages/sklearn/ensemble/_forest.py:424: FutureWarning: `max_features='auto'` has been deprecated in 1.1 and will be removed in 1.3. To keep the past behaviour, explicitly set `max_features='sqrt'` or remove this parameter as it is also the default value for RandomForestClassifiers and ExtraTreesClassifiers.\n",
      "  warn(\n",
      "/home/matt/.virtualenvs/ml4cyber-prz2/lib/python3.8/site-packages/sklearn/ensemble/_forest.py:424: FutureWarning: `max_features='auto'` has been deprecated in 1.1 and will be removed in 1.3. To keep the past behaviour, explicitly set `max_features='sqrt'` or remove this parameter as it is also the default value for RandomForestClassifiers and ExtraTreesClassifiers.\n",
      "  warn(\n",
      "/home/matt/.virtualenvs/ml4cyber-prz2/lib/python3.8/site-packages/sklearn/ensemble/_forest.py:424: FutureWarning: `max_features='auto'` has been deprecated in 1.1 and will be removed in 1.3. To keep the past behaviour, explicitly set `max_features='sqrt'` or remove this parameter as it is also the default value for RandomForestClassifiers and ExtraTreesClassifiers.\n",
      "  warn(\n",
      "/home/matt/.virtualenvs/ml4cyber-prz2/lib/python3.8/site-packages/sklearn/ensemble/_forest.py:424: FutureWarning: `max_features='auto'` has been deprecated in 1.1 and will be removed in 1.3. To keep the past behaviour, explicitly set `max_features='sqrt'` or remove this parameter as it is also the default value for RandomForestClassifiers and ExtraTreesClassifiers.\n",
      "  warn(\n",
      "/home/matt/.virtualenvs/ml4cyber-prz2/lib/python3.8/site-packages/sklearn/ensemble/_forest.py:424: FutureWarning: `max_features='auto'` has been deprecated in 1.1 and will be removed in 1.3. To keep the past behaviour, explicitly set `max_features='sqrt'` or remove this parameter as it is also the default value for RandomForestClassifiers and ExtraTreesClassifiers.\n",
      "  warn(\n",
      "/home/matt/.virtualenvs/ml4cyber-prz2/lib/python3.8/site-packages/sklearn/ensemble/_forest.py:424: FutureWarning: `max_features='auto'` has been deprecated in 1.1 and will be removed in 1.3. To keep the past behaviour, explicitly set `max_features='sqrt'` or remove this parameter as it is also the default value for RandomForestClassifiers and ExtraTreesClassifiers.\n",
      "  warn(\n",
      "/home/matt/.virtualenvs/ml4cyber-prz2/lib/python3.8/site-packages/sklearn/ensemble/_forest.py:424: FutureWarning: `max_features='auto'` has been deprecated in 1.1 and will be removed in 1.3. To keep the past behaviour, explicitly set `max_features='sqrt'` or remove this parameter as it is also the default value for RandomForestClassifiers and ExtraTreesClassifiers.\n",
      "  warn(\n",
      "/home/matt/.virtualenvs/ml4cyber-prz2/lib/python3.8/site-packages/sklearn/ensemble/_forest.py:424: FutureWarning: `max_features='auto'` has been deprecated in 1.1 and will be removed in 1.3. To keep the past behaviour, explicitly set `max_features='sqrt'` or remove this parameter as it is also the default value for RandomForestClassifiers and ExtraTreesClassifiers.\n",
      "  warn(\n",
      "/home/matt/.virtualenvs/ml4cyber-prz2/lib/python3.8/site-packages/sklearn/ensemble/_forest.py:424: FutureWarning: `max_features='auto'` has been deprecated in 1.1 and will be removed in 1.3. To keep the past behaviour, explicitly set `max_features='sqrt'` or remove this parameter as it is also the default value for RandomForestClassifiers and ExtraTreesClassifiers.\n",
      "  warn(\n",
      "/home/matt/.virtualenvs/ml4cyber-prz2/lib/python3.8/site-packages/sklearn/ensemble/_forest.py:424: FutureWarning: `max_features='auto'` has been deprecated in 1.1 and will be removed in 1.3. To keep the past behaviour, explicitly set `max_features='sqrt'` or remove this parameter as it is also the default value for RandomForestClassifiers and ExtraTreesClassifiers.\n",
      "  warn(\n",
      "/home/matt/.virtualenvs/ml4cyber-prz2/lib/python3.8/site-packages/sklearn/ensemble/_forest.py:424: FutureWarning: `max_features='auto'` has been deprecated in 1.1 and will be removed in 1.3. To keep the past behaviour, explicitly set `max_features='sqrt'` or remove this parameter as it is also the default value for RandomForestClassifiers and ExtraTreesClassifiers.\n",
      "  warn(\n",
      "/home/matt/.virtualenvs/ml4cyber-prz2/lib/python3.8/site-packages/sklearn/ensemble/_forest.py:424: FutureWarning: `max_features='auto'` has been deprecated in 1.1 and will be removed in 1.3. To keep the past behaviour, explicitly set `max_features='sqrt'` or remove this parameter as it is also the default value for RandomForestClassifiers and ExtraTreesClassifiers.\n",
      "  warn(\n",
      "/home/matt/.virtualenvs/ml4cyber-prz2/lib/python3.8/site-packages/sklearn/ensemble/_forest.py:424: FutureWarning: `max_features='auto'` has been deprecated in 1.1 and will be removed in 1.3. To keep the past behaviour, explicitly set `max_features='sqrt'` or remove this parameter as it is also the default value for RandomForestClassifiers and ExtraTreesClassifiers.\n",
      "  warn(\n",
      "/home/matt/.virtualenvs/ml4cyber-prz2/lib/python3.8/site-packages/sklearn/ensemble/_forest.py:424: FutureWarning: `max_features='auto'` has been deprecated in 1.1 and will be removed in 1.3. To keep the past behaviour, explicitly set `max_features='sqrt'` or remove this parameter as it is also the default value for RandomForestClassifiers and ExtraTreesClassifiers.\n",
      "  warn(\n",
      "/home/matt/.virtualenvs/ml4cyber-prz2/lib/python3.8/site-packages/sklearn/ensemble/_forest.py:424: FutureWarning: `max_features='auto'` has been deprecated in 1.1 and will be removed in 1.3. To keep the past behaviour, explicitly set `max_features='sqrt'` or remove this parameter as it is also the default value for RandomForestClassifiers and ExtraTreesClassifiers.\n",
      "  warn(\n",
      "/home/matt/.virtualenvs/ml4cyber-prz2/lib/python3.8/site-packages/sklearn/ensemble/_forest.py:424: FutureWarning: `max_features='auto'` has been deprecated in 1.1 and will be removed in 1.3. To keep the past behaviour, explicitly set `max_features='sqrt'` or remove this parameter as it is also the default value for RandomForestClassifiers and ExtraTreesClassifiers.\n",
      "  warn(\n",
      "/home/matt/.virtualenvs/ml4cyber-prz2/lib/python3.8/site-packages/sklearn/ensemble/_forest.py:424: FutureWarning: `max_features='auto'` has been deprecated in 1.1 and will be removed in 1.3. To keep the past behaviour, explicitly set `max_features='sqrt'` or remove this parameter as it is also the default value for RandomForestClassifiers and ExtraTreesClassifiers.\n",
      "  warn(\n",
      "/home/matt/.virtualenvs/ml4cyber-prz2/lib/python3.8/site-packages/sklearn/ensemble/_forest.py:424: FutureWarning: `max_features='auto'` has been deprecated in 1.1 and will be removed in 1.3. To keep the past behaviour, explicitly set `max_features='sqrt'` or remove this parameter as it is also the default value for RandomForestClassifiers and ExtraTreesClassifiers.\n",
      "  warn(\n",
      "/home/matt/.virtualenvs/ml4cyber-prz2/lib/python3.8/site-packages/sklearn/ensemble/_forest.py:424: FutureWarning: `max_features='auto'` has been deprecated in 1.1 and will be removed in 1.3. To keep the past behaviour, explicitly set `max_features='sqrt'` or remove this parameter as it is also the default value for RandomForestClassifiers and ExtraTreesClassifiers.\n",
      "  warn(\n",
      "/home/matt/.virtualenvs/ml4cyber-prz2/lib/python3.8/site-packages/sklearn/ensemble/_forest.py:424: FutureWarning: `max_features='auto'` has been deprecated in 1.1 and will be removed in 1.3. To keep the past behaviour, explicitly set `max_features='sqrt'` or remove this parameter as it is also the default value for RandomForestClassifiers and ExtraTreesClassifiers.\n",
      "  warn(\n",
      "/home/matt/.virtualenvs/ml4cyber-prz2/lib/python3.8/site-packages/sklearn/ensemble/_forest.py:424: FutureWarning: `max_features='auto'` has been deprecated in 1.1 and will be removed in 1.3. To keep the past behaviour, explicitly set `max_features='sqrt'` or remove this parameter as it is also the default value for RandomForestClassifiers and ExtraTreesClassifiers.\n",
      "  warn(\n",
      "/home/matt/.virtualenvs/ml4cyber-prz2/lib/python3.8/site-packages/sklearn/ensemble/_forest.py:424: FutureWarning: `max_features='auto'` has been deprecated in 1.1 and will be removed in 1.3. To keep the past behaviour, explicitly set `max_features='sqrt'` or remove this parameter as it is also the default value for RandomForestClassifiers and ExtraTreesClassifiers.\n",
      "  warn(\n",
      "/home/matt/.virtualenvs/ml4cyber-prz2/lib/python3.8/site-packages/sklearn/ensemble/_forest.py:424: FutureWarning: `max_features='auto'` has been deprecated in 1.1 and will be removed in 1.3. To keep the past behaviour, explicitly set `max_features='sqrt'` or remove this parameter as it is also the default value for RandomForestClassifiers and ExtraTreesClassifiers.\n",
      "  warn(\n",
      "/home/matt/.virtualenvs/ml4cyber-prz2/lib/python3.8/site-packages/sklearn/ensemble/_forest.py:424: FutureWarning: `max_features='auto'` has been deprecated in 1.1 and will be removed in 1.3. To keep the past behaviour, explicitly set `max_features='sqrt'` or remove this parameter as it is also the default value for RandomForestClassifiers and ExtraTreesClassifiers.\n",
      "  warn(\n",
      "/home/matt/.virtualenvs/ml4cyber-prz2/lib/python3.8/site-packages/sklearn/ensemble/_forest.py:424: FutureWarning: `max_features='auto'` has been deprecated in 1.1 and will be removed in 1.3. To keep the past behaviour, explicitly set `max_features='sqrt'` or remove this parameter as it is also the default value for RandomForestClassifiers and ExtraTreesClassifiers.\n",
      "  warn(\n",
      "/home/matt/.virtualenvs/ml4cyber-prz2/lib/python3.8/site-packages/sklearn/ensemble/_forest.py:424: FutureWarning: `max_features='auto'` has been deprecated in 1.1 and will be removed in 1.3. To keep the past behaviour, explicitly set `max_features='sqrt'` or remove this parameter as it is also the default value for RandomForestClassifiers and ExtraTreesClassifiers.\n",
      "  warn(\n",
      "/home/matt/.virtualenvs/ml4cyber-prz2/lib/python3.8/site-packages/sklearn/ensemble/_forest.py:424: FutureWarning: `max_features='auto'` has been deprecated in 1.1 and will be removed in 1.3. To keep the past behaviour, explicitly set `max_features='sqrt'` or remove this parameter as it is also the default value for RandomForestClassifiers and ExtraTreesClassifiers.\n",
      "  warn(\n",
      "/home/matt/.virtualenvs/ml4cyber-prz2/lib/python3.8/site-packages/sklearn/ensemble/_forest.py:424: FutureWarning: `max_features='auto'` has been deprecated in 1.1 and will be removed in 1.3. To keep the past behaviour, explicitly set `max_features='sqrt'` or remove this parameter as it is also the default value for RandomForestClassifiers and ExtraTreesClassifiers.\n",
      "  warn(\n",
      "/home/matt/.virtualenvs/ml4cyber-prz2/lib/python3.8/site-packages/sklearn/ensemble/_forest.py:424: FutureWarning: `max_features='auto'` has been deprecated in 1.1 and will be removed in 1.3. To keep the past behaviour, explicitly set `max_features='sqrt'` or remove this parameter as it is also the default value for RandomForestClassifiers and ExtraTreesClassifiers.\n",
      "  warn(\n",
      "/home/matt/.virtualenvs/ml4cyber-prz2/lib/python3.8/site-packages/sklearn/ensemble/_forest.py:424: FutureWarning: `max_features='auto'` has been deprecated in 1.1 and will be removed in 1.3. To keep the past behaviour, explicitly set `max_features='sqrt'` or remove this parameter as it is also the default value for RandomForestClassifiers and ExtraTreesClassifiers.\n",
      "  warn(\n",
      "/home/matt/.virtualenvs/ml4cyber-prz2/lib/python3.8/site-packages/sklearn/ensemble/_forest.py:424: FutureWarning: `max_features='auto'` has been deprecated in 1.1 and will be removed in 1.3. To keep the past behaviour, explicitly set `max_features='sqrt'` or remove this parameter as it is also the default value for RandomForestClassifiers and ExtraTreesClassifiers.\n",
      "  warn(\n",
      "/home/matt/.virtualenvs/ml4cyber-prz2/lib/python3.8/site-packages/sklearn/ensemble/_forest.py:424: FutureWarning: `max_features='auto'` has been deprecated in 1.1 and will be removed in 1.3. To keep the past behaviour, explicitly set `max_features='sqrt'` or remove this parameter as it is also the default value for RandomForestClassifiers and ExtraTreesClassifiers.\n",
      "  warn(\n",
      "/home/matt/.virtualenvs/ml4cyber-prz2/lib/python3.8/site-packages/sklearn/ensemble/_forest.py:424: FutureWarning: `max_features='auto'` has been deprecated in 1.1 and will be removed in 1.3. To keep the past behaviour, explicitly set `max_features='sqrt'` or remove this parameter as it is also the default value for RandomForestClassifiers and ExtraTreesClassifiers.\n",
      "  warn(\n",
      "/home/matt/.virtualenvs/ml4cyber-prz2/lib/python3.8/site-packages/sklearn/ensemble/_forest.py:424: FutureWarning: `max_features='auto'` has been deprecated in 1.1 and will be removed in 1.3. To keep the past behaviour, explicitly set `max_features='sqrt'` or remove this parameter as it is also the default value for RandomForestClassifiers and ExtraTreesClassifiers.\n",
      "  warn(\n",
      "/home/matt/.virtualenvs/ml4cyber-prz2/lib/python3.8/site-packages/sklearn/ensemble/_forest.py:424: FutureWarning: `max_features='auto'` has been deprecated in 1.1 and will be removed in 1.3. To keep the past behaviour, explicitly set `max_features='sqrt'` or remove this parameter as it is also the default value for RandomForestClassifiers and ExtraTreesClassifiers.\n",
      "  warn(\n",
      "/home/matt/.virtualenvs/ml4cyber-prz2/lib/python3.8/site-packages/sklearn/ensemble/_forest.py:424: FutureWarning: `max_features='auto'` has been deprecated in 1.1 and will be removed in 1.3. To keep the past behaviour, explicitly set `max_features='sqrt'` or remove this parameter as it is also the default value for RandomForestClassifiers and ExtraTreesClassifiers.\n",
      "  warn(\n",
      "/home/matt/.virtualenvs/ml4cyber-prz2/lib/python3.8/site-packages/sklearn/ensemble/_forest.py:424: FutureWarning: `max_features='auto'` has been deprecated in 1.1 and will be removed in 1.3. To keep the past behaviour, explicitly set `max_features='sqrt'` or remove this parameter as it is also the default value for RandomForestClassifiers and ExtraTreesClassifiers.\n",
      "  warn(\n",
      "/home/matt/.virtualenvs/ml4cyber-prz2/lib/python3.8/site-packages/sklearn/ensemble/_forest.py:424: FutureWarning: `max_features='auto'` has been deprecated in 1.1 and will be removed in 1.3. To keep the past behaviour, explicitly set `max_features='sqrt'` or remove this parameter as it is also the default value for RandomForestClassifiers and ExtraTreesClassifiers.\n",
      "  warn(\n",
      "/home/matt/.virtualenvs/ml4cyber-prz2/lib/python3.8/site-packages/sklearn/ensemble/_forest.py:424: FutureWarning: `max_features='auto'` has been deprecated in 1.1 and will be removed in 1.3. To keep the past behaviour, explicitly set `max_features='sqrt'` or remove this parameter as it is also the default value for RandomForestClassifiers and ExtraTreesClassifiers.\n",
      "  warn(\n",
      "/home/matt/.virtualenvs/ml4cyber-prz2/lib/python3.8/site-packages/sklearn/ensemble/_forest.py:424: FutureWarning: `max_features='auto'` has been deprecated in 1.1 and will be removed in 1.3. To keep the past behaviour, explicitly set `max_features='sqrt'` or remove this parameter as it is also the default value for RandomForestClassifiers and ExtraTreesClassifiers.\n",
      "  warn(\n",
      "/home/matt/.virtualenvs/ml4cyber-prz2/lib/python3.8/site-packages/sklearn/ensemble/_forest.py:424: FutureWarning: `max_features='auto'` has been deprecated in 1.1 and will be removed in 1.3. To keep the past behaviour, explicitly set `max_features='sqrt'` or remove this parameter as it is also the default value for RandomForestClassifiers and ExtraTreesClassifiers.\n",
      "  warn(\n",
      "/home/matt/.virtualenvs/ml4cyber-prz2/lib/python3.8/site-packages/sklearn/ensemble/_forest.py:424: FutureWarning: `max_features='auto'` has been deprecated in 1.1 and will be removed in 1.3. To keep the past behaviour, explicitly set `max_features='sqrt'` or remove this parameter as it is also the default value for RandomForestClassifiers and ExtraTreesClassifiers.\n",
      "  warn(\n",
      "/home/matt/.virtualenvs/ml4cyber-prz2/lib/python3.8/site-packages/sklearn/ensemble/_forest.py:424: FutureWarning: `max_features='auto'` has been deprecated in 1.1 and will be removed in 1.3. To keep the past behaviour, explicitly set `max_features='sqrt'` or remove this parameter as it is also the default value for RandomForestClassifiers and ExtraTreesClassifiers.\n",
      "  warn(\n",
      "/home/matt/.virtualenvs/ml4cyber-prz2/lib/python3.8/site-packages/sklearn/ensemble/_forest.py:424: FutureWarning: `max_features='auto'` has been deprecated in 1.1 and will be removed in 1.3. To keep the past behaviour, explicitly set `max_features='sqrt'` or remove this parameter as it is also the default value for RandomForestClassifiers and ExtraTreesClassifiers.\n",
      "  warn(\n",
      "/home/matt/.virtualenvs/ml4cyber-prz2/lib/python3.8/site-packages/sklearn/ensemble/_forest.py:424: FutureWarning: `max_features='auto'` has been deprecated in 1.1 and will be removed in 1.3. To keep the past behaviour, explicitly set `max_features='sqrt'` or remove this parameter as it is also the default value for RandomForestClassifiers and ExtraTreesClassifiers.\n",
      "  warn(\n",
      "/home/matt/.virtualenvs/ml4cyber-prz2/lib/python3.8/site-packages/sklearn/ensemble/_forest.py:424: FutureWarning: `max_features='auto'` has been deprecated in 1.1 and will be removed in 1.3. To keep the past behaviour, explicitly set `max_features='sqrt'` or remove this parameter as it is also the default value for RandomForestClassifiers and ExtraTreesClassifiers.\n",
      "  warn(\n",
      "/home/matt/.virtualenvs/ml4cyber-prz2/lib/python3.8/site-packages/sklearn/ensemble/_forest.py:424: FutureWarning: `max_features='auto'` has been deprecated in 1.1 and will be removed in 1.3. To keep the past behaviour, explicitly set `max_features='sqrt'` or remove this parameter as it is also the default value for RandomForestClassifiers and ExtraTreesClassifiers.\n",
      "  warn(\n",
      "/home/matt/.virtualenvs/ml4cyber-prz2/lib/python3.8/site-packages/sklearn/ensemble/_forest.py:424: FutureWarning: `max_features='auto'` has been deprecated in 1.1 and will be removed in 1.3. To keep the past behaviour, explicitly set `max_features='sqrt'` or remove this parameter as it is also the default value for RandomForestClassifiers and ExtraTreesClassifiers.\n",
      "  warn(\n",
      "/home/matt/.virtualenvs/ml4cyber-prz2/lib/python3.8/site-packages/sklearn/ensemble/_forest.py:424: FutureWarning: `max_features='auto'` has been deprecated in 1.1 and will be removed in 1.3. To keep the past behaviour, explicitly set `max_features='sqrt'` or remove this parameter as it is also the default value for RandomForestClassifiers and ExtraTreesClassifiers.\n",
      "  warn(\n",
      "/home/matt/.virtualenvs/ml4cyber-prz2/lib/python3.8/site-packages/sklearn/ensemble/_forest.py:424: FutureWarning: `max_features='auto'` has been deprecated in 1.1 and will be removed in 1.3. To keep the past behaviour, explicitly set `max_features='sqrt'` or remove this parameter as it is also the default value for RandomForestClassifiers and ExtraTreesClassifiers.\n",
      "  warn(\n",
      "/home/matt/.virtualenvs/ml4cyber-prz2/lib/python3.8/site-packages/sklearn/ensemble/_forest.py:424: FutureWarning: `max_features='auto'` has been deprecated in 1.1 and will be removed in 1.3. To keep the past behaviour, explicitly set `max_features='sqrt'` or remove this parameter as it is also the default value for RandomForestClassifiers and ExtraTreesClassifiers.\n",
      "  warn(\n",
      "/home/matt/.virtualenvs/ml4cyber-prz2/lib/python3.8/site-packages/sklearn/ensemble/_forest.py:424: FutureWarning: `max_features='auto'` has been deprecated in 1.1 and will be removed in 1.3. To keep the past behaviour, explicitly set `max_features='sqrt'` or remove this parameter as it is also the default value for RandomForestClassifiers and ExtraTreesClassifiers.\n",
      "  warn(\n",
      "/home/matt/.virtualenvs/ml4cyber-prz2/lib/python3.8/site-packages/sklearn/ensemble/_forest.py:424: FutureWarning: `max_features='auto'` has been deprecated in 1.1 and will be removed in 1.3. To keep the past behaviour, explicitly set `max_features='sqrt'` or remove this parameter as it is also the default value for RandomForestClassifiers and ExtraTreesClassifiers.\n",
      "  warn(\n",
      "/home/matt/.virtualenvs/ml4cyber-prz2/lib/python3.8/site-packages/sklearn/ensemble/_forest.py:424: FutureWarning: `max_features='auto'` has been deprecated in 1.1 and will be removed in 1.3. To keep the past behaviour, explicitly set `max_features='sqrt'` or remove this parameter as it is also the default value for RandomForestClassifiers and ExtraTreesClassifiers.\n",
      "  warn(\n",
      "/home/matt/.virtualenvs/ml4cyber-prz2/lib/python3.8/site-packages/sklearn/ensemble/_forest.py:424: FutureWarning: `max_features='auto'` has been deprecated in 1.1 and will be removed in 1.3. To keep the past behaviour, explicitly set `max_features='sqrt'` or remove this parameter as it is also the default value for RandomForestClassifiers and ExtraTreesClassifiers.\n",
      "  warn(\n"
     ]
    },
    {
     "data": {
      "text/plain": [
       "{'criterion': 'gini',\n",
       " 'max_depth': 8,\n",
       " 'max_features': 'log2',\n",
       " 'n_estimators': 30}"
      ]
     },
     "execution_count": 66,
     "metadata": {},
     "output_type": "execute_result"
    }
   ],
   "source": [
    "# Define the parameter sets to test\n",
    "param_grid = {'n_estimators': [1, 30],\n",
    "              'max_features': ['auto', 'log2'], \n",
    "              'max_depth': [4, 8, 10, 12],\n",
    "              'criterion': ['gini', 'entropy']}\n",
    "\n",
    "# Define the model to use\n",
    "model = RandomForestClassifier(random_state=5)\n",
    "\n",
    "# Combine the parameter sets with the defined model\n",
    "CV_model = GridSearchCV(estimator=model, param_grid=param_grid, cv=5, scoring='recall', n_jobs=-1)\n",
    "\n",
    "# Fit the model to our training data and obtain best parameters\n",
    "CV_model.fit(X_train, y_train)\n",
    "CV_model.best_params_"
   ]
  },
  {
   "cell_type": "markdown",
   "metadata": {},
   "source": [
    "### Model results with GridSearchCV\n",
    "\n",
    "You discovered that the **best parameters for your model** are that the split criterion should be set to `'gini'`, the number of estimators (trees) should be 30, the maximum depth of the model should be 8 and the maximum features should be set to `\"log2\"`.\n",
    "\n",
    "Let's give this a try and see how well our model performs. You can use the `get_model_results()` function again to save time.\n",
    "\n",
    "**Instructions**\n",
    "\n",
    "* Input the optimal settings into the model definition.\n",
    "* Fit the model, obtain predictions and get the performance parameters with `get_model_results()`."
   ]
  },
  {
   "cell_type": "code",
   "execution_count": 67,
   "metadata": {
    "tags": []
   },
   "outputs": [
    {
     "name": "stdout",
     "output_type": "stream",
     "text": [
      "ROC Score:\n",
      "0.9749697658225529\n",
      "\n",
      "Classification Report:\n",
      "              precision    recall  f1-score   support\n",
      "\n",
      "           0       0.99      1.00      1.00      2099\n",
      "           1       0.95      0.84      0.89        91\n",
      "\n",
      "    accuracy                           0.99      2190\n",
      "   macro avg       0.97      0.92      0.94      2190\n",
      "weighted avg       0.99      0.99      0.99      2190\n",
      "\n",
      "\n",
      "Confusion Matrix:\n",
      "[[2095    4]\n",
      " [  15   76]]\n"
     ]
    }
   ],
   "source": [
    "# Input the optimal parameters in the model\n",
    "model = RandomForestClassifier(class_weight={0:1,1:12},\n",
    "                               criterion='gini',\n",
    "                               max_depth=8,\n",
    "                               max_features='log2', \n",
    "                               min_samples_leaf=10,\n",
    "                               n_estimators=30,\n",
    "                               n_jobs=-1,\n",
    "                               random_state=5)\n",
    "\n",
    "# Get results from your model\n",
    "get_model_results(X_train, y_train, X_test, y_test, model)"
   ]
  },
  {
   "cell_type": "markdown",
   "metadata": {},
   "source": [
    "**The model has been improved even further. The number of false positives has now been slightly reduced even further, which means we are catching more cases of fraud. However, you see that the number of false positives actually went up. That is that Precision-Recall trade-off in action. To decide which final model is best, you need to take into account how bad it is not to catch fraudsters, versus how many false positives the fraud analytics team can deal with. Ultimately, this final decision should be made by you and the fraud team together.**"
   ]
  },
  {
   "cell_type": "markdown",
   "metadata": {},
   "source": [
    "## Ensemble methods\n",
    "\n",
    "![ensemble](https://raw.githubusercontent.com/trenton3983/DataCamp/master/Images/fraud_detection/ensemble.JPG)\n",
    "* Ensemble methods are techniques that create multiple machine learning models and then combine them to produce a final result\n",
    "* Usually produce more accurate predictions than a single model\n",
    "* The goal of an ML problem is to find a single model that will best predict our wanted outcome\n",
    "    * Use ensemble methods rather than making one model and hoping it's best, most accurate predictor\n",
    "* Ensemble methods take a myriad of models into account and average them to produce one final model\n",
    "    * Ensures the predictions are robust\n",
    "    * Less likely to be the result of overfitting\n",
    "    * Can improve prediction performance\n",
    "        * Especially by combining models with different recall and precision scores\n",
    "    * Are a winning formula at Kaggle competitions\n",
    "* The Random Forest classifier is an ensemble of Decision Trees\n",
    "    * **Bootstrap Aggregation** or **Bagging Ensemble** method\n",
    "    * In a Random Forest, models are trained on random subsamples of data and the results are aggregated by taking the average prediction of all the trees"
   ]
  },
  {
   "cell_type": "markdown",
   "metadata": {},
   "source": [
    "#### Stacking Ensemble Methods\n",
    "\n",
    "![stacking ensemble](https://raw.githubusercontent.com/trenton3983/DataCamp/master/Images/fraud_detection/ensemble_stacking.JPG)\n",
    "* Multiple models are combined via a \"voting\" rule on the model outcome\n",
    "* The base level models are each trained based on the complete training set\n",
    "    * Unlike the Bagging method, models are not trained on a subsample of the data\n",
    "* Algorithms of different types can be combined"
   ]
  },
  {
   "cell_type": "markdown",
   "metadata": {},
   "source": [
    "#### Voting Classifier\n",
    "\n",
    "* available in sklearn\n",
    "    * easy way of implementing an ensemble model\n",
    "\n",
    "```python\n",
    "from sklearn.ensemble import VotingClassifier\n",
    "\n",
    "# Define Models\n",
    "clf1 = LogisticRegression(random_state=1)\n",
    "clf2 = RandomForestClassifier(random_state=1)\n",
    "clf3 = GaussianNB()\n",
    "\n",
    "# Combine models into ensemble\n",
    "ensemble_model = VotingClassifier(estimators=[('lr', clf1), ('rf', clf2), ('gnb', clf3)], voting='hard')\n",
    "\n",
    "# Fit and predict as with other models\n",
    "ensemble_model.fit(X_train, y_train)\n",
    "ensemble_model.predict(X_test)\n",
    "```\n",
    "\n",
    "* the `voting='hard'` option uses the predicted class labels and takes the majority vote\n",
    "* the `voting='soft'` option takes the average probability by combining the predicted probabilities of the individual models\n",
    "* Weights can be assigned to the `VotingClassifer` with `weights=[2,1,1]`\n",
    "    * Useful when one model significantly outperforms the others"
   ]
  },
  {
   "cell_type": "markdown",
   "metadata": {},
   "source": [
    "#### Reliable Labels\n",
    "\n",
    "* In real life it's unlikely the data will have truly unbiased, reliable labels for the model\n",
    "* In credit card fraud you often will have reliable labels, in which case, use the methods learned so far\n",
    "* Most cases you'll need to rely on unsupervised learning techniques to detect fraud"
   ]
  },
  {
   "cell_type": "markdown",
   "metadata": {},
   "source": [
    "### Logistic Regression\n",
    "\n",
    "In this last lesson you'll **combine three algorithms** into one model with the **VotingClassifier**. This allows us to benefit from the different aspects from all models, and hopefully improve overall performance and detect more fraud. The first model, the Logistic Regression, has a slightly higher recall score than our optimal Random Forest model, but gives a lot more false positives. You'll also add a Decision Tree with balanced weights to it. The data is already split into a training and test set, i.e. `X_train`, `y_train`, `X_test`, `y_test` are available.\n",
    "\n",
    "In order to understand how the Voting Classifier can potentially improve your original model, you should check the standalone results of the Logistic Regression model first.\n",
    "\n",
    "**Instructions**\n",
    "\n",
    "* Define a LogisticRegression model with class weights that are 1:15 for the fraud cases.\n",
    "* Fit the model to the training set, and obtain the model predictions.\n",
    "* Print the classification report and confusion matrix."
   ]
  },
  {
   "cell_type": "code",
   "execution_count": 68,
   "metadata": {
    "tags": []
   },
   "outputs": [
    {
     "name": "stdout",
     "output_type": "stream",
     "text": [
      "ROC Score:\n",
      "0.9722054981702433\n",
      "\n",
      "Classification Report:\n",
      "              precision    recall  f1-score   support\n",
      "\n",
      "           0       0.99      0.98      0.99      2099\n",
      "           1       0.63      0.88      0.73        91\n",
      "\n",
      "    accuracy                           0.97      2190\n",
      "   macro avg       0.81      0.93      0.86      2190\n",
      "weighted avg       0.98      0.97      0.98      2190\n",
      "\n",
      "\n",
      "Confusion Matrix:\n",
      "[[2052   47]\n",
      " [  11   80]]\n"
     ]
    }
   ],
   "source": [
    "# Define the Logistic Regression model with weights\n",
    "model = LogisticRegression(class_weight={0:1, 1:15}, random_state=5, solver='liblinear')\n",
    "\n",
    "# Get the model results\n",
    "get_model_results(X_train, y_train, X_test, y_test, model)"
   ]
  },
  {
   "cell_type": "markdown",
   "metadata": {},
   "source": [
    "**As you can see the Logistic Regression has quite different performance from the Random Forest. More false positives, but also a better Recall. It will therefore will a useful addition to the Random Forest in an ensemble model.**"
   ]
  },
  {
   "cell_type": "markdown",
   "metadata": {},
   "source": [
    "### Voting Classifier\n",
    "\n",
    "Let's now **combine three machine learning models into one**, to improve our Random Forest fraud detection model from before. You'll combine our usual Random Forest model, with the Logistic Regression from the previous exercise, with a simple Decision Tree. You can use the short cut `get_model_results()` to see the immediate result of the ensemble model.\n",
    "\n",
    "**Instructions**\n",
    "\n",
    "* Import the Voting Classifier package.\n",
    "* Define the three models; use the Logistic Regression from before, the Random Forest from previous exercises and a Decision tree with balanced class weights.\n",
    "* Define the ensemble model by inputting the three classifiers with their respective labels."
   ]
  },
  {
   "cell_type": "code",
   "execution_count": 69,
   "metadata": {
    "tags": []
   },
   "outputs": [
    {
     "name": "stdout",
     "output_type": "stream",
     "text": [
      "\n",
      "Classification Report:\n",
      "              precision    recall  f1-score   support\n",
      "\n",
      "           0       0.99      1.00      0.99      2099\n",
      "           1       0.90      0.86      0.88        91\n",
      "\n",
      "    accuracy                           0.99      2190\n",
      "   macro avg       0.95      0.93      0.94      2190\n",
      "weighted avg       0.99      0.99      0.99      2190\n",
      "\n",
      "\n",
      "Confusion Matrix:\n",
      "[[2090    9]\n",
      " [  13   78]]\n"
     ]
    }
   ],
   "source": [
    "# Define the three classifiers to use in the ensemble\n",
    "clf1 = LogisticRegression(class_weight={0:1, 1:15},\n",
    "                          random_state=5,\n",
    "                          solver='liblinear')\n",
    "\n",
    "clf2 = RandomForestClassifier(class_weight={0:1, 1:12}, \n",
    "                              criterion='gini', \n",
    "                              max_depth=8, \n",
    "                              max_features='log2',\n",
    "                              min_samples_leaf=10, \n",
    "                              n_estimators=30, \n",
    "                              n_jobs=-1,\n",
    "                              random_state=5)\n",
    "\n",
    "clf3 = DecisionTreeClassifier(random_state=5,\n",
    "                              class_weight=\"balanced\")\n",
    "\n",
    "# Combine the classifiers in the ensemble model\n",
    "ensemble_model = VotingClassifier(estimators=[('lr', clf1), ('rf', clf2), ('dt', clf3)], voting='hard')\n",
    "\n",
    "# Get the results \n",
    "get_model_results(X_train, y_train, X_test, y_test, ensemble_model)"
   ]
  },
  {
   "cell_type": "markdown",
   "metadata": {},
   "source": [
    "**By combining the classifiers, you can take the best of multiple models. You've increased the cases of fraud you are catching from 76 to 78, and you only have 5 extra false positives in return. If you do care about catching as many fraud cases as you can, whilst keeping the false positives low, this is a pretty good trade-off. The Logistic Regression as a standalone was quite bad in terms of false positives, and the Random Forest was worse in terms of false negatives. By combining these together you indeed managed to improve performance.**"
   ]
  },
  {
   "cell_type": "markdown",
   "metadata": {},
   "source": [
    "### Adjusting weights within the Voting Classifier\n",
    "\n",
    "You've just seen that the Voting Classifier allows you to improve your fraud detection performance, by combining good aspects from multiple models. Now let's try to **adjust the weights** we give to these models. By increasing or decreasing weights you can play with **how much emphasis you give to a particular model** relative to the rest. This comes in handy when a certain model has overall better performance than the rest, but you still want to combine aspects of the others to further improve your results.\n",
    "\n",
    "For this exercise the data is already split into a training and test set, and `clf1`, `clf2` and `clf3` are available and defined as before, i.e. they are the Logistic Regression, the Random Forest model and the Decision Tree respectively.\n",
    "\n",
    "**Instructions**\n",
    "\n",
    "* Define an ensemble method where you over weigh the second classifier (`clf2`) with 4 to 1 to the rest of the classifiers.\n",
    "* Fit the model to the training and test set, and obtain the predictions `predicted` from the ensemble model.\n",
    "* Print the performance metrics, this is ready for you to run."
   ]
  },
  {
   "cell_type": "code",
   "execution_count": 70,
   "metadata": {
    "tags": []
   },
   "outputs": [
    {
     "name": "stdout",
     "output_type": "stream",
     "text": [
      "ROC Score:\n",
      "0.9739226947421326\n",
      "\n",
      "Classification Report:\n",
      "              precision    recall  f1-score   support\n",
      "\n",
      "           0       0.99      1.00      1.00      2099\n",
      "           1       0.94      0.85      0.89        91\n",
      "\n",
      "    accuracy                           0.99      2190\n",
      "   macro avg       0.97      0.92      0.94      2190\n",
      "weighted avg       0.99      0.99      0.99      2190\n",
      "\n",
      "\n",
      "Confusion Matrix:\n",
      "[[2094    5]\n",
      " [  14   77]]\n"
     ]
    }
   ],
   "source": [
    "# Define the ensemble model\n",
    "ensemble_model = VotingClassifier(estimators=[('lr', clf1), ('rf', clf2), ('gnb', clf3)], voting='soft', weights=[1, 4, 1], flatten_transform=True)\n",
    "\n",
    "# Get results \n",
    "get_model_results(X_train, y_train, X_test, y_test, ensemble_model)"
   ]
  },
  {
   "cell_type": "markdown",
   "metadata": {},
   "source": [
    "**The weight option allows you to play with the individual models to get the best final mix for your fraud detection model. Now that you have finalized fraud detection with supervised learning, let's have a look at how fraud detetion can be done when you don't have any labels to train on.**"
   ]
  },
  {
   "cell_type": "markdown",
   "metadata": {},
   "source": [
    "# Fraud detection using unlabeled data\n",
    "\n",
    "Use unsupervised learning techniques to detect fraud. Segment customers, use K-means clustering and other clustering algorithms to find suspicious occurrences in your data."
   ]
  },
  {
   "cell_type": "markdown",
   "metadata": {},
   "source": [
    "## Normal versus abnormal behavior\n",
    "\n",
    "* Explore fraud detection without reliable data labels\n",
    "* Unsupervised learning to detect suspicious behavior\n",
    "* Abnormal behavior isn't necessarily fraudulent\n",
    "* Challenging because it's difficult to validate"
   ]
  },
  {
   "cell_type": "markdown",
   "metadata": {},
   "source": [
    "#### What's normal behavior?\n",
    "\n",
    "* thoroughly describe the data:\n",
    "    * plot histograms\n",
    "    * check for outliers\n",
    "    * investigate correlations\n",
    "* Are there any known historic cases of fraud? What typifies those cases?\n",
    "* Investigate whether the data is homogeneous, or whether different types of clients display different behavior\n",
    "* Check patterns within subgroups of data: is your data homogeneous?\n",
    "* Verify data points are the same type:\n",
    "    * individuals\n",
    "    * groups\n",
    "    * companies\n",
    "    * governmental organizations\n",
    "* Do the data points differ on:\n",
    "    * spending patterns\n",
    "    * age\n",
    "    * location\n",
    "    * frequency\n",
    "* For credit card fraud, location can be an indication of fraud\n",
    "* This goes for e-commerce sites\n",
    "    * where's the IP address located and where is the product ordered to ship?\n",
    "* Create a separate model for each segment\n",
    "* How to aggregate the many model results back into one final list"
   ]
  },
  {
   "cell_type": "markdown",
   "metadata": {},
   "source": [
    "### Exploring the data\n",
    "\n",
    "In the next exercises, you will be looking at bank **payment transaction data**. The financial transactions are categorized by type of expense, as well as the amount spent. Moreover, you have some client characteristics available such as age group and gender. Some of the transactions are labeled as fraud; you'll treat these labels as given and will use those to validate the results.\n",
    "\n",
    "When using unsupervised learning techniques for fraud detection, you want to **distinguish normal from abnormal** (thus potentially fraudulent) behavior. As a fraud analyst to understand what is \"normal\", you need to have a good understanding of the data and its characteristics. Let's explore the data in this first exercise.\n",
    "\n",
    "**Instructions 1/3**\n",
    "\n",
    "* Obtain the shape of the dataframe `df` to inspect the size of our data and display the first rows to see which features are available."
   ]
  },
  {
   "cell_type": "code",
   "execution_count": 71,
   "metadata": {
    "tags": []
   },
   "outputs": [],
   "source": [
    "banksim_df = pd.read_csv(banksim_file)\n",
    "banksim_df.drop(['Unnamed: 0'], axis=1, inplace=True)\n",
    "banksim_adj_df = pd.read_csv(banksim_adj_file)\n",
    "banksim_adj_df.drop(['Unnamed: 0'], axis=1, inplace=True)"
   ]
  },
  {
   "cell_type": "code",
   "execution_count": 72,
   "metadata": {
    "tags": []
   },
   "outputs": [
    {
     "data": {
      "text/plain": [
       "(7200, 5)"
      ]
     },
     "execution_count": 72,
     "metadata": {},
     "output_type": "execute_result"
    }
   ],
   "source": [
    "banksim_df.shape"
   ]
  },
  {
   "cell_type": "code",
   "execution_count": 73,
   "metadata": {
    "tags": []
   },
   "outputs": [
    {
     "data": {
      "text/html": [
       "<div>\n",
       "<style scoped>\n",
       "    .dataframe tbody tr th:only-of-type {\n",
       "        vertical-align: middle;\n",
       "    }\n",
       "\n",
       "    .dataframe tbody tr th {\n",
       "        vertical-align: top;\n",
       "    }\n",
       "\n",
       "    .dataframe thead th {\n",
       "        text-align: right;\n",
       "    }\n",
       "</style>\n",
       "<table border=\"1\" class=\"dataframe\">\n",
       "  <thead>\n",
       "    <tr style=\"text-align: right;\">\n",
       "      <th></th>\n",
       "      <th>age</th>\n",
       "      <th>gender</th>\n",
       "      <th>category</th>\n",
       "      <th>amount</th>\n",
       "      <th>fraud</th>\n",
       "    </tr>\n",
       "  </thead>\n",
       "  <tbody>\n",
       "    <tr>\n",
       "      <th>0</th>\n",
       "      <td>3</td>\n",
       "      <td>F</td>\n",
       "      <td>es_transportation</td>\n",
       "      <td>49.71</td>\n",
       "      <td>0</td>\n",
       "    </tr>\n",
       "    <tr>\n",
       "      <th>1</th>\n",
       "      <td>4</td>\n",
       "      <td>F</td>\n",
       "      <td>es_health</td>\n",
       "      <td>39.29</td>\n",
       "      <td>0</td>\n",
       "    </tr>\n",
       "    <tr>\n",
       "      <th>2</th>\n",
       "      <td>3</td>\n",
       "      <td>F</td>\n",
       "      <td>es_transportation</td>\n",
       "      <td>18.76</td>\n",
       "      <td>0</td>\n",
       "    </tr>\n",
       "    <tr>\n",
       "      <th>3</th>\n",
       "      <td>4</td>\n",
       "      <td>M</td>\n",
       "      <td>es_transportation</td>\n",
       "      <td>13.95</td>\n",
       "      <td>0</td>\n",
       "    </tr>\n",
       "    <tr>\n",
       "      <th>4</th>\n",
       "      <td>2</td>\n",
       "      <td>M</td>\n",
       "      <td>es_transportation</td>\n",
       "      <td>49.87</td>\n",
       "      <td>0</td>\n",
       "    </tr>\n",
       "  </tbody>\n",
       "</table>\n",
       "</div>"
      ],
      "text/plain": [
       "  age gender           category  amount  fraud\n",
       "0   3      F  es_transportation   49.71      0\n",
       "1   4      F          es_health   39.29      0\n",
       "2   3      F  es_transportation   18.76      0\n",
       "3   4      M  es_transportation   13.95      0\n",
       "4   2      M  es_transportation   49.87      0"
      ]
     },
     "execution_count": 73,
     "metadata": {},
     "output_type": "execute_result"
    }
   ],
   "source": [
    "banksim_df.head()"
   ]
  },
  {
   "cell_type": "code",
   "execution_count": 74,
   "metadata": {
    "tags": []
   },
   "outputs": [
    {
     "data": {
      "text/plain": [
       "(7189, 18)"
      ]
     },
     "execution_count": 74,
     "metadata": {},
     "output_type": "execute_result"
    }
   ],
   "source": [
    "banksim_adj_df.shape"
   ]
  },
  {
   "cell_type": "code",
   "execution_count": 75,
   "metadata": {
    "tags": []
   },
   "outputs": [
    {
     "data": {
      "text/html": [
       "<div>\n",
       "<style scoped>\n",
       "    .dataframe tbody tr th:only-of-type {\n",
       "        vertical-align: middle;\n",
       "    }\n",
       "\n",
       "    .dataframe tbody tr th {\n",
       "        vertical-align: top;\n",
       "    }\n",
       "\n",
       "    .dataframe thead th {\n",
       "        text-align: right;\n",
       "    }\n",
       "</style>\n",
       "<table border=\"1\" class=\"dataframe\">\n",
       "  <thead>\n",
       "    <tr style=\"text-align: right;\">\n",
       "      <th></th>\n",
       "      <th>age</th>\n",
       "      <th>amount</th>\n",
       "      <th>fraud</th>\n",
       "      <th>M</th>\n",
       "      <th>es_barsandrestaurants</th>\n",
       "      <th>es_contents</th>\n",
       "      <th>es_fashion</th>\n",
       "      <th>es_food</th>\n",
       "      <th>es_health</th>\n",
       "      <th>es_home</th>\n",
       "      <th>es_hotelservices</th>\n",
       "      <th>es_hyper</th>\n",
       "      <th>es_leisure</th>\n",
       "      <th>es_otherservices</th>\n",
       "      <th>es_sportsandtoys</th>\n",
       "      <th>es_tech</th>\n",
       "      <th>es_transportation</th>\n",
       "      <th>es_travel</th>\n",
       "    </tr>\n",
       "  </thead>\n",
       "  <tbody>\n",
       "    <tr>\n",
       "      <th>0</th>\n",
       "      <td>3</td>\n",
       "      <td>49.71</td>\n",
       "      <td>0</td>\n",
       "      <td>0</td>\n",
       "      <td>0</td>\n",
       "      <td>0</td>\n",
       "      <td>0</td>\n",
       "      <td>0</td>\n",
       "      <td>0</td>\n",
       "      <td>0</td>\n",
       "      <td>0</td>\n",
       "      <td>0</td>\n",
       "      <td>0</td>\n",
       "      <td>0</td>\n",
       "      <td>0</td>\n",
       "      <td>0</td>\n",
       "      <td>1</td>\n",
       "      <td>0</td>\n",
       "    </tr>\n",
       "    <tr>\n",
       "      <th>1</th>\n",
       "      <td>4</td>\n",
       "      <td>39.29</td>\n",
       "      <td>0</td>\n",
       "      <td>0</td>\n",
       "      <td>0</td>\n",
       "      <td>0</td>\n",
       "      <td>0</td>\n",
       "      <td>0</td>\n",
       "      <td>1</td>\n",
       "      <td>0</td>\n",
       "      <td>0</td>\n",
       "      <td>0</td>\n",
       "      <td>0</td>\n",
       "      <td>0</td>\n",
       "      <td>0</td>\n",
       "      <td>0</td>\n",
       "      <td>0</td>\n",
       "      <td>0</td>\n",
       "    </tr>\n",
       "    <tr>\n",
       "      <th>2</th>\n",
       "      <td>3</td>\n",
       "      <td>18.76</td>\n",
       "      <td>0</td>\n",
       "      <td>0</td>\n",
       "      <td>0</td>\n",
       "      <td>0</td>\n",
       "      <td>0</td>\n",
       "      <td>0</td>\n",
       "      <td>0</td>\n",
       "      <td>0</td>\n",
       "      <td>0</td>\n",
       "      <td>0</td>\n",
       "      <td>0</td>\n",
       "      <td>0</td>\n",
       "      <td>0</td>\n",
       "      <td>0</td>\n",
       "      <td>1</td>\n",
       "      <td>0</td>\n",
       "    </tr>\n",
       "    <tr>\n",
       "      <th>3</th>\n",
       "      <td>4</td>\n",
       "      <td>13.95</td>\n",
       "      <td>0</td>\n",
       "      <td>1</td>\n",
       "      <td>0</td>\n",
       "      <td>0</td>\n",
       "      <td>0</td>\n",
       "      <td>0</td>\n",
       "      <td>0</td>\n",
       "      <td>0</td>\n",
       "      <td>0</td>\n",
       "      <td>0</td>\n",
       "      <td>0</td>\n",
       "      <td>0</td>\n",
       "      <td>0</td>\n",
       "      <td>0</td>\n",
       "      <td>1</td>\n",
       "      <td>0</td>\n",
       "    </tr>\n",
       "    <tr>\n",
       "      <th>4</th>\n",
       "      <td>2</td>\n",
       "      <td>49.87</td>\n",
       "      <td>0</td>\n",
       "      <td>1</td>\n",
       "      <td>0</td>\n",
       "      <td>0</td>\n",
       "      <td>0</td>\n",
       "      <td>0</td>\n",
       "      <td>0</td>\n",
       "      <td>0</td>\n",
       "      <td>0</td>\n",
       "      <td>0</td>\n",
       "      <td>0</td>\n",
       "      <td>0</td>\n",
       "      <td>0</td>\n",
       "      <td>0</td>\n",
       "      <td>1</td>\n",
       "      <td>0</td>\n",
       "    </tr>\n",
       "  </tbody>\n",
       "</table>\n",
       "</div>"
      ],
      "text/plain": [
       "   age  amount  fraud  M  es_barsandrestaurants  es_contents  es_fashion  \\\n",
       "0    3   49.71      0  0                      0            0           0   \n",
       "1    4   39.29      0  0                      0            0           0   \n",
       "2    3   18.76      0  0                      0            0           0   \n",
       "3    4   13.95      0  1                      0            0           0   \n",
       "4    2   49.87      0  1                      0            0           0   \n",
       "\n",
       "   es_food  es_health  es_home  es_hotelservices  es_hyper  es_leisure  \\\n",
       "0        0          0        0                 0         0           0   \n",
       "1        0          1        0                 0         0           0   \n",
       "2        0          0        0                 0         0           0   \n",
       "3        0          0        0                 0         0           0   \n",
       "4        0          0        0                 0         0           0   \n",
       "\n",
       "   es_otherservices  es_sportsandtoys  es_tech  es_transportation  es_travel  \n",
       "0                 0                 0        0                  1          0  \n",
       "1                 0                 0        0                  0          0  \n",
       "2                 0                 0        0                  1          0  \n",
       "3                 0                 0        0                  1          0  \n",
       "4                 0                 0        0                  1          0  "
      ]
     },
     "execution_count": 75,
     "metadata": {},
     "output_type": "execute_result"
    }
   ],
   "source": [
    "banksim_adj_df.head()"
   ]
  },
  {
   "cell_type": "markdown",
   "metadata": {},
   "source": [
    "**Instructions 2/3**\n",
    "\n",
    "* Group the data by transaction category and take the mean of the data."
   ]
  },
  {
   "cell_type": "code",
   "execution_count": 76,
   "metadata": {
    "tags": []
   },
   "outputs": [
    {
     "data": {
      "text/html": [
       "<div>\n",
       "<style scoped>\n",
       "    .dataframe tbody tr th:only-of-type {\n",
       "        vertical-align: middle;\n",
       "    }\n",
       "\n",
       "    .dataframe tbody tr th {\n",
       "        vertical-align: top;\n",
       "    }\n",
       "\n",
       "    .dataframe thead th {\n",
       "        text-align: right;\n",
       "    }\n",
       "</style>\n",
       "<table border=\"1\" class=\"dataframe\">\n",
       "  <thead>\n",
       "    <tr style=\"text-align: right;\">\n",
       "      <th></th>\n",
       "      <th>amount</th>\n",
       "      <th>fraud</th>\n",
       "    </tr>\n",
       "    <tr>\n",
       "      <th>category</th>\n",
       "      <th></th>\n",
       "      <th></th>\n",
       "    </tr>\n",
       "  </thead>\n",
       "  <tbody>\n",
       "    <tr>\n",
       "      <th>es_barsandrestaurants</th>\n",
       "      <td>43.841793</td>\n",
       "      <td>0.022472</td>\n",
       "    </tr>\n",
       "    <tr>\n",
       "      <th>es_contents</th>\n",
       "      <td>55.170000</td>\n",
       "      <td>0.000000</td>\n",
       "    </tr>\n",
       "    <tr>\n",
       "      <th>es_fashion</th>\n",
       "      <td>59.780769</td>\n",
       "      <td>0.020619</td>\n",
       "    </tr>\n",
       "    <tr>\n",
       "      <th>es_food</th>\n",
       "      <td>35.216050</td>\n",
       "      <td>0.000000</td>\n",
       "    </tr>\n",
       "    <tr>\n",
       "      <th>es_health</th>\n",
       "      <td>126.604704</td>\n",
       "      <td>0.242798</td>\n",
       "    </tr>\n",
       "    <tr>\n",
       "      <th>es_home</th>\n",
       "      <td>120.688317</td>\n",
       "      <td>0.208333</td>\n",
       "    </tr>\n",
       "    <tr>\n",
       "      <th>es_hotelservices</th>\n",
       "      <td>172.756245</td>\n",
       "      <td>0.548387</td>\n",
       "    </tr>\n",
       "    <tr>\n",
       "      <th>es_hyper</th>\n",
       "      <td>46.788180</td>\n",
       "      <td>0.125000</td>\n",
       "    </tr>\n",
       "    <tr>\n",
       "      <th>es_leisure</th>\n",
       "      <td>229.757600</td>\n",
       "      <td>1.000000</td>\n",
       "    </tr>\n",
       "    <tr>\n",
       "      <th>es_otherservices</th>\n",
       "      <td>149.648960</td>\n",
       "      <td>0.600000</td>\n",
       "    </tr>\n",
       "    <tr>\n",
       "      <th>es_sportsandtoys</th>\n",
       "      <td>157.251737</td>\n",
       "      <td>0.657895</td>\n",
       "    </tr>\n",
       "    <tr>\n",
       "      <th>es_tech</th>\n",
       "      <td>132.852862</td>\n",
       "      <td>0.179487</td>\n",
       "    </tr>\n",
       "    <tr>\n",
       "      <th>es_transportation</th>\n",
       "      <td>27.422014</td>\n",
       "      <td>0.000000</td>\n",
       "    </tr>\n",
       "    <tr>\n",
       "      <th>es_travel</th>\n",
       "      <td>231.818656</td>\n",
       "      <td>0.944444</td>\n",
       "    </tr>\n",
       "    <tr>\n",
       "      <th>es_wellnessandbeauty</th>\n",
       "      <td>66.167078</td>\n",
       "      <td>0.060606</td>\n",
       "    </tr>\n",
       "  </tbody>\n",
       "</table>\n",
       "</div>"
      ],
      "text/plain": [
       "                           amount     fraud\n",
       "category                                   \n",
       "es_barsandrestaurants   43.841793  0.022472\n",
       "es_contents             55.170000  0.000000\n",
       "es_fashion              59.780769  0.020619\n",
       "es_food                 35.216050  0.000000\n",
       "es_health              126.604704  0.242798\n",
       "es_home                120.688317  0.208333\n",
       "es_hotelservices       172.756245  0.548387\n",
       "es_hyper                46.788180  0.125000\n",
       "es_leisure             229.757600  1.000000\n",
       "es_otherservices       149.648960  0.600000\n",
       "es_sportsandtoys       157.251737  0.657895\n",
       "es_tech                132.852862  0.179487\n",
       "es_transportation       27.422014  0.000000\n",
       "es_travel              231.818656  0.944444\n",
       "es_wellnessandbeauty    66.167078  0.060606"
      ]
     },
     "execution_count": 76,
     "metadata": {},
     "output_type": "execute_result"
    }
   ],
   "source": [
    "banksim_df.groupby(['category']).mean()"
   ]
  },
  {
   "cell_type": "markdown",
   "metadata": {},
   "source": [
    "**Instructions 3/3**\n",
    "\n",
    "Based on these results, can you already say something about fraud in our data?\n",
    "\n",
    "**Possible Answers**\n",
    "\n",
    "* ~~No, I don't have enough information.~~\n",
    "* **Yes, the majority of fraud is observed in travel, leisure and sports related transactions.**"
   ]
  },
  {
   "cell_type": "markdown",
   "metadata": {},
   "source": [
    "### Customer segmentation\n",
    "\n",
    "In this exercise you're going to check whether there are any **obvious patterns** for the clients in this data, thus whether you need to segment your data into groups, or whether the data is rather homogenous.\n",
    "\n",
    "You unfortunately don't have a lot client information available; you can't for example distinguish between the wealth levels of different clients. However, there is data on **age ** available, so let's see whether there is any significant difference between behavior of age groups.\n",
    "\n",
    "**Instructions 1/3**\n",
    "\n",
    "* Group the dataframe `df` by the category `age` and get the means for each age group."
   ]
  },
  {
   "cell_type": "code",
   "execution_count": 77,
   "metadata": {
    "tags": []
   },
   "outputs": [
    {
     "data": {
      "text/html": [
       "<div>\n",
       "<style scoped>\n",
       "    .dataframe tbody tr th:only-of-type {\n",
       "        vertical-align: middle;\n",
       "    }\n",
       "\n",
       "    .dataframe tbody tr th {\n",
       "        vertical-align: top;\n",
       "    }\n",
       "\n",
       "    .dataframe thead th {\n",
       "        text-align: right;\n",
       "    }\n",
       "</style>\n",
       "<table border=\"1\" class=\"dataframe\">\n",
       "  <thead>\n",
       "    <tr style=\"text-align: right;\">\n",
       "      <th></th>\n",
       "      <th>amount</th>\n",
       "      <th>fraud</th>\n",
       "    </tr>\n",
       "    <tr>\n",
       "      <th>age</th>\n",
       "      <th></th>\n",
       "      <th></th>\n",
       "    </tr>\n",
       "  </thead>\n",
       "  <tbody>\n",
       "    <tr>\n",
       "      <th>0</th>\n",
       "      <td>49.468935</td>\n",
       "      <td>0.050000</td>\n",
       "    </tr>\n",
       "    <tr>\n",
       "      <th>1</th>\n",
       "      <td>35.622829</td>\n",
       "      <td>0.026648</td>\n",
       "    </tr>\n",
       "    <tr>\n",
       "      <th>2</th>\n",
       "      <td>37.228665</td>\n",
       "      <td>0.028718</td>\n",
       "    </tr>\n",
       "    <tr>\n",
       "      <th>3</th>\n",
       "      <td>37.279338</td>\n",
       "      <td>0.023283</td>\n",
       "    </tr>\n",
       "    <tr>\n",
       "      <th>4</th>\n",
       "      <td>36.197985</td>\n",
       "      <td>0.035966</td>\n",
       "    </tr>\n",
       "    <tr>\n",
       "      <th>5</th>\n",
       "      <td>37.547521</td>\n",
       "      <td>0.023990</td>\n",
       "    </tr>\n",
       "    <tr>\n",
       "      <th>6</th>\n",
       "      <td>36.700852</td>\n",
       "      <td>0.022293</td>\n",
       "    </tr>\n",
       "    <tr>\n",
       "      <th>U</th>\n",
       "      <td>39.117000</td>\n",
       "      <td>0.000000</td>\n",
       "    </tr>\n",
       "  </tbody>\n",
       "</table>\n",
       "</div>"
      ],
      "text/plain": [
       "        amount     fraud\n",
       "age                     \n",
       "0    49.468935  0.050000\n",
       "1    35.622829  0.026648\n",
       "2    37.228665  0.028718\n",
       "3    37.279338  0.023283\n",
       "4    36.197985  0.035966\n",
       "5    37.547521  0.023990\n",
       "6    36.700852  0.022293\n",
       "U    39.117000  0.000000"
      ]
     },
     "execution_count": 77,
     "metadata": {},
     "output_type": "execute_result"
    }
   ],
   "source": [
    "banksim_df.groupby(['age']).mean()"
   ]
  },
  {
   "cell_type": "markdown",
   "metadata": {},
   "source": [
    "**Instructions 2/3**\n",
    "\n",
    "* Count the values of each age group."
   ]
  },
  {
   "cell_type": "code",
   "execution_count": 78,
   "metadata": {
    "tags": []
   },
   "outputs": [
    {
     "data": {
      "text/plain": [
       "2    2333\n",
       "3    1718\n",
       "4    1279\n",
       "5     792\n",
       "1     713\n",
       "6     314\n",
       "0      40\n",
       "U      11\n",
       "Name: age, dtype: int64"
      ]
     },
     "execution_count": 78,
     "metadata": {},
     "output_type": "execute_result"
    }
   ],
   "source": [
    "banksim_df.age.value_counts()"
   ]
  },
  {
   "cell_type": "markdown",
   "metadata": {},
   "source": [
    "**Instructions 3/3**\n",
    "\n",
    "Based on the results you see, does it make sense to divide your data into age segments before running a fraud detection algorithm?\n",
    "\n",
    "**Possible Answers**\n",
    "\n",
    "* **No, the age groups who are the largest are relatively similar.**\n",
    "* ~~Yes, the age group \"0\" is very different and I would split that one out.~~\n",
    "\n",
    "**The average amount spent as well as fraud occurrence is rather similar across groups. Age group '0' stands out but since there are only 40 cases, it does not make sense to split these out in a separate group and run a separate model on them.**"
   ]
  },
  {
   "cell_type": "markdown",
   "metadata": {},
   "source": [
    "### Using statistics to define normal behavior\n",
    "\n",
    "In the previous exercises we saw that fraud is **more prevalent in certain transaction categories**, but that there is no obvious way to segment our data into for example age groups. This time, let's investigate the **average amounts spent** in normal transactions versus fraud transactions. This gives you an idea of how fraudulent transactions **differ structurally** from normal transactions.\n",
    "\n",
    "**Instructions**\n",
    "\n",
    "* Create two new dataframes from fraud and non-fraud observations. Locate the data in `df` with `.loc` and assign the condition \"where fraud is 1\" and \"where fraud is 0\" for creation of the new dataframes.\n",
    "* Plot the `amount` column of the newly created dataframes in the histogram plot functions and assign the labels `fraud` and `nonfraud` respectively to the plots."
   ]
  },
  {
   "cell_type": "code",
   "execution_count": 79,
   "metadata": {
    "tags": []
   },
   "outputs": [],
   "source": [
    "# Create two dataframes with fraud and non-fraud data \n",
    "df_fraud = banksim_df[banksim_df.fraud == 1] \n",
    "df_non_fraud = banksim_df[banksim_df.fraud == 0]"
   ]
  },
  {
   "cell_type": "code",
   "execution_count": 80,
   "metadata": {
    "tags": []
   },
   "outputs": [
    {
     "data": {
      "image/png": "[encoded data removed]",
      "text/plain": [
       "<Figure size 640x480 with 1 Axes>"
      ]
     },
     "metadata": {},
     "output_type": "display_data"
    }
   ],
   "source": [
    "# Plot histograms of the amounts in fraud and non-fraud data \n",
    "plt.hist(df_fraud.amount, alpha=0.5, label='fraud')\n",
    "plt.hist(df_non_fraud.amount, alpha=0.5, label='nonfraud')\n",
    "plt.xlabel('amount')\n",
    "plt.legend()\n",
    "plt.show()"
   ]
  },
  {
   "cell_type": "markdown",
   "metadata": {},
   "source": [
    "**As the number fraud observations is much smaller, it is difficult to see the full distribution. Nonetheless, you can see that the fraudulent transactions tend to be on the larger side relative to normal observations. This is good news, as it helps us later in detecting fraud from non-fraud. In the next chapter you're going to implement a clustering model to distinguish between normal and abnormal transactions, when the fraud labels are no longer available.**"
   ]
  },
  {
   "cell_type": "markdown",
   "metadata": {},
   "source": [
    "## Clustering methods to detect fraud"
   ]
  },
  {
   "cell_type": "markdown",
   "metadata": {},
   "source": [
    "#### K-means clustering\n",
    "\n",
    "![k-means](https://raw.githubusercontent.com/trenton3983/DataCamp/master/Images/fraud_detection/k-means.JPG)\n",
    "\n",
    "* The objective of any clustering model is to detect patterns in the data\n",
    "* More specifically, to group the data into distinct clusters made of data points that are very similar to each other, but distinct from the points in the other clusters.\n",
    "* **The objective of k-means is to minimize the sum of all distances between the data samples and their associated cluster centroids**\n",
    "    * The score is the inverse of that minimization, so the score should be close to 0.\n",
    "* **Using the distance to cluster centroids**\n",
    "    * Training samples are shown as dots and cluster centroids are shown as crosses\n",
    "    * Attempt to cluster the data in image A\n",
    "        * Start by putting in an initial guess for two cluster centroids, as in B\n",
    "        * Predefine the number of clusters at the start\n",
    "        * Then calculate the distances of each sample in the data to the closest centroid\n",
    "        * Figure C shows the data split into the two clusters\n",
    "        * Based on the initial clusters, the location of the centroids can be redefined (fig D) to minimize the sum of all distances in the two clusters.\n",
    "        * Repeat the step of reassigning points that are nearest to the centroid (fig E) until it converges to the point where no sample gets reassigned to another cluster (fig F)\n",
    "        * ![clustering](https://raw.githubusercontent.com/trenton3983/DataCamp/master/Images/fraud_detection/clustering.JPG)"
   ]
  },
  {
   "cell_type": "markdown",
   "metadata": {},
   "source": [
    "#### K-means clustering in Python\n",
    "\n",
    "* It's of utmost importance to scale the data before doing K-means clustering, or any algorithm that uses distances\n",
    "* Without scaling, features on a larger scale will weight more heavily in the algorithm.  All features should weigh equally at the initial stage\n",
    "* fix `random_state` so models can be compared\n",
    "\n",
    "```python\n",
    "# Import the packages\n",
    "from sklearn.preprocessing import MinMaxScaler\n",
    "from sklearn.cluster import KMeans\n",
    "\n",
    "# Transform and scale your data\n",
    "X = np.array(df).astype(np.float)\n",
    "scaler = MinMaxScaler()\n",
    "X_scaled = scaler.fit_transform(X)\n",
    "\n",
    "# Define the k-means model and fit to the data\n",
    "kmeans = KMeans(n_clusters=6, random_state=42).fit(X_scaled)\n",
    "```"
   ]
  },
  {
   "cell_type": "markdown",
   "metadata": {},
   "source": [
    "#### The right amount of clusters\n",
    "\n",
    "* The drawback of K-means clustering is the need to assign the number of clusters beforehand\n",
    "* There are multiple ways to check what the right number of clusters should be\n",
    "    * Silhouette method\n",
    "    * Elbow curve\n",
    "* By running a k-means model on clusters varying from 1 to 10 and generate an **elbow curve** by saving the scores for each model under \"score\".\n",
    "* Plot the scores against the number of clusters\n",
    "\n",
    "    \n",
    "```python\n",
    "clust = range(1, 10) \n",
    "kmeans = [KMeans(n_clusters=i) for i in clust]\n",
    "\n",
    "score = [kmeans[i].fit(X_scaled).score(X_scaled) for i in range(len(kmeans))]\n",
    "\n",
    "plt.plot(clust,score)\n",
    "plt.xlabel('Number of Clusters')\n",
    "plt.ylabel('Score')\n",
    "plt.title('Elbow Curve')\n",
    "plt.show()\n",
    "```\n",
    "\n",
    "![elbow curve](https://raw.githubusercontent.com/trenton3983/DataCamp/master/Images/fraud_detection/elbow.JPG)\n",
    "\n",
    "* The slight elbow at 3 means that 3 clusters could be optimal, but it's not very pronounced"
   ]
  },
  {
   "cell_type": "markdown",
   "metadata": {},
   "source": [
    "### Scaling the data\n",
    "\n",
    "For ML algorithms using distance based metrics, it is **crucial to always scale your data**, as features using different scales will distort your results. K-means uses the Euclidean distance to assess distance to cluster centroids, therefore you first need to scale your data before continuing to implement the algorithm. Let's do that first.\n",
    "\n",
    "Available is the dataframe `df` from the previous exercise, with some minor data preparation done so it is ready for you to use with `sklearn`. The fraud labels are separately stored under labels, you can use those to check the results later.\n",
    "\n",
    "**Instructions**\n",
    "\n",
    "* Import the ``MinMaxScaler``.\n",
    "* Transform your dataframe `df` into a numpy array `X` by taking only the values of `df` and make sure you have all `float` values.\n",
    "* Apply the defined scaler onto `X` to obtain scaled values of `X_scaled` to force all your features to a 0-1 scale."
   ]
  },
  {
   "cell_type": "code",
   "execution_count": 81,
   "metadata": {
    "tags": []
   },
   "outputs": [],
   "source": [
    "labels = banksim_adj_df.fraud"
   ]
  },
  {
   "cell_type": "code",
   "execution_count": 82,
   "metadata": {
    "tags": []
   },
   "outputs": [],
   "source": [
    "cols = ['age', 'amount', 'M', 'es_barsandrestaurants', 'es_contents',\n",
    "        'es_fashion', 'es_food', 'es_health', 'es_home', 'es_hotelservices',\n",
    "        'es_hyper', 'es_leisure', 'es_otherservices', 'es_sportsandtoys',\n",
    "        'es_tech', 'es_transportation', 'es_travel']"
   ]
  },
  {
   "cell_type": "code",
   "execution_count": 83,
   "metadata": {
    "tags": []
   },
   "outputs": [],
   "source": [
    "# Take the float values of df for X\n",
    "X = banksim_adj_df[cols].values.astype(np.float)"
   ]
  },
  {
   "cell_type": "code",
   "execution_count": 84,
   "metadata": {
    "tags": []
   },
   "outputs": [
    {
     "data": {
      "text/plain": [
       "(7189, 17)"
      ]
     },
     "execution_count": 84,
     "metadata": {},
     "output_type": "execute_result"
    }
   ],
   "source": [
    "X.shape"
   ]
  },
  {
   "cell_type": "code",
   "execution_count": 85,
   "metadata": {
    "tags": []
   },
   "outputs": [],
   "source": [
    "# Define the scaler and apply to the data\n",
    "scaler = MinMaxScaler()\n",
    "X_scaled = scaler.fit_transform(X)"
   ]
  },
  {
   "cell_type": "markdown",
   "metadata": {},
   "source": [
    "### K-mean clustering\n",
    "\n",
    "A very commonly used clustering algorithm is **K-means clustering**. For fraud detection, K-means clustering is straightforward to implement and relatively powerful in predicting suspicious cases. It is a good algorithm to start with when working on fraud detection problems. However, fraud data is oftentimes very large, especially when you are working with transaction data. **MiniBatch K-means** is an **efficient way** to implement K-means on a large dataset, which you will use in this exercise.\n",
    "\n",
    "The scaled data from the previous exercise, `X_scaled` is available. Let's give it a try.\n",
    "\n",
    "**Instructions**\n",
    "\n",
    "* Import `MiniBatchKMeans` from `sklearn`.\n",
    "* Initialize the minibatch kmeans model with 8 clusters.\n",
    "* Fit the model to your scaled data."
   ]
  },
  {
   "cell_type": "code",
   "execution_count": 86,
   "metadata": {
    "tags": []
   },
   "outputs": [
    {
     "data": {
      "text/html": [
       "<style>#sk-container-id-4 {color: black;background-color: white;}#sk-container-id-4 pre{padding: 0;}#sk-container-id-4 div.sk-toggleable {background-color: white;}#sk-container-id-4 label.sk-toggleable__label {cursor: pointer;display: block;width: 100%;margin-bottom: 0;padding: 0.3em;box-sizing: border-box;text-align: center;}#sk-container-id-4 label.sk-toggleable__label-arrow:before {content: \"▸\";float: left;margin-right: 0.25em;color: #696969;}#sk-container-id-4 label.sk-toggleable__label-arrow:hover:before {color: black;}#sk-container-id-4 div.sk-estimator:hover label.sk-toggleable__label-arrow:before {color: black;}#sk-container-id-4 div.sk-toggleable__content {max-height: 0;max-width: 0;overflow: hidden;text-align: left;background-color: #f0f8ff;}#sk-container-id-4 div.sk-toggleable__content pre {margin: 0.2em;color: black;border-radius: 0.25em;background-color: #f0f8ff;}#sk-container-id-4 input.sk-toggleable__control:checked~div.sk-toggleable__content {max-height: 200px;max-width: 100%;overflow: auto;}#sk-container-id-4 input.sk-toggleable__control:checked~label.sk-toggleable__label-arrow:before {content: \"▾\";}#sk-container-id-4 div.sk-estimator input.sk-toggleable__control:checked~label.sk-toggleable__label {background-color: #d4ebff;}#sk-container-id-4 div.sk-label input.sk-toggleable__control:checked~label.sk-toggleable__label {background-color: #d4ebff;}#sk-container-id-4 input.sk-hidden--visually {border: 0;clip: rect(1px 1px 1px 1px);clip: rect(1px, 1px, 1px, 1px);height: 1px;margin: -1px;overflow: hidden;padding: 0;position: absolute;width: 1px;}#sk-container-id-4 div.sk-estimator {font-family: monospace;background-color: #f0f8ff;border: 1px dotted black;border-radius: 0.25em;box-sizing: border-box;margin-bottom: 0.5em;}#sk-container-id-4 div.sk-estimator:hover {background-color: #d4ebff;}#sk-container-id-4 div.sk-parallel-item::after {content: \"\";width: 100%;border-bottom: 1px solid gray;flex-grow: 1;}#sk-container-id-4 div.sk-label:hover label.sk-toggleable__label {background-color: #d4ebff;}#sk-container-id-4 div.sk-serial::before {content: \"\";position: absolute;border-left: 1px solid gray;box-sizing: border-box;top: 0;bottom: 0;left: 50%;z-index: 0;}#sk-container-id-4 div.sk-serial {display: flex;flex-direction: column;align-items: center;background-color: white;padding-right: 0.2em;padding-left: 0.2em;position: relative;}#sk-container-id-4 div.sk-item {position: relative;z-index: 1;}#sk-container-id-4 div.sk-parallel {display: flex;align-items: stretch;justify-content: center;background-color: white;position: relative;}#sk-container-id-4 div.sk-item::before, #sk-container-id-4 div.sk-parallel-item::before {content: \"\";position: absolute;border-left: 1px solid gray;box-sizing: border-box;top: 0;bottom: 0;left: 50%;z-index: -1;}#sk-container-id-4 div.sk-parallel-item {display: flex;flex-direction: column;z-index: 1;position: relative;background-color: white;}#sk-container-id-4 div.sk-parallel-item:first-child::after {align-self: flex-end;width: 50%;}#sk-container-id-4 div.sk-parallel-item:last-child::after {align-self: flex-start;width: 50%;}#sk-container-id-4 div.sk-parallel-item:only-child::after {width: 0;}#sk-container-id-4 div.sk-dashed-wrapped {border: 1px dashed gray;margin: 0 0.4em 0.5em 0.4em;box-sizing: border-box;padding-bottom: 0.4em;background-color: white;}#sk-container-id-4 div.sk-label label {font-family: monospace;font-weight: bold;display: inline-block;line-height: 1.2em;}#sk-container-id-4 div.sk-label-container {text-align: center;}#sk-container-id-4 div.sk-container {/* jupyter's `normalize.less` sets `[hidden] { display: none; }` but bootstrap.min.css set `[hidden] { display: none !important; }` so we also need the `!important` here to be able to override the default hidden behavior on the sphinx rendered scikit-learn.org. See: https://github.com/scikit-learn/scikit-learn/issues/21755 */display: inline-block !important;position: relative;}#sk-container-id-4 div.sk-text-repr-fallback {display: none;}</style><div id=\"sk-container-id-4\" class=\"sk-top-container\"><div class=\"sk-text-repr-fallback\"><pre>MiniBatchKMeans(random_state=0)</pre><b>In a Jupyter environment, please rerun this cell to show the HTML representation or trust the notebook. <br />On GitHub, the HTML representation is unable to render, please try loading this page with nbviewer.org.</b></div><div class=\"sk-container\" hidden><div class=\"sk-item\"><div class=\"sk-estimator sk-toggleable\"><input class=\"sk-toggleable__control sk-hidden--visually\" id=\"sk-estimator-id-4\" type=\"checkbox\" checked><label for=\"sk-estimator-id-4\" class=\"sk-toggleable__label sk-toggleable__label-arrow\">MiniBatchKMeans</label><div class=\"sk-toggleable__content\"><pre>MiniBatchKMeans(random_state=0)</pre></div></div></div></div></div>"
      ],
      "text/plain": [
       "MiniBatchKMeans(random_state=0)"
      ]
     },
     "execution_count": 86,
     "metadata": {},
     "output_type": "execute_result"
    }
   ],
   "source": [
    "# Define the model \n",
    "kmeans = MiniBatchKMeans(n_clusters=8, random_state=0)\n",
    "\n",
    "# Fit the model to the scaled data\n",
    "kmeans.fit(X_scaled)"
   ]
  },
  {
   "cell_type": "markdown",
   "metadata": {},
   "source": [
    "**You have now fitted your MiniBatch K-means model to the data. In the upcoming exercises you're going to explore whether this model is any good at flagging fraud. But before doing that, you still need to figure our what the right number of clusters to use is. Let's do that in the next exercise.**"
   ]
  },
  {
   "cell_type": "markdown",
   "metadata": {},
   "source": [
    "### Elbow method\n",
    "\n",
    "In the previous exercise you've implemented MiniBatch K-means with 8 clusters, without actually checking what the right amount of clusters should be. For our first fraud detection approach, it is important to **get the number of clusters right**, especially when you want to use the outliers of those clusters as fraud predictions. To decide which amount of clusters you're going to use, let's apply the **Elbow method** and see what the optimal number of clusters should be based on this method.\n",
    "\n",
    "`X_scaled` is again available for you to use and `MiniBatchKMeans` has been imported from `sklearn`.\n",
    "\n",
    "**Instructions**\n",
    "\n",
    "* Define the range to be between 1 and 10 clusters.\n",
    "* Run MiniBatch K-means on all the clusters in the range using list comprehension.\n",
    "* Fit each model on the scaled data and obtain the scores from the scaled data.\n",
    "* Plot the cluster numbers and their respective scores."
   ]
  },
  {
   "cell_type": "code",
   "execution_count": 87,
   "metadata": {
    "tags": []
   },
   "outputs": [],
   "source": [
    "# Define the range of clusters to try\n",
    "clustno = range(1, 10)\n",
    "\n",
    "# Run MiniBatch Kmeans over the number of clusters\n",
    "kmeans = [MiniBatchKMeans(n_clusters=i) for i in clustno]\n",
    "\n",
    "# Obtain the score for each model\n",
    "score = [kmeans[i].fit(X_scaled).score(X_scaled) for i in range(len(kmeans))]"
   ]
  },
  {
   "cell_type": "code",
   "execution_count": 88,
   "metadata": {
    "tags": []
   },
   "outputs": [
    {
     "data": {
      "image/png": "[encoded data removed]",
      "text/plain": [
       "<Figure size 640x480 with 1 Axes>"
      ]
     },
     "metadata": {},
     "output_type": "display_data"
    }
   ],
   "source": [
    "# Plot the models and their respective score \n",
    "plt.plot(clustno, score)\n",
    "plt.xlabel('Number of Clusters')\n",
    "plt.ylabel('Score')\n",
    "plt.title('Elbow Curve')\n",
    "plt.show()"
   ]
  },
  {
   "cell_type": "markdown",
   "metadata": {},
   "source": [
    "**Now you can see that the optimal number of clusters should probably be at around 3 clusters, as that is where the elbow is in the curve. We'll use this in the next exercise as our baseline model, and see how well this does in detecting fraud**"
   ]
  },
  {
   "cell_type": "markdown",
   "metadata": {},
   "source": [
    "## Assigning fraud vs. non-fraud\n",
    "\n",
    "* ![clusters](https://raw.githubusercontent.com/trenton3983/DataCamp/master/Images/fraud_detection/clusters_1.JPG)\n",
    "* Take the outliers of each cluster, and flag those as fraud.\n",
    "* ![clusters](https://raw.githubusercontent.com/trenton3983/DataCamp/master/Images/fraud_detection/clusters_2.JPG)\n",
    "1. Collect and store the cluster centroids in memory\n",
    "    * Starting point to decide what's normal and not\n",
    "1. Calculate the distance of each point in the dataset, to their own cluster centroid\n",
    "* ![clusters](https://raw.githubusercontent.com/trenton3983/DataCamp/master/Images/fraud_detection/clusters_3.JPG)\n",
    "    * Euclidean distance is depicted by the circles in this case\n",
    "    * Define a cut-off point for the distances to define what's an outlier\n",
    "        * Done based on the distributions of the distances collected\n",
    "        * i.e. everything with a distance larger than the top 95th percentile, should be considered an outlier\n",
    "        * the tail of the distribution of distances\n",
    "        * anything outside the yellow circles is an outlier\n",
    "        * ![clusters](https://raw.githubusercontent.com/trenton3983/DataCamp/master/Images/fraud_detection/clusters_4.JPG)\n",
    "        * these are definitely outliers and can be described as abnormal or suspicious\n",
    "            * doesn't necessarily mean they are fraudulent"
   ]
  },
  {
   "cell_type": "markdown",
   "metadata": {},
   "source": [
    "#### Flagging Fraud Based on Distance to Centroid\n",
    "\n",
    "```python\n",
    "# Run the kmeans model on scaled data\n",
    "kmeans = KMeans(n_clusters=6, random_state=42,n_jobs=-1).fit(X_scaled)\n",
    "\n",
    "# Get the cluster number for each datapoint\n",
    "X_clusters = kmeans.predict(X_scaled)\n",
    "\n",
    "# Save the cluster centroids\n",
    "X_clusters_centers = kmeans.cluster_centers_\n",
    "\n",
    "# Calculate the distance to the cluster centroid for each point\n",
    "dist = [np.linalg.norm(x-y) for x,y in zip(X_scaled, X_clusters_centers[X_clusters])]\n",
    "\n",
    "# Create predictions based on distance\n",
    "km_y_pred = np.array(dist)\n",
    "km_y_pred[dist>=np.percentile(dist, 93)] = 1\n",
    "km_y_pred[dist<np.percentile(dist, 93)] = 0\n",
    "```\n",
    "\n",
    "* `np.linalg.norm`: returns the vector norm, the vector of distance for each datapoint to their assigned cluster\n",
    "* use the percentiles of the distances to determine which samples are outliers"
   ]
  },
  {
   "cell_type": "markdown",
   "metadata": {},
   "source": [
    "#### Validating the Model Results\n",
    "\n",
    "* without fraud labels, the usual performance metrics can't be run\n",
    "    * check with the fraud analyst\n",
    "    * investigate and describe cases that are flagged in more detail\n",
    "        * is it fraudulent or just a rare case of legit data\n",
    "        * avoid rare, legit cases by deleting certain features or removing the cases from the data\n",
    "    * if there are past cases of fraud, see if the model can predict them using historic data"
   ]
  },
  {
   "cell_type": "markdown",
   "metadata": {},
   "source": [
    "### Detecting outliers\n",
    "\n",
    "In the next exercises, you're going to use the K-means algorithm to predict fraud, and compare those predictions to the actual labels that are saved, to sense check our results.\n",
    "\n",
    "The fraudulent transactions are typically flagged as the observations that are furthest aways from the cluster centroid. You'll learn how to do this and how to determine the cut-off in this exercise. In the next one, you'll check the results.\n",
    "\n",
    "Available are the scaled observations X_scaled, as well as the labels stored under the variable y.\n",
    "\n",
    "**Instructions**\n",
    "\n",
    "* Split the scaled data and labels y into a train and test set.\n",
    "* Define the MiniBatch K-means model with 3 clusters, and fit to the training data.\n",
    "* Get the cluster predictions from your test data and obtain the cluster centroids.\n",
    "* Define the boundary between fraud and non fraud to be at 95% of distance distribution and higher."
   ]
  },
  {
   "cell_type": "code",
   "execution_count": 89,
   "metadata": {
    "tags": []
   },
   "outputs": [],
   "source": [
    "# Split the data into training and test set\n",
    "X_train, X_test, y_train, y_test = train_test_split(X_scaled, labels, test_size=0.3, random_state=0)\n",
    "\n",
    "# Define K-means model \n",
    "kmeans = MiniBatchKMeans(n_clusters=3, random_state=42).fit(X_train)\n",
    "\n",
    "# Obtain predictions and calculate distance from cluster centroid\n",
    "X_test_clusters = kmeans.predict(X_test)\n",
    "X_test_clusters_centers = kmeans.cluster_centers_\n",
    "dist = [np.linalg.norm(x-y) for x, y in zip(X_test, X_test_clusters_centers[X_test_clusters])]\n",
    "\n",
    "# Create fraud predictions based on outliers on clusters \n",
    "km_y_pred = np.array(dist)\n",
    "km_y_pred[dist >= np.percentile(dist, 95)] = 1\n",
    "km_y_pred[dist < np.percentile(dist, 95)] = 0"
   ]
  },
  {
   "cell_type": "markdown",
   "metadata": {},
   "source": [
    "### Checking model results\n",
    "\n",
    "In the previous exercise you've flagged all observations to be fraud, if they are in the top 5th percentile in distance from the cluster centroid. I.e. these are the very outliers of the three clusters. For this exercise you have the scaled data and labels already split into training and test set, so y_test is available. The predictions from the previous exercise, km_y_pred, are also available. Let's create some performance metrics and see how well you did.\n",
    "\n",
    "**Instructions 1/3**\n",
    "\n",
    "* Obtain the area under the ROC curve from your test labels and predicted labels."
   ]
  },
  {
   "cell_type": "code",
   "execution_count": 90,
   "metadata": {
    "tags": []
   },
   "outputs": [],
   "source": [
    "def plot_confusion_matrix(cm, classes=['Not Fraud', 'Fraud'],\n",
    "                          normalize=False,\n",
    "                          title='Fraud Confusion matrix',\n",
    "                          cmap=plt.cm.Blues):\n",
    "    \"\"\"\n",
    "    This function prints and plots the confusion matrix.\n",
    "    Normalization can be applied by setting `normalize=True`.\n",
    "    From:\n",
    "        http://scikit-learn.org/stable/auto_examples/model_selection/plot_confusion_matrix.html#sphx-glr-auto-\n",
    "        examples-model-selection-plot-confusion-matrix-py\n",
    "    \"\"\"\n",
    "    if normalize:\n",
    "        cm = cm.astype('float') / cm.sum(axis=1)[:, np.newaxis]\n",
    "        print(\"Normalized confusion matrix\")\n",
    "    else:\n",
    "        print('Confusion matrix, without normalization')\n",
    "\n",
    "    # print(cm)\n",
    "\n",
    "    plt.imshow(cm, interpolation='nearest', cmap=cmap)\n",
    "    plt.title(title)\n",
    "    plt.colorbar()\n",
    "    tick_marks = np.arange(len(classes))\n",
    "    plt.xticks(tick_marks, classes, rotation=45)\n",
    "    plt.yticks(tick_marks, classes)\n",
    "\n",
    "    fmt = '.2f' if normalize else 'd'\n",
    "    thresh = cm.max() / 2.\n",
    "    for i, j in product(range(cm.shape[0]), range(cm.shape[1])):\n",
    "        plt.text(j, i, format(cm[i, j], fmt),\n",
    "                 horizontalalignment=\"center\",\n",
    "                 color=\"white\" if cm[i, j] > thresh else \"black\")\n",
    "\n",
    "    plt.tight_layout()\n",
    "    plt.ylabel('True label')\n",
    "    plt.xlabel('Predicted label')\n",
    "    plt.show()"
   ]
  },
  {
   "cell_type": "code",
   "execution_count": 91,
   "metadata": {
    "tags": []
   },
   "outputs": [
    {
     "data": {
      "text/plain": [
       "0.8197704982668266"
      ]
     },
     "execution_count": 91,
     "metadata": {},
     "output_type": "execute_result"
    }
   ],
   "source": [
    "# Obtain the ROC score\n",
    "roc_auc_score(y_test, km_y_pred)"
   ]
  },
  {
   "cell_type": "markdown",
   "metadata": {},
   "source": [
    "**Instructions 2/3**\n",
    "\n",
    "* Obtain the confusion matrix from the test labels and predicted labels and plot the results."
   ]
  },
  {
   "cell_type": "code",
   "execution_count": 92,
   "metadata": {
    "tags": []
   },
   "outputs": [
    {
     "name": "stdout",
     "output_type": "stream",
     "text": [
      "Confusion matrix, without normalization\n"
     ]
    },
    {
     "data": {
      "image/png": "[encoded data removed]",
      "text/plain": [
       "<Figure size 640x480 with 2 Axes>"
      ]
     },
     "metadata": {},
     "output_type": "display_data"
    }
   ],
   "source": [
    "# Create a confusion matrix\n",
    "km_cm = confusion_matrix(y_test, km_y_pred)\n",
    "\n",
    "# Plot the confusion matrix in a figure to visualize results \n",
    "plot_confusion_matrix(km_cm)"
   ]
  },
  {
   "cell_type": "markdown",
   "metadata": {},
   "source": [
    "**Instructions 3/3**\n",
    "\n",
    "If you were to decrease the percentile used as a cutoff point in the previous exercise to 93% instead of 95%, what would that do to your prediction results?\n",
    "\n",
    "**Possible Answers**\n",
    "\n",
    "* **The number of fraud cases caught increases, but false positives also increase.**\n",
    "* ~~The number of fraud cases caught decreases, and false positives decrease.~~\n",
    "* ~~The number of fraud cases caught increases, but false positives would decrease.~~\n",
    "* ~~Nothing would happen to the amount of fraud cases caught.~~"
   ]
  },
  {
   "cell_type": "markdown",
   "metadata": {},
   "source": [
    "## Alternate clustering methods for fraud detection\n",
    "\n",
    "* In addition to K-means, there are many different clustering methods, which can be used for fraud detection\n",
    "* ![clustering methods](https://raw.githubusercontent.com/trenton3983/DataCamp/master/Images/fraud_detection/clustering_methods.JPG)\n",
    "* K-means works well when the data is clustered in normal, round shapes\n",
    "* There are methods to flag fraud other the cluster outliers\n",
    "* ![clustering outlier](https://raw.githubusercontent.com/trenton3983/DataCamp/master/Images/fraud_detection/cluster_outlier.JPG)\n",
    "    * Small clusters can be an indication of fraud\n",
    "    * This approach can be used when fraudulent behavior has commonalities, which cause clustering\n",
    "    * The fraudulent data would cluster in tiny groups, rather than be the outliers of larger clusters\n",
    "* ![typical data](https://raw.githubusercontent.com/trenton3983/DataCamp/master/Images/fraud_detection/typical_data.JPG)\n",
    "    * In this case there are 3 obvious clusters\n",
    "    * The smallest dots are outliers and outside of what can be described as normal behavior\n",
    "    * There are also small to medium clusters closely connected to the red cluster\n",
    "    * Visualizing the data with something like [PCA](https://en.wikipedia.org/wiki/Principal_component_analysis) can be quite helpful"
   ]
  },
  {
   "cell_type": "markdown",
   "metadata": {},
   "source": [
    "#### DBSCAN: Density-Based Spatial Clustering of Applications with Noise\n",
    "\n",
    "* [DBscan](https://en.wikipedia.org/wiki/DBSCAN)\n",
    "* DBSCAN vs. K-means\n",
    "    * The number of clusters does not need to be predefined\n",
    "        * The algorithm finds core samples of high density and expands clusters from them\n",
    "        * Works well on data containing clusters of similar density\n",
    "    * This type of algorithm can be used to identify fraud as very small clusters\n",
    "    * Maximum allowed distance between points in a cluster must be assigned\n",
    "    * Minimal number of data points in clusters must be assigned\n",
    "    * Better performance on weirdly shaped data\n",
    "    * Computationally heavier then MiniBatch K-means"
   ]
  },
  {
   "cell_type": "markdown",
   "metadata": {},
   "source": [
    "#### Implementation of DBSCAN\n",
    "\n",
    "```python\n",
    "from sklearn.cluster import DBSCAN\n",
    "db = DBSCAN(eps=0.5, min_samples=10, n_jobs=-1).fit(X_scaled)\n",
    "\n",
    "# Get the cluster labels (aka numbers)\n",
    "pred_labels = db.labels_\n",
    "\n",
    "# Count the total number of clusters\n",
    "n_clusters_ = len(set(pred_labels)) - (1 if -1 in pred_labels else 0)\n",
    "\n",
    "# Print model results\n",
    "print(f'Estimated number of clusters: {n_clusters_}')\n",
    ">>> Estimated number of clusters: 31\n",
    "    \n",
    "# Print model results\n",
    "print(f'Silhouette Coefficient: {metrics.silhouette_score(X_scaled, pred_labels):0.3f}')\n",
    ">>> Silhouette Coefficient: 0.359\n",
    "    \n",
    "# Get sample counts in each cluster \n",
    "counts = np.bincount(pred_labels[pred_labels>=0])\n",
    "print(counts)\n",
    ">>> [ 763, 496, 840, 355 1086, 676, 63, 306, 560, 134, 28, 18, 262, 128,\n",
    "     332, 22, 22, 13, 31, 38, 36, 28, 14, 12, 30, 10, 11, 10, 21, 10, 5]\n",
    "```\n",
    "\n",
    "* start by defining the epsilon `eps`\n",
    "    * Distance between data points allowed from which the cluster expands\n",
    "* define minimum samples in the clusters\n",
    "* conventional DBSCAN can't produce the optimal value of epsilon, so it requires sophisticated DBSCAN modifications to automatically determine the optimal epsilon value\n",
    "* Fit DBSCAN to **scaled data**\n",
    "* Use `labels_` method to get the assigned cluster label for each data point\n",
    "* The cluster count can also be determine by counting the unique cluster labels from the cluster `label_` predictions\n",
    "* Can have performance metrics such as **average silhouette score**\n",
    "* The size of each cluster can be calculated with `np.bincount`\n",
    "    * counts the number of occurrences of non-negative values in a `numpy` array\n",
    "* sort `counts` and decide how many of the smaller clusters to flag as fraud\n",
    "    * selecting the clusters to flag, is a trial-and-error step and depends on the number of cases the fraud team can manage"
   ]
  },
  {
   "cell_type": "markdown",
   "metadata": {},
   "source": [
    "### DB scan\n",
    "\n",
    "In this exercise you're going to explore using a **density based clustering** method (DBSCAN) to detect fraud. The advantage of DBSCAN is that you **do not need to define the number of clusters** beforehand. Also, DBSCAN can handle weirdly shaped data (i.e. non-convex) much better than K-means can. This time, you are not going to take the outliers of the clusters and use that for fraud, but take the **smallest clusters** in the data and label those as fraud. You again have the scaled dataset, i.e. X_scaled available. Let's give it a try!\n",
    "\n",
    "**Instructions**\n",
    "\n",
    "* Import `DBSCAN`.\n",
    "* Initialize a DBSCAN model setting the maximum distance between two samples to 0.9 and the minimum observations in the clusters to 10, and fit the model to the scaled data.\n",
    "* Obtain the predicted labels, these are the cluster numbers assigned to an observation.\n",
    "* Print the number of clusters and the rest of the performance metrics."
   ]
  },
  {
   "cell_type": "code",
   "execution_count": 93,
   "metadata": {
    "tags": []
   },
   "outputs": [],
   "source": [
    "# Initialize and fit the DBscan model\n",
    "db = DBSCAN(eps=0.9, min_samples=10, n_jobs=-1).fit(X_scaled)\n",
    "\n",
    "# Obtain the predicted labels and calculate number of clusters\n",
    "pred_labels = db.labels_\n",
    "n_clusters = len(set(pred_labels)) - (1 if -1 in labels else 0)"
   ]
  },
  {
   "cell_type": "code",
   "execution_count": 94,
   "metadata": {
    "tags": []
   },
   "outputs": [
    {
     "name": "stdout",
     "output_type": "stream",
     "text": [
      "Estimated number of clusters: 23\n",
      "Homogeneity: 0.612\n",
      "Silhouette Coefficient: 0.713\n"
     ]
    }
   ],
   "source": [
    "# Print performance metrics for DBscan\n",
    "print(f'Estimated number of clusters: {n_clusters}')\n",
    "print(f'Homogeneity: {homogeneity_score(labels, pred_labels):0.3f}')\n",
    "print(f'Silhouette Coefficient: {silhouette_score(X_scaled, pred_labels):0.3f}')"
   ]
  },
  {
   "cell_type": "markdown",
   "metadata": {},
   "source": [
    "**The number of clusters is much higher than with K-means. For fraud detection this is for now OK, as we are only interested in the smallest clusters, since those are considered as abnormal. Now have a look at those clusters and decide which one to flag as fraud.**"
   ]
  },
  {
   "cell_type": "markdown",
   "metadata": {},
   "source": [
    "### Assessing smallest clusters\n",
    "\n",
    "In this exercise you're going to have a look at the clusters that came out of DBscan, and flag certain clusters as fraud:\n",
    "\n",
    "* you first need to figure out how big the clusters are, and **filter out the smallest**\n",
    "* then, you're going to take the smallest ones and **flag those as fraud**\n",
    "* last, you'll **check with the original labels** whether this does actually do a good job in detecting fraud.\n",
    "\n",
    "Available are the DBscan model predictions, so `n_clusters` is available as well as the cluster labels, which are saved under `pred_labels`. Let's give it a try!\n",
    "\n",
    "**Instructions 1/3**\n",
    "\n",
    "* Count the samples within each cluster by running a bincount on the predicted cluster numbers under `pred_labels` and print the results."
   ]
  },
  {
   "cell_type": "code",
   "execution_count": 95,
   "metadata": {
    "tags": []
   },
   "outputs": [
    {
     "name": "stdout",
     "output_type": "stream",
     "text": [
      "[3252  145 2714   55  174  119  122   98   54   15   76   15   43   25\n",
      "   51   47   42   15   25   20   19   10]\n"
     ]
    }
   ],
   "source": [
    "# Count observations in each cluster number\n",
    "counts = np.bincount(pred_labels[pred_labels >= 0])\n",
    "\n",
    "# Print the result\n",
    "print(counts)"
   ]
  },
  {
   "cell_type": "markdown",
   "metadata": {},
   "source": [
    "**Instructions 2/3**\n",
    "\n",
    "* Sort the sample `counts` and take the top 3 smallest clusters, and print the results."
   ]
  },
  {
   "cell_type": "code",
   "execution_count": 96,
   "metadata": {
    "tags": []
   },
   "outputs": [],
   "source": [
    "# Sort the sample counts of the clusters and take the top 3 smallest clusters\n",
    "smallest_clusters = np.argsort(counts)[:3]"
   ]
  },
  {
   "cell_type": "code",
   "execution_count": 97,
   "metadata": {
    "tags": []
   },
   "outputs": [
    {
     "name": "stdout",
     "output_type": "stream",
     "text": [
      "The smallest clusters are clusters: [21 17  9]\n"
     ]
    }
   ],
   "source": [
    "# Print the results \n",
    "print(f'The smallest clusters are clusters: {smallest_clusters}')"
   ]
  },
  {
   "cell_type": "markdown",
   "metadata": {},
   "source": [
    "**Instructions 3/3**\n",
    "\n",
    "* Within `counts`, select the smallest clusters only, to print the number of samples in the three smallest clusters."
   ]
  },
  {
   "cell_type": "code",
   "execution_count": 98,
   "metadata": {
    "tags": []
   },
   "outputs": [
    {
     "name": "stdout",
     "output_type": "stream",
     "text": [
      "Their counts are: [10 15 15]\n"
     ]
    }
   ],
   "source": [
    "# Print the counts of the smallest clusters only\n",
    "print(f'Their counts are: {counts[smallest_clusters]}')"
   ]
  },
  {
   "cell_type": "markdown",
   "metadata": {},
   "source": [
    "**So now we know which smallest clusters you could flag as fraud. If you were to take more of the smallest clusters, you cast your net wider and catch more fraud, but most likely also more false positives. It is up to the fraud analyst to find the right amount of cases to flag and to investigate. In the next exercise you'll check the results with the actual labels.**"
   ]
  },
  {
   "cell_type": "markdown",
   "metadata": {},
   "source": [
    "### Results verification\n",
    "\n",
    "In this exercise you're going to **check the results** of your DBscan fraud detection model. In reality, you often don't have reliable labels and this where a fraud analyst can help you validate the results. He/She can check your results and see whether the cases you flagged are indeed suspicious. You can also **check historically known cases** of fraud and see whether your model flags them.\n",
    "\n",
    "In this case, you'll **use the fraud labels** to check your model results. The predicted cluster numbers are available under `pred_labels` as well as the original fraud `labels`.\n",
    "\n",
    "**Instructions**\n",
    "\n",
    "* Create a dataframe combining the cluster numbers with the actual labels.\n",
    "* Create a condition that flags fraud for the three smallest clusters: clusters 21, 17 and 9.\n",
    "* Create a crosstab from the actual fraud labels with the newly created predicted fraud labels."
   ]
  },
  {
   "cell_type": "code",
   "execution_count": 99,
   "metadata": {
    "tags": []
   },
   "outputs": [],
   "source": [
    "# Create a dataframe of the predicted cluster numbers and fraud labels \n",
    "df = pd.DataFrame({'clusternr':pred_labels,'fraud':labels})\n",
    "\n",
    "# Create a condition flagging fraud for the smallest clusters \n",
    "df['predicted_fraud'] = np.where((df['clusternr'].isin([21, 17, 9])), 1 , 0)"
   ]
  },
  {
   "cell_type": "code",
   "execution_count": 100,
   "metadata": {
    "tags": []
   },
   "outputs": [
    {
     "name": "stdout",
     "output_type": "stream",
     "text": [
      "Flagged Fraud     0   1\n",
      "Actual Fraud           \n",
      "0              6973  16\n",
      "1               176  24\n"
     ]
    }
   ],
   "source": [
    "# Run a crosstab on the results \n",
    "print(pd.crosstab(df['fraud'], df['predicted_fraud'], rownames=['Actual Fraud'], colnames=['Flagged Fraud']))"
   ]
  },
  {
   "cell_type": "markdown",
   "metadata": {},
   "source": [
    "**How does this compare to the K-means model? The good thing is: our of all flagged cases, roughly 2/3 are actually fraud! Since you only take the three smallest clusters, by definition you flag less cases of fraud, so you catch less but also have less false positives. However, you are missing quite a lot of fraud cases. Increasing the amount of smallest clusters you flag could improve that, at the cost of more false positives of course. In the next chapter you'll learn how to further improve fraud detection models by including text analysis.**"
   ]
  },
  {
   "cell_type": "markdown",
   "metadata": {},
   "source": [
    "# Fraud detection using text\n",
    "\n",
    "Use text data, text mining and topic modeling to detect fraudulent behavior."
   ]
  },
  {
   "cell_type": "markdown",
   "metadata": {},
   "source": [
    "## Using text data\n",
    "\n",
    "* Types of useful text data:\n",
    "    1. Emails from employees and/or clients\n",
    "    1. Transaction descriptions\n",
    "    1. Employee notes\n",
    "    1. Insurance claim form description box\n",
    "    1. Recorded telephone conversations\n",
    "* Text mining techniques for fraud detection\n",
    "    1. Word search\n",
    "    1. Sentiment analysis\n",
    "    1. Word frequencies and topic analysis\n",
    "    1. Style\n",
    "* Word search for fraud detection\n",
    "    * Flagging suspicious words:\n",
    "        1. Simple, straightforward and easy to explain\n",
    "        1. Match results can be used as a filter on top of machine learning model\n",
    "        1. Match results can be used as a feature in a machine learning model"
   ]
  },
  {
   "cell_type": "markdown",
   "metadata": {},
   "source": [
    "#### Word counts to flag fraud with pandas\n",
    "\n",
    "```python\n",
    "# Using a string operator to find words\n",
    "df['email_body'].str.contains('money laundering')\n",
    "\n",
    " # Select data that matches \n",
    "df.loc[df['email_body'].str.contains('money laundering', na=False)]\n",
    "\n",
    " # Create a list of words to search for\n",
    "list_of_words = ['police', 'money laundering']\n",
    "df.loc[df['email_body'].str.contains('|'.join(list_of_words), na=False)]\n",
    "\n",
    " # Create a fraud flag \n",
    "df['flag'] = np.where((df['email_body'].str.contains('|'.join(list_of_words)) == True), 1, 0)\n",
    "```"
   ]
  },
  {
   "cell_type": "markdown",
   "metadata": {},
   "source": [
    "### Word search with dataframes\n",
    "\n",
    "In this exercise you're going to work with text data, containing emails from Enron employees. The **Enron scandal** is a famous fraud case. Enron employees covered up the bad financial position of the company, thereby keeping the stock price artificially high. Enron employees sold their own stock options, and when the truth came out, Enron investors were left with nothing. The goal is to find all emails that mention specific words, such as \"sell enron stock\".\n",
    "\n",
    "By using string operations on dataframes, you can easily sift through messy email data and create flags based on word-hits. The Enron email data has been put into a dataframe called `df` so let's search for suspicious terms. Feel free to explore `df` in the Console before getting started.\n",
    "\n",
    "**Instructions 1/2**\n",
    "\n",
    "* Check the head of `df` in the console and look for any emails mentioning 'sell enron stock'."
   ]
  },
  {
   "cell_type": "code",
   "execution_count": 101,
   "metadata": {
    "tags": []
   },
   "outputs": [],
   "source": [
    "df = pd.read_csv(enron_emails_clean_file)"
   ]
  },
  {
   "cell_type": "code",
   "execution_count": 102,
   "metadata": {
    "tags": []
   },
   "outputs": [],
   "source": [
    "mask = df['clean_content'].str.contains('sell enron stock', na=False)"
   ]
  },
  {
   "cell_type": "markdown",
   "metadata": {},
   "source": [
    "**Instructions 2/2**\n",
    "\n",
    "* Locate the data in `df` that meets the condition we created earlier."
   ]
  },
  {
   "cell_type": "code",
   "execution_count": 103,
   "metadata": {
    "tags": []
   },
   "outputs": [
    {
     "data": {
      "text/html": [
       "<div>\n",
       "<style scoped>\n",
       "    .dataframe tbody tr th:only-of-type {\n",
       "        vertical-align: middle;\n",
       "    }\n",
       "\n",
       "    .dataframe tbody tr th {\n",
       "        vertical-align: top;\n",
       "    }\n",
       "\n",
       "    .dataframe thead th {\n",
       "        text-align: right;\n",
       "    }\n",
       "</style>\n",
       "<table border=\"1\" class=\"dataframe\">\n",
       "  <thead>\n",
       "    <tr style=\"text-align: right;\">\n",
       "      <th></th>\n",
       "      <th>Message-ID</th>\n",
       "      <th>From</th>\n",
       "      <th>To</th>\n",
       "      <th>Date</th>\n",
       "      <th>content</th>\n",
       "      <th>clean_content</th>\n",
       "    </tr>\n",
       "  </thead>\n",
       "  <tbody>\n",
       "    <tr>\n",
       "      <th>154</th>\n",
       "      <td>&lt;6336501.1075841154311.JavaMail.evans@thyme&gt;</td>\n",
       "      <td>('sarah.palmer@enron.com')</td>\n",
       "      <td>('sarah.palmer@enron.com')</td>\n",
       "      <td>2002-02-01 14:53:35</td>\n",
       "      <td>\\nJoint Venture: A 1997 Enron Meeting Belies O...</td>\n",
       "      <td>joint venture enron meeting belies officers cl...</td>\n",
       "    </tr>\n",
       "  </tbody>\n",
       "</table>\n",
       "</div>"
      ],
      "text/plain": [
       "                                       Message-ID                        From  \\\n",
       "154  <6336501.1075841154311.JavaMail.evans@thyme>  ('sarah.palmer@enron.com')   \n",
       "\n",
       "                             To                 Date  \\\n",
       "154  ('sarah.palmer@enron.com')  2002-02-01 14:53:35   \n",
       "\n",
       "                                               content  \\\n",
       "154  \\nJoint Venture: A 1997 Enron Meeting Belies O...   \n",
       "\n",
       "                                         clean_content  \n",
       "154  joint venture enron meeting belies officers cl...  "
      ]
     },
     "execution_count": 103,
     "metadata": {},
     "output_type": "execute_result"
    }
   ],
   "source": [
    "# Select the data from df using the mask\n",
    "df[mask]"
   ]
  },
  {
   "cell_type": "markdown",
   "metadata": {},
   "source": [
    "**You see that searching for particular string values in a dataframe can be relatively easy, and allows you to include textual data into your model or analysis. You can use this word search as an additional flag, or as a feature in your fraud detection model. Let's look at how to filter the data using multiple search terms.**"
   ]
  },
  {
   "cell_type": "markdown",
   "metadata": {},
   "source": [
    "### Using list of terms\n",
    "\n",
    "Oftentimes you don't want to search on just one term. You probably can create a full **\"fraud dictionary\"** of terms that could potentially **flag fraudulent clients** and/or transactions. Fraud analysts often will have an idea what should be in such a dictionary. In this exercise you're going to **flag a multitude of terms**, and in the next exercise you'll create a new flag variable out of it. The 'flag' can be used either directly in a machine learning model as a feature, or as an additional filter on top of your machine learning model results. Let's first use a list of terms to filter our data on. The dataframe containing the cleaned emails is again available as `df`.\n",
    "\n",
    "**Instructions**\n",
    "\n",
    "* Create a list to search for including 'enron stock', 'sell stock', 'stock bonus', and 'sell enron stock'.\n",
    "* Join the string terms in the search conditions.\n",
    "* Filter data using the emails that match with the list defined under `searchfor`."
   ]
  },
  {
   "cell_type": "code",
   "execution_count": 104,
   "metadata": {
    "tags": []
   },
   "outputs": [
    {
     "data": {
      "text/html": [
       "<div>\n",
       "<style scoped>\n",
       "    .dataframe tbody tr th:only-of-type {\n",
       "        vertical-align: middle;\n",
       "    }\n",
       "\n",
       "    .dataframe tbody tr th {\n",
       "        vertical-align: top;\n",
       "    }\n",
       "\n",
       "    .dataframe thead th {\n",
       "        text-align: right;\n",
       "    }\n",
       "</style>\n",
       "<table border=\"1\" class=\"dataframe\">\n",
       "  <thead>\n",
       "    <tr style=\"text-align: right;\">\n",
       "      <th></th>\n",
       "      <th>Message-ID</th>\n",
       "      <th>From</th>\n",
       "      <th>To</th>\n",
       "      <th>Date</th>\n",
       "      <th>content</th>\n",
       "      <th>clean_content</th>\n",
       "    </tr>\n",
       "  </thead>\n",
       "  <tbody>\n",
       "    <tr>\n",
       "      <th>0</th>\n",
       "      <td>&lt;8345058.1075840404046.JavaMail.evans@thyme&gt;</td>\n",
       "      <td>('advdfeedback@investools.com')</td>\n",
       "      <td>('advdfeedback@investools.com')</td>\n",
       "      <td>2002-01-29 23:20:55</td>\n",
       "      <td>INVESTools Advisory\\nA Free Digest of Trusted ...</td>\n",
       "      <td>investools advisory free digest trusted invest...</td>\n",
       "    </tr>\n",
       "    <tr>\n",
       "      <th>1</th>\n",
       "      <td>&lt;1512159.1075863666797.JavaMail.evans@thyme&gt;</td>\n",
       "      <td>('richard.sanders@enron.com')</td>\n",
       "      <td>('richard.sanders@enron.com')</td>\n",
       "      <td>2000-09-20 19:07:00</td>\n",
       "      <td>----- Forwarded by Richard B Sanders/HOU/ECT o...</td>\n",
       "      <td>forwarded richard b sanders hou ect pm justin ...</td>\n",
       "    </tr>\n",
       "    <tr>\n",
       "      <th>2</th>\n",
       "      <td>&lt;26118676.1075862176383.JavaMail.evans@thyme&gt;</td>\n",
       "      <td>('m..love@enron.com')</td>\n",
       "      <td>('m..love@enron.com')</td>\n",
       "      <td>2001-10-30 16:15:17</td>\n",
       "      <td>hey you are not wearing your target purple shi...</td>\n",
       "      <td>hey wearing target purple shirt today mine wan...</td>\n",
       "    </tr>\n",
       "    <tr>\n",
       "      <th>3</th>\n",
       "      <td>&lt;10369289.1075860831062.JavaMail.evans@thyme&gt;</td>\n",
       "      <td>('leslie.milosevich@kp.org')</td>\n",
       "      <td>('leslie.milosevich@kp.org')</td>\n",
       "      <td>2002-01-30 17:54:18</td>\n",
       "      <td>Leslie Milosevich\\n1042 Santa Clara Avenue\\nAl...</td>\n",
       "      <td>leslie milosevich santa clara avenue alameda c...</td>\n",
       "    </tr>\n",
       "    <tr>\n",
       "      <th>4</th>\n",
       "      <td>&lt;26728895.1075860815046.JavaMail.evans@thyme&gt;</td>\n",
       "      <td>('rtwait@graphicaljazz.com')</td>\n",
       "      <td>('rtwait@graphicaljazz.com')</td>\n",
       "      <td>2002-01-30 19:36:01</td>\n",
       "      <td>Rini Twait\\n1010 E 5th Ave\\nLongmont, CO 80501...</td>\n",
       "      <td>rini twait e th ave longmont co rtwait graphic...</td>\n",
       "    </tr>\n",
       "  </tbody>\n",
       "</table>\n",
       "</div>"
      ],
      "text/plain": [
       "                                      Message-ID  \\\n",
       "0   <8345058.1075840404046.JavaMail.evans@thyme>   \n",
       "1   <1512159.1075863666797.JavaMail.evans@thyme>   \n",
       "2  <26118676.1075862176383.JavaMail.evans@thyme>   \n",
       "3  <10369289.1075860831062.JavaMail.evans@thyme>   \n",
       "4  <26728895.1075860815046.JavaMail.evans@thyme>   \n",
       "\n",
       "                              From                               To  \\\n",
       "0  ('advdfeedback@investools.com')  ('advdfeedback@investools.com')   \n",
       "1    ('richard.sanders@enron.com')    ('richard.sanders@enron.com')   \n",
       "2            ('m..love@enron.com')            ('m..love@enron.com')   \n",
       "3     ('leslie.milosevich@kp.org')     ('leslie.milosevich@kp.org')   \n",
       "4     ('rtwait@graphicaljazz.com')     ('rtwait@graphicaljazz.com')   \n",
       "\n",
       "                  Date                                            content  \\\n",
       "0  2002-01-29 23:20:55  INVESTools Advisory\\nA Free Digest of Trusted ...   \n",
       "1  2000-09-20 19:07:00  ----- Forwarded by Richard B Sanders/HOU/ECT o...   \n",
       "2  2001-10-30 16:15:17  hey you are not wearing your target purple shi...   \n",
       "3  2002-01-30 17:54:18  Leslie Milosevich\\n1042 Santa Clara Avenue\\nAl...   \n",
       "4  2002-01-30 19:36:01  Rini Twait\\n1010 E 5th Ave\\nLongmont, CO 80501...   \n",
       "\n",
       "                                       clean_content  \n",
       "0  investools advisory free digest trusted invest...  \n",
       "1  forwarded richard b sanders hou ect pm justin ...  \n",
       "2  hey wearing target purple shirt today mine wan...  \n",
       "3  leslie milosevich santa clara avenue alameda c...  \n",
       "4  rini twait e th ave longmont co rtwait graphic...  "
      ]
     },
     "execution_count": 104,
     "metadata": {},
     "output_type": "execute_result"
    }
   ],
   "source": [
    "# Create a list of terms to search for\n",
    "searchfor = ['enron stock', 'sell stock', 'stock bonus', 'sell enron stock']\n",
    "\n",
    "# Filter cleaned emails on searchfor list and select from df \n",
    "filtered_emails = df[df.clean_content.str.contains('|'.join(searchfor), na=False)]\n",
    "filtered_emails.head()"
   ]
  },
  {
   "cell_type": "markdown",
   "metadata": {},
   "source": [
    "**By joining the search terms with the 'or' sign, i.e. |, you can search on a multitude of terms in your dataset very easily. Let's now create a flag from this which you can use as a feature in a machine learning model.**"
   ]
  },
  {
   "cell_type": "markdown",
   "metadata": {},
   "source": [
    "### Creating a flag\n",
    "\n",
    "This time you are going to **create an actual flag** variable that gives a **1 when the emails get a hit** on the search terms of interest, and 0 otherwise. This is the last step you need to make in order to actually use the text data content as a feature in a machine learning model, or as an actual flag on top of model results. You can continue working with the dataframe `df` containing the emails, and the `searchfor` list is the one defined in the last exercise.\n",
    "\n",
    "**Instructions**\n",
    "\n",
    "* Use a numpy where condition to flag '1' where the cleaned email contains words on the `searchfor` list and 0 otherwise.\n",
    "* Join the words on the `searchfor` list with an \"or\" indicator.\n",
    "* Count the values of the newly created flag variable."
   ]
  },
  {
   "cell_type": "code",
   "execution_count": 105,
   "metadata": {
    "tags": []
   },
   "outputs": [
    {
     "name": "stdout",
     "output_type": "stream",
     "text": [
      "0    1776\n",
      "1     314\n",
      "Name: flag, dtype: int64\n"
     ]
    }
   ],
   "source": [
    "# Create flag variable where the emails match the searchfor terms\n",
    "df['flag'] = np.where((df['clean_content'].str.contains('|'.join(searchfor)) == True), 1, 0)\n",
    "\n",
    "# Count the values of the flag variable\n",
    "count = df['flag'].value_counts()\n",
    "print(count)"
   ]
  },
  {
   "cell_type": "markdown",
   "metadata": {},
   "source": [
    "**You have now managed to search for a list of strings in several lines of text data. These skills come in handy when you want to flag certain words based on what you discovered in your topic model, or when you know beforehand what you want to search for. In the next exercises you're going to learn how to clean text data and to create your own topic model to further look for indications of fraud in your text data.**"
   ]
  },
  {
   "cell_type": "markdown",
   "metadata": {},
   "source": [
    "## Text mining to detect fraud"
   ]
  },
  {
   "cell_type": "markdown",
   "metadata": {},
   "source": [
    "#### Cleaning your text data\n",
    "\n",
    "**Must dos when working with textual data:**\n",
    "\n",
    "1. Tokenization\n",
    "    * Split the text into sentences and the sentences in words\n",
    "    * transform everything to lowercase\n",
    "    * remove punctuation\n",
    "1. Remove all stopwords\n",
    "1. Lemmatize \n",
    "    * change from third person into first person\n",
    "    * change past and future tense verbs to present tense\n",
    "    * this makes it possible to combine all words that point to the same thing\n",
    "1. Stem the words\n",
    "    * reduce words to their root form\n",
    "    * e.g. walking and walked to walk\n",
    "\n",
    "* **Unprocessed Text**\n",
    "    * ![](https://raw.githubusercontent.com/trenton3983/DataCamp/master/Images/fraud_detection/text_df.JPG)\n",
    "* **Processed Text**\n",
    "    * ![](https://raw.githubusercontent.com/trenton3983/DataCamp/master/Images/fraud_detection/text_processed.JPG)"
   ]
  },
  {
   "cell_type": "markdown",
   "metadata": {},
   "source": [
    "#### Data Preprocessing I\n",
    "\n",
    "* Tokenizers divide strings into list of substrings\n",
    "* nltk word tokenizer can be used to find the words and punctuation in a string\n",
    "    * it splits the words on whitespace, and separated the punctuation out\n",
    "\n",
    "```python\n",
    "from nltk import word_tokenize\n",
    "from nltk.corpus import stopwords \n",
    "import string\n",
    "\n",
    "# 1. Tokenization\n",
    "text = df.apply(lambda row: word_tokenize(row[\"email_body\"]), axis=1)\n",
    "text = text.rstrip()  # remove whitespace\n",
    "# replace with lowercase\n",
    "# text = re.sub(r'[^a-zA-Z]', ' ', text)\n",
    "text = text.lower()\n",
    "\n",
    " # 2. Remove all stopwords and punctuation\n",
    "exclude = set(string.punctuation)\n",
    "stop = set(stopwords.words('english'))\n",
    "stop_free = \" \".join([word for word in text if((word not in stop) and (not word.isdigit()))])\n",
    "punc_free = ''.join(word for word in stop_free if word not in exclude)\n",
    "```"
   ]
  },
  {
   "cell_type": "markdown",
   "metadata": {},
   "source": [
    "#### Data Preprocessing II\n",
    "\n",
    "```python\n",
    "from nltk.stem.wordnet import WordNetLemmatizer\n",
    "from nltk.stem.porter import PorterStemmer\n",
    "\n",
    "# Lemmatize words\n",
    "lemma = WordNetLemmatizer()\n",
    "normalized = \" \".join(lemma.lemmatize(word) for word in punc_free.split())\n",
    "\n",
    "# Stem words\n",
    "porter= PorterStemmer()\n",
    "cleaned_text = \" \".join(porter.stem(token) for token in normalized.split())\n",
    "print (cleaned_text)\n",
    "\n",
    "['philip','going','street','curious','hear','perspective','may','wish',\n",
    "'offer','trading','floor','enron','stock','lower','joined','company',\n",
    "'business','school','imagine','quite','happy','people','day','relate',\n",
    "'somewhat','stock','around','fact','broke','day','ago','knowing',\n",
    "'imagine','letting','event','get','much','taken','similar',\n",
    "'problem','hope','everything','else','going','well','family','knee',\n",
    "'surgery','yet','give','call','chance','later']\n",
    "```"
   ]
  },
  {
   "cell_type": "markdown",
   "metadata": {},
   "source": [
    "### Removing stopwords\n",
    "\n",
    "In the following exercises you're going to **clean the Enron emails**, in order to be able to use the data in a topic model. Text cleaning can be challenging, so you'll learn some steps to do this well. The dataframe containing the emails `df` is available. In a first step you need to **define the list of stopwords and punctuations** that are to be removed in the next exercise from the text data. Let's give it a try.\n",
    "\n",
    "**Instructions**\n",
    "\n",
    "* Import the stopwords from `ntlk`.\n",
    "* Define 'english' words to use as stopwords under the variable `stop`.\n",
    "* Get the punctuation set from the `string` package and assign it to `exclude`."
   ]
  },
  {
   "cell_type": "code",
   "execution_count": 106,
   "metadata": {
    "tags": []
   },
   "outputs": [],
   "source": [
    "# Define stopwords to exclude\n",
    "stop = set(stopwords.words('english'))\n",
    "stop.update((\"to\", \"cc\", \"subject\", \"http\", \"from\", \"sent\", \"ect\", \"u\", \"fwd\", \"www\", \"com\", 'html'))\n",
    "\n",
    "# Define punctuations to exclude and lemmatizer\n",
    "exclude = set(string.punctuation)"
   ]
  },
  {
   "cell_type": "markdown",
   "metadata": {},
   "source": [
    "### Cleaning text data\n",
    "\n",
    "Now that you've defined the **stopwords and punctuations**, let's use these to clean our enron emails in the dataframe `df` further. The lists containing stopwords and punctuations are available under `stop` and `exclude` There are a few more steps to take before you have cleaned data, such as **\"lemmatization\"** of words, and **stemming the verbs**. The verbs in the email data are already stemmed, and the lemmatization is already done for you in this exercise.\n",
    "\n",
    "**Instructions 1/2**\n",
    "\n",
    "* Use the previously defined variables `stop` and `exclude` to finish of the function: Strip the words from whitespaces using `rstrip`, and exclude stopwords and punctuations. Finally lemmatize the words and assign that to `normalized`."
   ]
  },
  {
   "cell_type": "code",
   "execution_count": 107,
   "metadata": {
    "tags": []
   },
   "outputs": [],
   "source": [
    "# Import the lemmatizer from nltk\n",
    "lemma = WordNetLemmatizer()\n",
    "\n",
    "def clean(text, stop):\n",
    "    text = str(text).rstrip()\n",
    "    stop_free = \" \".join([i for i in text.lower().split() if((i not in stop) and (not i.isdigit()))])\n",
    "    punc_free = ''.join(i for i in stop_free if i not in exclude)\n",
    "    normalized = \" \".join(lemma.lemmatize(i) for i in punc_free.split())      \n",
    "    return normalized"
   ]
  },
  {
   "cell_type": "markdown",
   "metadata": {},
   "source": [
    "**Instructions 2/2**\n",
    "\n",
    "* Apply the function `clean(text,stop)` on each line of text data in our dataframe, and take the column `df['clean_content']` for this."
   ]
  },
  {
   "cell_type": "code",
   "execution_count": 108,
   "metadata": {
    "tags": []
   },
   "outputs": [],
   "source": [
    "# Clean the emails in df and print results\n",
    "text_clean=[]\n",
    "for text in df['clean_content']:\n",
    "    text_clean.append(clean(text, stop).split())    "
   ]
  },
  {
   "cell_type": "code",
   "execution_count": 109,
   "metadata": {
    "tags": []
   },
   "outputs": [
    {
     "data": {
      "text/plain": [
       "['investools',\n",
       " 'advisory',\n",
       " 'free',\n",
       " 'digest',\n",
       " 'trusted',\n",
       " 'investment',\n",
       " 'advice',\n",
       " 'unsubscribe',\n",
       " 'free',\n",
       " 'newsletter']"
      ]
     },
     "execution_count": 109,
     "metadata": {},
     "output_type": "execute_result"
    }
   ],
   "source": [
    "text_clean[0][:10]"
   ]
  },
  {
   "cell_type": "markdown",
   "metadata": {},
   "source": [
    "**Now that you have cleaned your data entirely with the necessary steps, including splitting the text into words, removing stopwords and punctuations, and lemmatizing your words. You are now ready to run a topic model on this data. In the following exercises you're going to explore how to do that.**"
   ]
  },
  {
   "cell_type": "markdown",
   "metadata": {},
   "source": [
    "## Topic modeling on fraud\n",
    "\n",
    "1. Discovering topics in text data\n",
    "1. \"What is the text about\"\n",
    "1. Conceptually similar to clustering data\n",
    "1. Compare topics of fraud cases to non-fraud cases and use as a feature or flag\n",
    "1. Or.. is there a particular topic in the data that seems to point to fraud?"
   ]
  },
  {
   "cell_type": "markdown",
   "metadata": {},
   "source": [
    "#### Latent Dirichlet Allocation (LDA)\n",
    "\n",
    "* With LDA you obtain:\n",
    "    * \"topics per text item\" model (i.e. probabilities)\n",
    "    * \"words per topic\" model\n",
    "* Creating your own topic model:\n",
    "    * Clean your data\n",
    "    * Create a bag of words with dictionary and corpus\n",
    "        * Dictionary contain words and word frequency from the entire text\n",
    "        * Corpus: word count for each line of text\n",
    "    * Feed dictionary and corpus into the LDA model\n",
    "* LDA:\n",
    "    * ![lda](https://raw.githubusercontent.com/trenton3983/DataCamp/master/Images/fraud_detection/lda.JPG)\n",
    "    1. [LDA2vec: Word Embeddings in Topic Models](https://www.datacamp.com/community/tutorials/lda2vec-topic-model)\n",
    "    1. see how each word in the dataset is associated with each topic\n",
    "    1. see how each text item in the data associates with topics (in the form of probabilities)\n",
    "        1. image on the right "
   ]
  },
  {
   "cell_type": "markdown",
   "metadata": {},
   "source": [
    "#### Bag of words: dictionary and corpus\n",
    "\n",
    "* use the `Dictionary` function in `corpora` to create a `dict` from the text data\n",
    "    * contains word counts\n",
    "* filter out words that appear in less than 5 emails and keep only the 50000 most frequent words\n",
    "    * this is a way of cleaning the outlier noise\n",
    "* create the corpus, which for each email, counts the number of words and the count for each word (`doc2bow`)\n",
    "* `doc2bow`\n",
    "    * Document to Bag of Words\n",
    "    * converts text data into bag-of-words format\n",
    "    * each row is now a list of words with the associated word count\n",
    "    \n",
    "```python\n",
    "from gensim import corpora\n",
    "\n",
    " # Create dictionary number of times a word appears\n",
    "dictionary = corpora.Dictionary(cleaned_emails)\n",
    "\n",
    "# Filter out (non)frequent words \n",
    "dictionary.filter_extremes(no_below=5, keep_n=50000)\n",
    "\n",
    "# Create corpus\n",
    "corpus = [dictionary.doc2bow(text) for text in cleaned_emails]\n",
    "```"
   ]
  },
  {
   "cell_type": "markdown",
   "metadata": {},
   "source": [
    "#### Latent Dirichlet Allocation (LDA) with gensim\n",
    "\n",
    "* Run the LDA model after cleaning the text date, and creating the dictionary and corpus\n",
    "* Pass the corpus and dictionary into the model\n",
    "* As with K-means, beforehand, pick the number of topics to obtain, even if there is uncertainty about what topics exist\n",
    "* The calculated LDA model, will contain the associated words for each topic, and topic scores per email\n",
    "* Use `print_topics` to obtain the top words from the topics\n",
    "\n",
    "```python\n",
    "import gensim\n",
    "\n",
    "# Define the LDA model\n",
    "ldamodel = gensim.models.ldamodel.LdaModel(corpus, num_topics = 3, \n",
    "id2word=dictionary, passes=15)\n",
    "\n",
    "# Print the three topics from the model with top words\n",
    "topics = ldamodel.print_topics(num_words=4)\n",
    "for topic in topics:\n",
    "    print(topic)\n",
    "\n",
    ">>> (0, '0.029*\"email\" + 0.016*\"send\" + 0.016*\"results\" + 0.016*\"invoice\"')\n",
    ">>> (1, '0.026*\"price\" + 0.026*\"work\" + 0.026*\"management\" + 0.026*\"sell\"')\n",
    ">>> (2, '0.029*\"distribute\" + 0.029*\"contact\" + 0.016*\"supply\" + 0.016*\"fast\"')\n",
    "```"
   ]
  },
  {
   "cell_type": "markdown",
   "metadata": {},
   "source": [
    "### Create dictionary and corpus\n",
    "\n",
    "In order to run an LDA topic model, you first need to **define your dictionary and corpus** first, as those need to go into the model. You're going to continue working on the cleaned text data that you've done in the previous exercises. That means that `text_clean` is available for you already to continue working with, and you'll use that to create your dictionary and corpus.\n",
    "\n",
    "This exercise will take a little longer to execute than usual.\n",
    "\n",
    "**Instructions**\n",
    "\n",
    "* Import the gensim package and corpora from gensim separately.\n",
    "* Define your dictionary by running the correct function on your clean data `text_clean`.\n",
    "* Define the corpus by running `doc2bow` on each piece of text in `text_clean`.\n",
    "* Print your results so you can see `dictionary` and `corpus` look like."
   ]
  },
  {
   "cell_type": "code",
   "execution_count": 110,
   "metadata": {
    "tags": []
   },
   "outputs": [],
   "source": [
    "# Define the dictionary\n",
    "dictionary = corpora.Dictionary(text_clean)\n",
    "\n",
    "# Define the corpus \n",
    "corpus = [dictionary.doc2bow(text) for text in text_clean]"
   ]
  },
  {
   "cell_type": "code",
   "execution_count": 111,
   "metadata": {
    "tags": []
   },
   "outputs": [
    {
     "name": "stdout",
     "output_type": "stream",
     "text": [
      "Dictionary<33980 unique tokens: ['account', 'accurate', 'acquiring', 'acre', 'address']...>\n"
     ]
    }
   ],
   "source": [
    "print(dictionary)"
   ]
  },
  {
   "cell_type": "code",
   "execution_count": 112,
   "metadata": {
    "tags": []
   },
   "outputs": [
    {
     "data": {
      "text/plain": [
       "[(0, 2),\n",
       " (1, 1),\n",
       " (2, 1),\n",
       " (3, 1),\n",
       " (4, 1),\n",
       " (5, 6),\n",
       " (6, 1),\n",
       " (7, 2),\n",
       " (8, 4),\n",
       " (9, 1)]"
      ]
     },
     "execution_count": 112,
     "metadata": {},
     "output_type": "execute_result"
    }
   ],
   "source": [
    "corpus[0][:10]"
   ]
  },
  {
   "cell_type": "markdown",
   "metadata": {},
   "source": [
    "**These are the two ingredients you need to run your topic model on the enron emails. You are now ready for the final step and create your first fraud detection topic model.**"
   ]
  },
  {
   "cell_type": "markdown",
   "metadata": {},
   "source": [
    "### LDA model\n",
    "\n",
    "Now it's time to **build the LDA model**. Using the `dictionary` and `corpus`, you are ready to discover which topics are present in the Enron emails. With a quick print of words assigned to the topics, you can do a first exploration about whether there are any obvious topics that jump out. Be mindful that the topic model is **heavy to calculate** so it will take a while to run. Let's give it a try!\n",
    "\n",
    "**Instructions**\n",
    "\n",
    "* Build the LDA model from gensim models, by inserting the `corpus` and `dictionary`.\n",
    "* Save the 5 topics by running `print_topics` on the model results, and select the top 5 words."
   ]
  },
  {
   "cell_type": "code",
   "execution_count": 113,
   "metadata": {
    "tags": []
   },
   "outputs": [
    {
     "name": "stdout",
     "output_type": "stream",
     "text": [
      "(0, '0.033*\"enron\" + 0.013*\"pm\" + 0.011*\"message\" + 0.010*\"original\" + 0.010*\"hou\"')\n",
      "(1, '0.025*\"image\" + 0.008*\"enron\" + 0.008*\"se\" + 0.007*\"ne\" + 0.007*\"sp\"')\n",
      "(2, '0.029*\"enron\" + 0.011*\"development\" + 0.008*\"bakernet\" + 0.007*\"image\" + 0.006*\"employee\"')\n",
      "(3, '0.048*\"td\" + 0.035*\"net\" + 0.033*\"money\" + 0.031*\"tr\" + 0.028*\"width\"')\n",
      "(4, '0.018*\"enron\" + 0.011*\"company\" + 0.006*\"energy\" + 0.005*\"said\" + 0.005*\"stock\"')\n"
     ]
    }
   ],
   "source": [
    "# Define the LDA model\n",
    "ldamodel = gensim.models.ldamodel.LdaModel(corpus, num_topics=5, id2word=dictionary, passes=5)\n",
    "\n",
    "# Save the topics and top 5 words\n",
    "topics = ldamodel.print_topics(num_words=5)\n",
    "\n",
    "# Print the results\n",
    "for topic in topics:\n",
    "    print(topic)"
   ]
  },
  {
   "cell_type": "markdown",
   "metadata": {},
   "source": [
    "**You have now successfully created your first topic model on the Enron email data. However, the print of words doesn't really give you enough information to find a topic that might lead you to signs of fraud. You'll therefore need to closely inspect the model results in order to be able to detect anything that can be related to fraud in your data. You'll learn more about this in the next video.**"
   ]
  },
  {
   "cell_type": "markdown",
   "metadata": {},
   "source": [
    "## Flagging fraud based on topic"
   ]
  },
  {
   "cell_type": "markdown",
   "metadata": {},
   "source": [
    "#### Using your LDA model results for fraud detection\n",
    "\n",
    "1. Are there any suspicious topics? (no labels)\n",
    "    1. if you don't have labels, first check for the frequency of suspicious words within topics and check whether topics seem to describe the fraudulent behavior\n",
    "    1. for the Enron email data, a suspicious topic would be one where employees are discussing stock bonuses, selling stock, stock price, and perhaps mentions of accounting or weak financials\n",
    "    1. Defining suspicious topics does require some pre-knowledge about the fraudulent behavior\n",
    "    1. If the fraudulent topic is noticeable, flag all instances that have a high probability for this topic\n",
    "1. Are the topics in fraud and non-fraud cases similar? (with labels)\n",
    "    1. If there a previous cases of fraud, ran a topic model on the fraud text only, and on the non-fraud text\n",
    "    1. Check whether the results are similar\n",
    "        1. Whether the frequency of the topics are the same in fraud vs non-fraud\n",
    "1. Are fraud cases associated more with certain topics? (with labels)\n",
    "    1. Check whether fraud cases have a higher probability score for certain topics\n",
    "        1. If so, run a topic model on new data and create a flag directly on the instances that score high on those topics"
   ]
  },
  {
   "cell_type": "markdown",
   "metadata": {},
   "source": [
    "#### To understand topics, you need to visualize\n",
    "\n",
    "```python\n",
    "import pyLDAvis.gensim\n",
    "lda_display = pyLDAvis.gensim.prepare(ldamodel, corpus, dictionary, sort_topics=False)\n",
    "```\n",
    "\n",
    "![topics](https://raw.githubusercontent.com/trenton3983/DataCamp/master/Images/fraud_detection/topics2.jpg)\n",
    "\n",
    "* Each bubble on the left-hand side, represents a topic\n",
    "* The larger the bubble, the more prevalent that topic is\n",
    "* Click on each topic to get the details per topic in the right panel\n",
    "* The words are the most important keywords that form the selected topic.\n",
    "* A good topic model will have fairly big, non-overlapping bubbles, scattered throughout the chart\n",
    "* A model with too many topics, will typically have many overlaps, or small sized bubbles, clustered in one region\n",
    "* In the case of the model above, there is a slight overlap between topic 2 and 3, which may point to 1 topic too many"
   ]
  },
  {
   "cell_type": "code",
   "execution_count": 115,
   "metadata": {
    "tags": []
   },
   "outputs": [],
   "source": [
    "# if ipython is > 7.16.1 results in DeprecationWarning: `should_run_async` will not call `transform_cell` automatically in the future\n",
    "import pyLDAvis.gensim  "
   ]
  },
  {
   "cell_type": "code",
   "execution_count": 116,
   "metadata": {
    "tags": []
   },
   "outputs": [],
   "source": [
    "lda_display = pyLDAvis.gensim.prepare(ldamodel, corpus, dictionary, sort_topics=False)"
   ]
  },
  {
   "cell_type": "code",
   "execution_count": 117,
   "metadata": {
    "tags": []
   },
   "outputs": [
    {
     "data": {
      "text/html": [
       "\n",
       "<link rel=\"stylesheet\" type=\"text/css\" href=\"https://cdn.jsdelivr.net/gh/bmabey/pyLDAvis@3.4.0/pyLDAvis/js/ldavis.v1.0.0.css\">\n",
       "\n",
       "\n",
       "<div id=\"ldavis_el19311402307958780648739371760\" style=\"background-color:white;\"></div>\n",
       "<script type=\"text/javascript\">\n",
       "\n",
       "var ldavis_el19311402307958780648739371760_data = {\"mdsDat\": {\"x\": [-0.12302280269428996, -0.0754824062631952, -0.0560926044186579, 0.32860363787917973, -0.07400582450303655], \"y\": [0.1988757217997094, -0.12360268350415379, -0.038530824761731156, 0.025473789248674487, -0.062216002782498885], \"topics\": [1, 2, 3, 4, 5], \"cluster\": [1, 1, 1, 1, 1], \"Freq\": [16.892367667139236, 8.274006787222758, 19.275548119171212, 3.618054101567746, 51.940023324899066]}, \"tinfo\": {\"Term\": [\"image\", \"enron\", \"td\", \"money\", \"net\", \"tr\", \"width\", \"pm\", \"class\", \"development\", \"original\", \"hou\", \"message\", \"right\", \"market\", \"bakernet\", \"height\", \"table\", \"br\", \"corp\", \"src\", \"align\", \"script\", \"img\", \"please\", \"clear\", \"gif\", \"border\", \"amazon\", \"center\", \"thru\", \"outage\", \"fri\", \"beth\", \"sat\", \"wj\", \"backout\", \"enform\", \"tagline\", \"pager\", \"laurel\", \"fran\", \"breese\", \"epenergy\", \"lavorato\", \"estoppel\", \"bt\", \"hereto\", \"pt\", \"ppt\", \"netback\", \"dynergy\", \"fagan\", \"demoes\", \"pampa\", \"royalty\", \"validation\", \"graf\", \"cherry\", \"commoditylogic\", \"recipient\", \"devon\", \"darrell\", \"server\", \"schoolcraft\", \"eei\", \"impacted\", \"sdg\", \"sfs\", \"pseg\", \"original\", \"jason\", \"reliantenergy\", \"kimberly\", \"pm\", \"barry\", \"hou\", \"tonight\", \"intended\", \"fw\", \"jay\", \"doc\", \"message\", \"ref\", \"thank\", \"scheduled\", \"lynn\", \"corp\", \"team\", \"thanks\", \"mark\", \"request\", \"attached\", \"kim\", \"enron\", \"john\", \"mail\", \"let\", \"know\", \"november\", \"e\", \"please\", \"january\", \"thursday\", \"like\", \"greg\", \"gas\", \"time\", \"get\", \"wscc\", \"simulation\", \"serc\", \"ctr\", \"syncrasy\", \"euci\", \"neumin\", \"pep\", \"ecar\", \"npcc\", \"std\", \"agave\", \"frcc\", \"savita\", \"mapp\", \"stack\", \"ubswenergy\", \"nella\", \"emailed\", \"rk\", \"hp\", \"wyndham\", \"apb\", \"brochure\", \"sp\", \"sw\", \"organizational\", \"mansoor\", \"maac\", \"marten\", \"ne\", \"matrix\", \"temp\", \"nw\", \"spp\", \"ercot\", \"min\", \"enlarge\", \"se\", \"volatility\", \"max\", \"deviation\", \"nc\", \"image\", \"reg\", \"range\", \"conference\", \"click\", \"choice\", \"desk\", \"main\", \"market\", \"process\", \"product\", \"day\", \"service\", \"within\", \"system\", \"enron\", \"please\", \"management\", \"see\", \"time\", \"would\", \"aaaaaaaaaaaaaaaaaaaaaaaaaaaaaaaaaaaaaaaaaaaaaaaaaaaaaaaaaaaaaaaaaaaaaaaaaaaa\", \"classmate\", \"gift\", \"certificate\", \"raquel\", \"dbcaps\", \"amazon\", \"fx\", \"initialize\", \"borland\", \"christmas\", \"aunt\", \"quelnunes\", \"uncle\", \"merry\", \"toy\", \"perfect\", \"alias\", \"explorer\", \"mule\", \"aaaaaaaaaaaaaaaa\", \"yeow\", \"enews\", \"informative\", \"discover\", \"unshipped\", \"eezc\", \"dickerman\", \"roommate\", \"galore\", \"bakernet\", \"aw\", \"hotmail\", \"preference\", \"labour\", \"ordering\", \"development\", \"shipping\", \"occurred\", \"et\", \"error\", \"visit\", \"order\", \"database\", \"alert\", \"mailto\", \"address\", \"gold\", \"enron\", \"saving\", \"help\", \"find\", \"friend\", \"employee\", \"date\", \"image\", \"need\", \"account\", \"see\", \"mail\", \"member\", \"please\", \"u\", \"e\", \"new\", \"fund\", \"available\", \"day\", \"pay\", \"p\", \"message\", \"td\", \"width\", \"script\", \"img\", \"src\", \"align\", \"nbsp\", \"href\", \"scoop\", \"bodydefault\", \"cellpadding\", \"cellspacing\", \"height\", \"font\", \"br\", \"valign\", \"bgcolor\", \"colspan\", \"tr\", \"coords\", \"rect\", \"stocklookup\", \"linkbarseperator\", \"ffffff\", \"gif\", \"exotica\", \"tab\", \"underscore\", \"fname\", \"realtime\", \"table\", \"hourahead\", \"class\", \"net\", \"money\", \"border\", \"clear\", \"center\", \"start\", \"image\", \"right\", \"schedule\", \"f\", \"end\", \"sept\", \"pcg\", \"football\", \"aggies\", \"stsw\", \"stwbom\", \"earnings\", \"mws\", \"lubbock\", \"said\", \"wyoming\", \"mpc\", \"asarco\", \"redshirt\", \"aps\", \"relieve\", \"billion\", \"collapse\", \"partnership\", \"nyse\", \"gate\", \"balancing\", \"france\", \"fired\", \"tyco\", \"ended\", \"college\", \"nytimes\", \"riverside\", \"palo\", \"sell\", \"investor\", \"mr\", \"copyright\", \"journal\", \"security\", \"former\", \"committee\", \"andersen\", \"company\", \"executive\", \"campaign\", \"lay\", \"bush\", \"official\", \"oil\", \"sec\", \"mw\", \"board\", \"stock\", \"chairman\", \"share\", \"president\", \"million\", \"bankruptcy\", \"say\", \"year\", \"utility\", \"news\", \"power\", \"york\", \"energy\", \"game\", \"business\", \"gas\", \"firm\", \"financial\", \"also\", \"market\", \"enron\", \"new\", \"one\", \"state\", \"time\", \"price\", \"would\", \"california\", \"made\", \"employee\", \"may\", \"e\", \"last\", \"trading\"], \"Freq\": [1842.0, 9355.0, 769.0, 804.0, 837.0, 509.0, 450.0, 1143.0, 419.0, 1108.0, 891.0, 946.0, 1265.0, 563.0, 1137.0, 695.0, 286.0, 288.0, 258.0, 1002.0, 239.0, 231.0, 231.0, 225.0, 1541.0, 253.0, 225.0, 236.0, 479.0, 309.0, 212.52247625823966, 305.813642719565, 186.07752086393918, 105.38064062202233, 177.17334885677454, 285.1919564834057, 61.73794485649438, 59.89499135081647, 59.32013590330094, 91.49696443810191, 74.0463192456609, 49.57026013248599, 59.89186414273375, 47.94942514709085, 49.17670468199883, 43.45067824953649, 54.56467601713131, 43.738294646736136, 123.74864645014489, 38.5698654635076, 36.437807859697486, 36.12552512079687, 35.70232191601097, 35.695664129038754, 35.69578991133334, 35.688900077714216, 36.42254482884718, 36.403603750210266, 59.60156728146321, 47.78460696797415, 208.92635178129743, 153.42528730343759, 106.76423718786099, 96.15592328039871, 95.01105283504909, 71.11596912861954, 62.802908846215935, 50.95427741841345, 93.66618854130284, 71.08495294970209, 776.8211806070884, 149.70450823523709, 73.58872325794589, 132.39392379648123, 945.8894480369021, 135.57142744774907, 758.7845200414774, 76.410696747577, 208.0245361022989, 169.17711682515878, 98.90129968994559, 217.84745668770606, 841.0064455454791, 80.2993734924514, 213.71884804724277, 231.57280332398236, 131.24108135604695, 617.4193085403671, 331.5128912744135, 496.99499271516, 332.53663770739433, 263.2601565653708, 186.9132184291889, 217.15591430669642, 2474.1264228349546, 267.7913032470831, 423.0905558977955, 300.4656224435863, 384.6467676666712, 225.0464024644473, 606.082524305132, 491.2823599284111, 235.79206196295982, 254.39474285422156, 260.85910268128066, 215.3311862217724, 258.49184519855055, 237.3611136788688, 222.38436333104644, 246.24557095340217, 71.14940868572438, 75.64859799859339, 149.84560063664622, 149.84560063664622, 59.10574751111222, 41.92242157271042, 49.79826966019972, 83.29547693029248, 83.29547693029248, 83.29547693029248, 33.56575695323665, 74.97670190696559, 51.07346754682564, 83.89741057839299, 35.70788197130378, 26.599308035661696, 25.195842128482923, 25.625136457733763, 166.861269095445, 170.19349708712076, 25.680591020572116, 26.97255932895208, 43.53694963226354, 262.59470543667493, 170.84077503239868, 20.31173190911159, 17.106575871679155, 74.79665037611947, 17.025127580012366, 267.1694657455707, 160.79206748403558, 77.15542910344676, 169.91893294885202, 77.93357327371196, 86.35248645257455, 83.77899364039315, 82.19484099130867, 273.8882567057123, 146.4666856943159, 77.17609576962657, 80.75339201210802, 153.13848378275762, 923.9608927072737, 93.35920010330184, 164.4973491949932, 182.14969033616188, 241.67351294707433, 88.58296529257342, 123.29527395947976, 96.89438121519647, 244.7675814048869, 121.2298140300671, 132.00522852402995, 187.28499997395764, 168.02259637071836, 108.03210820062407, 131.21317344400472, 289.90451510033563, 170.46401626934443, 122.76011607735, 126.05112120815477, 141.6726224848847, 116.5597423199079, 294.3201180345352, 237.82555659584818, 332.0513725950696, 168.18645127178146, 103.56020428205346, 79.72781085594, 474.03916844529533, 70.21490875943525, 57.909789099722566, 57.902919567066334, 65.35853026226668, 51.69504465671115, 51.69504465671115, 53.12035885056615, 52.42953033705386, 54.30376947983993, 61.389251933184056, 46.046427902423495, 71.75282785746505, 34.72585382035626, 32.118544477299295, 28.104470658251564, 28.146412916533446, 28.671642634720627, 31.188220200097188, 26.801590541377767, 27.479108098060845, 26.768396048924338, 26.76854700047046, 26.74652292242994, 670.0748832777645, 48.009159295853266, 111.84717690558868, 59.900048116087476, 56.25542449424618, 57.638675173659294, 914.5986499488462, 191.62878095348879, 61.28325425242141, 146.68252751303896, 176.93677090344104, 274.9461156423206, 316.63558700060713, 157.68001579409832, 184.24375619110054, 357.58498994596, 184.96729417242625, 87.42791851277623, 2454.043972043778, 171.99951702216907, 302.78401576858556, 206.66420824557594, 118.69578421306825, 477.3131045621751, 261.99704658532033, 589.1503236149508, 298.3772204680738, 174.34135456252594, 286.5366603780854, 346.2400854441968, 217.38311421096233, 424.238738915481, 283.05109514277586, 431.25108658203754, 353.20258445591645, 239.06702170499057, 222.86987131396074, 219.59110474760513, 196.69180469344965, 198.1470369888226, 209.47988516382028, 767.6569632026077, 449.0249043108445, 230.12916517245364, 224.15086367657085, 238.2433759218796, 230.14240870164573, 168.4085966245819, 202.33154735396104, 141.8452132993841, 118.48865172465742, 98.61155618319748, 98.72103453815205, 282.6734543571021, 99.47706763645998, 254.1791763666292, 62.14658360055393, 55.37079051725088, 50.85948857319102, 497.9914488819588, 48.306742582651545, 48.306742582651545, 48.306764878155235, 39.53403041581144, 31.441000394891383, 217.05017679757358, 30.729991208327647, 27.808011239129602, 26.374917574543908, 22.181906241168626, 22.288549351237236, 274.27167620107696, 36.24774749018769, 320.84731041110604, 552.7745633651855, 521.6983768653461, 165.77415990852066, 166.5934156234601, 121.78624590248678, 107.12741299977199, 214.63008905399218, 110.34298201952426, 78.2930171005016, 86.3712057477984, 82.47091208237477, 223.65373899247294, 145.49321938566482, 147.2077519973103, 109.62329060236648, 141.8717656847864, 141.8717656847864, 217.6907364133296, 78.14859701572512, 75.37286711218809, 1259.3811089540031, 75.29882435414251, 74.38546585805685, 72.32469133254999, 72.31054825889953, 72.23481179943613, 72.23481179943613, 350.79420985801346, 93.56161999187893, 245.28760058211338, 120.2992507606736, 83.64195086155917, 67.77376896776907, 129.34959096365546, 85.3228428289017, 64.15302208716739, 71.18677070005394, 100.14681778990509, 136.4659775358773, 52.10259322177056, 50.31353774774058, 341.4241468377793, 375.51704942798375, 676.9666954543242, 213.9618727028512, 111.62928655642662, 353.39592194304225, 180.84947653502195, 316.91575387252317, 183.37546549681898, 2601.9331464043976, 369.98896803496837, 101.34571167344299, 490.3767046925498, 235.1100287362921, 154.31949756092266, 169.79258025625123, 177.52539412717312, 256.4298887520523, 342.90801598704076, 1150.4298577362606, 219.19371638252608, 499.58281208104546, 279.67686091174306, 890.9445582989075, 408.0643627889133, 472.86767286690565, 973.0332249255375, 403.7595339065198, 505.19939270720033, 910.2861483861798, 406.51285227279175, 1277.218798872096, 252.7370595394556, 660.3357744645506, 899.2389475478087, 397.11302278354503, 438.1203347178373, 682.4383912599807, 806.9604397422519, 4136.696769665817, 993.2424168981507, 636.5356687615064, 556.8543519800355, 856.5400146478224, 579.2457782077846, 776.357255556821, 516.1879674712975, 552.9957000632711, 654.8393266129768, 574.9308137893474, 788.7653388163021, 472.1705080218785, 445.01359279854967], \"Total\": [1842.0, 9355.0, 769.0, 804.0, 837.0, 509.0, 450.0, 1143.0, 419.0, 1108.0, 891.0, 946.0, 1265.0, 563.0, 1137.0, 695.0, 286.0, 288.0, 258.0, 1002.0, 239.0, 231.0, 231.0, 225.0, 1541.0, 253.0, 225.0, 236.0, 479.0, 309.0, 213.73195070637368, 308.41827106785445, 187.79511873748882, 106.47622026694296, 179.54418533271087, 289.90519349279475, 62.7713537112474, 60.93058921884511, 60.38394128192185, 93.26582744083703, 75.5633700293732, 50.591016088429285, 61.14812833066294, 49.10109092001144, 50.378016962678856, 44.536770605528005, 55.96720520654996, 44.86352566112263, 127.11720947683355, 39.6359886699781, 37.46561550863321, 37.14648065506858, 36.713438580508054, 36.71819827879878, 36.72550581059727, 36.7306529929908, 37.51572795623505, 37.513474458748895, 61.510906828923154, 49.32238627097996, 217.2090391116095, 159.883351644167, 111.01362558677405, 99.96678542804102, 98.82070694589763, 73.70793485677905, 65.17625827156141, 52.72695339896151, 98.56901700959273, 74.2685381698191, 891.5573553087487, 161.12548444624642, 76.98614341355537, 141.97299579897552, 1143.6021221763408, 147.73318697215007, 946.1738531539734, 80.65981504820175, 240.48917798291325, 192.67286113399842, 107.54042886422612, 262.35895735496877, 1265.7069972079507, 85.24725564795096, 264.1570347619813, 303.6737969712558, 153.9262701046053, 1002.145119483622, 487.3122047032547, 840.6491545424353, 503.25951136879934, 380.37691434949784, 246.35751541424182, 307.9258567674138, 9355.813100067571, 443.8572723179861, 919.4617326689652, 547.9414503025316, 831.4312826594341, 351.10097008173227, 1956.1707824574507, 1541.4892009390514, 389.23948269240395, 479.60397452030134, 671.3678287896901, 391.1609886231198, 1183.8077750238956, 1435.744938982265, 723.6022265412948, 249.3582664461739, 72.25695925693256, 77.44469164936609, 153.6564093862128, 153.6564093862128, 60.7259692837969, 43.07966802334636, 51.21522114470223, 85.87535357878865, 85.87535357878865, 85.87535357878865, 34.63441786649898, 77.40272072106161, 52.794352525467595, 86.78199037290675, 36.98727176278182, 27.66854102115839, 26.296771748039497, 26.7452625432959, 174.3124910029068, 178.23382976333775, 26.926530040384822, 28.312181831209163, 45.71373697446658, 275.8005550253244, 179.95593296758813, 21.481372560395037, 18.174982208447084, 79.81460547973298, 18.22830400296646, 286.29424946018895, 172.5256349311195, 82.64686574736234, 184.45129808885514, 83.50740709509519, 93.44010447010616, 90.98390583861676, 90.96814949455292, 328.5535820881082, 168.5865609154366, 86.39467852531152, 91.9646097986821, 197.03444319791151, 1842.3455008604897, 110.29625337356255, 229.76655687103138, 306.7125582569491, 475.0795113177247, 109.25803429100024, 217.82185354545956, 133.95723735219468, 1137.4864220488619, 264.12260241389185, 351.9571765600728, 965.8939892410267, 844.7138699756172, 204.02393363888433, 445.66702074153363, 9355.813100067571, 1541.4892009390514, 400.3568188224941, 675.935932174501, 1435.744938982265, 1281.6826800006747, 295.4136208402187, 238.7743056502486, 334.3215998953557, 169.46962494578906, 104.68712384718562, 80.62130000755297, 479.8212744403297, 71.24078607436697, 58.77533568566916, 58.77124079552948, 66.42789524439378, 52.548984426476395, 52.548984426476395, 54.02057990860911, 53.33782894811598, 55.26759548976561, 62.493390514007636, 46.89867954160282, 73.19198593798828, 35.60364033724597, 32.97331037834918, 28.93511580516381, 29.002730283413438, 29.551714384541228, 32.14751800487832, 27.62742501145998, 28.333409544475067, 27.606250369721657, 27.60678737567609, 27.59361573208849, 695.0536732082157, 49.73743648674686, 119.45195282928923, 62.816835382323994, 58.92604759336517, 60.954956160458444, 1108.888625757818, 217.2580063866205, 66.59170482340771, 173.5424898520696, 218.16460041158788, 368.96637035114475, 448.270252953528, 200.2165138491797, 242.69035523540055, 563.130716316678, 281.2991422650229, 104.93150341743952, 9355.813100067571, 260.50933741886354, 571.023477363296, 338.78934207602515, 160.5074658355233, 1191.1546495295659, 531.3709210242524, 1842.3455008604897, 672.5060675269301, 297.8811998543957, 675.935932174501, 919.4617326689652, 458.7297673591845, 1541.4892009390514, 803.8695366299546, 1956.1707824574507, 1542.5656175213303, 656.8617616292431, 573.3051053473584, 965.8939892410267, 476.8955331371027, 557.6531516499384, 1265.7069972079507, 769.7617120138985, 450.48502796421315, 231.26152522262103, 225.35619368496134, 239.57047586181616, 231.51006505600162, 169.59058616326686, 203.79177616966305, 142.9835745792206, 119.60256416281949, 99.8033285757387, 99.93013736047298, 286.2912945500777, 100.96300078651912, 258.69851739430146, 63.36066914490887, 56.58859755265236, 51.99857638133212, 509.27648921915863, 49.41976607941039, 49.41976607941039, 49.41983532389328, 40.646995690710376, 32.559163489948276, 225.14064619866272, 31.951874059948608, 28.9777945236724, 27.48772496871103, 23.29479926918094, 23.40765399875515, 288.8233806309587, 39.02968420960169, 419.57631413823964, 837.4130756509621, 804.789810426707, 236.58331405749698, 253.7082895843052, 309.29860846689024, 288.9882554232551, 1842.3455008604897, 563.6499015866644, 237.35994080046692, 436.1795314968425, 450.79376460091436, 224.69533830672611, 146.22584033496068, 148.03294341456802, 110.30709939443096, 142.84936229544724, 142.84936235350844, 219.52364600514449, 78.83862402724841, 76.0598812892121, 1270.9830843950094, 75.99509898346885, 75.07861769873838, 73.00840643867183, 72.99587656350305, 72.92929015400928, 72.92929015400928, 354.265868918631, 94.50587816070457, 247.99057108779218, 121.62887954426297, 84.58131463105556, 68.54620809223027, 130.88847420374117, 86.38473864006636, 64.96685592794091, 72.10138466222273, 101.46328998636771, 138.3125989562186, 52.83031063288822, 51.02447366667237, 346.55348294667226, 382.25928448524104, 695.5560826306696, 217.924852364608, 113.20707020879166, 363.3664917902627, 184.52687997796806, 327.1803883188688, 187.42643472061656, 2817.540820888924, 385.1337100186533, 102.8851460948176, 518.0877043813764, 243.00690835769265, 158.04262784261928, 174.5387040431521, 182.7552794154712, 267.3035009028359, 362.51504585362414, 1284.7540816600897, 228.47788585974288, 545.2575804331218, 296.7189380404779, 1024.364108958437, 444.1975699749683, 523.7427158230212, 1147.5492186056656, 442.5945479024494, 570.2873271190736, 1093.913152498967, 453.3926520343133, 1643.8106756221655, 267.8951157035113, 806.3103615681785, 1183.8077750238956, 454.29810188256823, 521.8697921357536, 910.0557271084203, 1137.4864220488619, 9355.813100067571, 1542.5656175213303, 868.6610094630082, 742.6806506909047, 1435.744938982265, 805.9004739792531, 1281.6826800006747, 676.1052998033359, 762.3836523250867, 1191.1546495295659, 934.2085401960044, 1956.1707824574507, 743.6847686561675, 630.7477537385769], \"Category\": [\"Default\", \"Default\", \"Default\", \"Default\", \"Default\", \"Default\", \"Default\", \"Default\", \"Default\", \"Default\", \"Default\", \"Default\", \"Default\", \"Default\", \"Default\", \"Default\", \"Default\", \"Default\", \"Default\", \"Default\", \"Default\", \"Default\", \"Default\", \"Default\", \"Default\", \"Default\", \"Default\", \"Default\", \"Default\", \"Default\", \"Topic1\", \"Topic1\", \"Topic1\", \"Topic1\", \"Topic1\", \"Topic1\", \"Topic1\", \"Topic1\", \"Topic1\", \"Topic1\", \"Topic1\", \"Topic1\", \"Topic1\", \"Topic1\", \"Topic1\", \"Topic1\", \"Topic1\", \"Topic1\", \"Topic1\", \"Topic1\", \"Topic1\", \"Topic1\", \"Topic1\", \"Topic1\", \"Topic1\", \"Topic1\", \"Topic1\", \"Topic1\", \"Topic1\", \"Topic1\", \"Topic1\", \"Topic1\", \"Topic1\", \"Topic1\", \"Topic1\", \"Topic1\", \"Topic1\", \"Topic1\", \"Topic1\", \"Topic1\", \"Topic1\", \"Topic1\", \"Topic1\", \"Topic1\", \"Topic1\", \"Topic1\", \"Topic1\", \"Topic1\", \"Topic1\", \"Topic1\", \"Topic1\", \"Topic1\", \"Topic1\", \"Topic1\", \"Topic1\", \"Topic1\", \"Topic1\", \"Topic1\", \"Topic1\", \"Topic1\", \"Topic1\", \"Topic1\", \"Topic1\", \"Topic1\", \"Topic1\", \"Topic1\", \"Topic1\", \"Topic1\", \"Topic1\", \"Topic1\", \"Topic1\", \"Topic1\", \"Topic1\", \"Topic1\", \"Topic1\", \"Topic1\", \"Topic1\", \"Topic1\", \"Topic1\", \"Topic2\", \"Topic2\", \"Topic2\", \"Topic2\", \"Topic2\", \"Topic2\", \"Topic2\", \"Topic2\", \"Topic2\", \"Topic2\", \"Topic2\", \"Topic2\", \"Topic2\", \"Topic2\", \"Topic2\", \"Topic2\", \"Topic2\", \"Topic2\", \"Topic2\", \"Topic2\", \"Topic2\", \"Topic2\", \"Topic2\", \"Topic2\", \"Topic2\", \"Topic2\", \"Topic2\", \"Topic2\", \"Topic2\", \"Topic2\", \"Topic2\", \"Topic2\", \"Topic2\", \"Topic2\", \"Topic2\", \"Topic2\", \"Topic2\", \"Topic2\", \"Topic2\", \"Topic2\", \"Topic2\", \"Topic2\", \"Topic2\", \"Topic2\", \"Topic2\", \"Topic2\", \"Topic2\", \"Topic2\", \"Topic2\", \"Topic2\", \"Topic2\", \"Topic2\", \"Topic2\", \"Topic2\", \"Topic2\", \"Topic2\", \"Topic2\", \"Topic2\", \"Topic2\", \"Topic2\", \"Topic2\", \"Topic2\", \"Topic2\", \"Topic2\", \"Topic3\", \"Topic3\", \"Topic3\", \"Topic3\", \"Topic3\", \"Topic3\", \"Topic3\", \"Topic3\", \"Topic3\", \"Topic3\", \"Topic3\", \"Topic3\", \"Topic3\", \"Topic3\", \"Topic3\", \"Topic3\", \"Topic3\", \"Topic3\", \"Topic3\", \"Topic3\", \"Topic3\", \"Topic3\", \"Topic3\", \"Topic3\", \"Topic3\", \"Topic3\", \"Topic3\", \"Topic3\", \"Topic3\", \"Topic3\", \"Topic3\", \"Topic3\", \"Topic3\", \"Topic3\", \"Topic3\", \"Topic3\", \"Topic3\", \"Topic3\", \"Topic3\", \"Topic3\", \"Topic3\", \"Topic3\", \"Topic3\", \"Topic3\", \"Topic3\", \"Topic3\", \"Topic3\", \"Topic3\", \"Topic3\", \"Topic3\", \"Topic3\", \"Topic3\", \"Topic3\", \"Topic3\", \"Topic3\", \"Topic3\", \"Topic3\", \"Topic3\", \"Topic3\", \"Topic3\", \"Topic3\", \"Topic3\", \"Topic3\", \"Topic3\", \"Topic3\", \"Topic3\", \"Topic3\", \"Topic3\", \"Topic3\", \"Topic3\", \"Topic3\", \"Topic4\", \"Topic4\", \"Topic4\", \"Topic4\", \"Topic4\", \"Topic4\", \"Topic4\", \"Topic4\", \"Topic4\", \"Topic4\", \"Topic4\", \"Topic4\", \"Topic4\", \"Topic4\", \"Topic4\", \"Topic4\", \"Topic4\", \"Topic4\", \"Topic4\", \"Topic4\", \"Topic4\", \"Topic4\", \"Topic4\", \"Topic4\", \"Topic4\", \"Topic4\", \"Topic4\", \"Topic4\", \"Topic4\", \"Topic4\", \"Topic4\", \"Topic4\", \"Topic4\", \"Topic4\", \"Topic4\", \"Topic4\", \"Topic4\", \"Topic4\", \"Topic4\", \"Topic4\", \"Topic4\", \"Topic4\", \"Topic4\", \"Topic4\", \"Topic5\", \"Topic5\", \"Topic5\", \"Topic5\", \"Topic5\", \"Topic5\", \"Topic5\", \"Topic5\", \"Topic5\", \"Topic5\", \"Topic5\", \"Topic5\", \"Topic5\", \"Topic5\", \"Topic5\", \"Topic5\", \"Topic5\", \"Topic5\", \"Topic5\", \"Topic5\", \"Topic5\", \"Topic5\", \"Topic5\", \"Topic5\", \"Topic5\", \"Topic5\", \"Topic5\", \"Topic5\", \"Topic5\", \"Topic5\", \"Topic5\", \"Topic5\", \"Topic5\", \"Topic5\", \"Topic5\", \"Topic5\", \"Topic5\", \"Topic5\", \"Topic5\", \"Topic5\", \"Topic5\", \"Topic5\", \"Topic5\", \"Topic5\", \"Topic5\", \"Topic5\", \"Topic5\", \"Topic5\", \"Topic5\", \"Topic5\", \"Topic5\", \"Topic5\", \"Topic5\", \"Topic5\", \"Topic5\", \"Topic5\", \"Topic5\", \"Topic5\", \"Topic5\", \"Topic5\", \"Topic5\", \"Topic5\", \"Topic5\", \"Topic5\", \"Topic5\", \"Topic5\", \"Topic5\", \"Topic5\", \"Topic5\", \"Topic5\", \"Topic5\", \"Topic5\", \"Topic5\", \"Topic5\", \"Topic5\", \"Topic5\", \"Topic5\", \"Topic5\", \"Topic5\", \"Topic5\", \"Topic5\", \"Topic5\", \"Topic5\"], \"logprob\": [30.0, 29.0, 28.0, 27.0, 26.0, 25.0, 24.0, 23.0, 22.0, 21.0, 20.0, 19.0, 18.0, 17.0, 16.0, 15.0, 14.0, 13.0, 12.0, 11.0, 10.0, 9.0, 8.0, 7.0, 6.0, 5.0, 4.0, 3.0, 2.0, 1.0, -5.8597, -5.4958, -5.9926, -6.5612, -6.0416, -5.5656, -7.0959, -7.1262, -7.1358, -6.7024, -6.9141, -7.3154, -7.1262, -7.3486, -7.3233, -7.4471, -7.2194, -7.4405, -6.4005, -7.5663, -7.6231, -7.6318, -7.6435, -7.6437, -7.6437, -7.6439, -7.6236, -7.6241, -7.1311, -7.352, -5.8768, -6.1855, -6.5481, -6.6528, -6.6648, -6.9544, -7.0787, -7.2878, -6.679, -6.9549, -4.5635, -6.2101, -6.9203, -6.333, -4.3666, -6.3093, -4.587, -6.8826, -5.8811, -6.0878, -6.6246, -5.835, -4.4842, -6.833, -5.8541, -5.7739, -6.3417, -4.7932, -5.4151, -5.0102, -5.412, -5.6456, -5.9881, -5.8381, -3.4051, -5.6285, -5.1712, -5.5134, -5.2664, -5.8024, -4.8117, -5.0217, -5.7558, -5.6799, -5.6548, -5.8466, -5.6639, -5.7492, -5.8143, -4.9987, -6.2402, -6.1789, -5.4954, -5.4954, -6.4257, -6.7692, -6.597, -6.0826, -6.0826, -6.0826, -6.9915, -6.1878, -6.5717, -6.0754, -6.9296, -7.2241, -7.2783, -7.2614, -5.3878, -5.3681, -7.2593, -7.2102, -6.7314, -4.9344, -5.3643, -7.4938, -7.6655, -6.1902, -7.6703, -4.9171, -5.4249, -6.1592, -5.3697, -6.1492, -6.0466, -6.0768, -6.0959, -4.8923, -5.5182, -6.1589, -6.1136, -5.4737, -3.6763, -5.9686, -5.4021, -5.3002, -5.0174, -6.0211, -5.6904, -5.9314, -5.0047, -5.7073, -5.6222, -5.2724, -5.3809, -5.8226, -5.6282, -4.8355, -5.3665, -5.6948, -5.6683, -5.5515, -5.7466, -5.6661, -5.8792, -5.5454, -6.2257, -6.7106, -6.9721, -5.1894, -7.0992, -7.2918, -7.292, -7.1708, -7.4054, -7.4054, -7.3782, -7.3913, -7.3561, -7.2335, -7.5211, -7.0775, -7.8032, -7.8813, -8.0148, -8.0133, -7.9948, -7.9107, -8.0623, -8.0373, -8.0635, -8.0635, -8.0643, -4.8433, -7.4793, -6.6336, -7.258, -7.3208, -7.2965, -4.5322, -6.0952, -7.2352, -6.3625, -6.1749, -5.7342, -5.593, -6.2902, -6.1345, -5.4714, -6.1305, -6.8799, -3.5452, -6.2032, -5.6377, -6.0196, -6.5742, -5.1826, -5.7824, -4.972, -5.6524, -6.1897, -5.6929, -5.5036, -5.9691, -5.3004, -5.7051, -5.284, -5.4837, -5.874, -5.9441, -5.959, -6.0691, -6.0617, -6.0061, -3.0345, -3.5707, -4.2392, -4.2655, -4.2045, -4.2391, -4.5514, -4.3679, -4.7231, -4.903, -5.0866, -5.0855, -4.0335, -5.0779, -4.1398, -5.5483, -5.6638, -5.7488, -3.4672, -5.8003, -5.8003, -5.8003, -6.0007, -6.2297, -4.2977, -6.2526, -6.3525, -6.4054, -6.5785, -6.5738, -4.0637, -6.0874, -3.9069, -3.3629, -3.4207, -4.5672, -4.5623, -4.8756, -5.0038, -4.3089, -4.9742, -5.3174, -5.2192, -5.2654, -6.9319, -7.3618, -7.3501, -7.6449, -7.3871, -7.3871, -6.9589, -7.9834, -8.0195, -5.2036, -8.0205, -8.0327, -8.0608, -8.061, -8.0621, -8.0621, -6.4818, -7.8034, -6.8395, -7.552, -7.9154, -8.1258, -7.4795, -7.8955, -8.1807, -8.0767, -7.7353, -7.4259, -8.3888, -8.4237, -6.5089, -6.4137, -5.8244, -6.9762, -7.6268, -6.4744, -7.1443, -6.5833, -7.1304, -4.478, -6.4285, -7.7234, -6.1468, -6.8819, -7.303, -7.2074, -7.1629, -6.7951, -6.5045, -5.2941, -6.952, -6.1282, -6.7083, -5.5497, -6.3306, -6.1832, -5.4616, -6.3412, -6.117, -5.5282, -6.3344, -5.1895, -6.8096, -5.8492, -5.5404, -6.3578, -6.2595, -5.8163, -5.6487, -4.0143, -5.441, -5.8859, -6.0197, -5.5891, -5.9803, -5.6874, -6.0955, -6.0266, -5.8576, -5.9877, -5.6715, -6.1846, -6.2439], \"loglift\": [30.0, 29.0, 28.0, 27.0, 26.0, 25.0, 24.0, 23.0, 22.0, 21.0, 20.0, 19.0, 18.0, 17.0, 16.0, 15.0, 14.0, 13.0, 12.0, 11.0, 10.0, 9.0, 8.0, 7.0, 6.0, 5.0, 4.0, 3.0, 2.0, 1.0, 1.7726, 1.7698, 1.7691, 1.768, 1.765, 1.7619, 1.7617, 1.7612, 1.7605, 1.7592, 1.758, 1.7579, 1.7575, 1.7546, 1.7542, 1.7536, 1.7529, 1.7529, 1.7515, 1.751, 1.7505, 1.7504, 1.7504, 1.7501, 1.7499, 1.7495, 1.7487, 1.7483, 1.7468, 1.7466, 1.7394, 1.7371, 1.7393, 1.7394, 1.739, 1.7425, 1.7412, 1.7441, 1.7273, 1.7345, 1.6405, 1.7048, 1.7332, 1.7085, 1.5885, 1.6924, 1.5576, 1.7242, 1.6333, 1.6483, 1.6946, 1.5924, 1.3695, 1.7185, 1.5664, 1.5072, 1.6189, 1.294, 1.3931, 1.2527, 1.364, 1.4103, 1.5022, 1.4291, 0.4482, 1.273, 1.0021, 1.1775, 1.0075, 1.3335, 0.6066, 0.6348, 1.2771, 1.1442, 0.833, 1.1814, 0.2567, -0.0215, 0.5985, 2.4795, 2.4766, 2.4686, 2.4669, 2.4669, 2.465, 2.4648, 2.464, 2.4615, 2.4615, 2.4615, 2.4607, 2.4602, 2.4589, 2.4582, 2.4568, 2.4526, 2.4493, 2.4493, 2.4484, 2.4459, 2.4447, 2.4436, 2.4433, 2.443, 2.4401, 2.4361, 2.4315, 2.4271, 2.4238, 2.4229, 2.4216, 2.4233, 2.41, 2.423, 2.4132, 2.4096, 2.3906, 2.3101, 2.3514, 2.3792, 2.362, 2.24, 1.8019, 2.3253, 2.1579, 1.971, 1.8162, 2.2823, 1.923, 2.1682, 0.9558, 1.7133, 1.5114, 0.8516, 0.8772, 1.8562, 1.2693, -0.9822, 0.2901, 1.3099, 0.8126, 0.1761, 0.0945, 1.6426, 1.6424, 1.6395, 1.6387, 1.6355, 1.6352, 1.6342, 1.6318, 1.6315, 1.6314, 1.6301, 1.6299, 1.6299, 1.6295, 1.6292, 1.6287, 1.6285, 1.628, 1.6265, 1.6214, 1.6201, 1.6172, 1.6164, 1.6161, 1.616, 1.616, 1.6157, 1.6155, 1.6155, 1.6152, 1.6097, 1.611, 1.5806, 1.5988, 1.6, 1.5904, 1.4537, 1.5208, 1.5633, 1.4782, 1.4369, 1.3522, 1.2987, 1.4075, 1.3708, 1.1922, 1.2271, 1.4638, 0.3081, 1.2312, 1.0119, 1.152, 1.3446, 0.7318, 0.9392, 0.5062, 0.8337, 1.1107, 0.7881, 0.6697, 0.8995, 0.3561, 0.6025, 0.1343, 0.1722, 0.6356, 0.7015, 0.165, 0.7607, 0.6116, -0.1524, 3.3165, 3.316, 3.3143, 3.3139, 3.3137, 3.3133, 3.3122, 3.312, 3.3112, 3.3099, 3.3072, 3.3071, 3.3065, 3.3044, 3.3016, 3.2999, 3.2975, 3.2971, 3.2968, 3.2965, 3.2965, 3.2965, 3.2915, 3.2843, 3.2826, 3.2802, 3.278, 3.2779, 3.2703, 3.2702, 3.2675, 3.2453, 3.051, 2.9039, 2.8857, 2.9636, 2.8986, 2.3872, 2.3269, 1.1694, 1.6884, 2.2101, 1.6998, 1.6207, 0.6504, 0.6501, 0.6495, 0.6489, 0.6482, 0.6482, 0.6467, 0.6463, 0.646, 0.6459, 0.6459, 0.6458, 0.6457, 0.6456, 0.6455, 0.6455, 0.6452, 0.645, 0.6441, 0.6441, 0.6439, 0.6437, 0.6433, 0.6427, 0.6425, 0.6423, 0.642, 0.6416, 0.6412, 0.641, 0.6402, 0.6373, 0.628, 0.6367, 0.641, 0.6273, 0.635, 0.6232, 0.6332, 0.5755, 0.615, 0.64, 0.6001, 0.622, 0.6312, 0.6275, 0.626, 0.6136, 0.5995, 0.5446, 0.6136, 0.5676, 0.5959, 0.5155, 0.5702, 0.5529, 0.4901, 0.5632, 0.5339, 0.4713, 0.5459, 0.4027, 0.5968, 0.4554, 0.3801, 0.5205, 0.4802, 0.3672, 0.3118, -0.161, 0.2149, 0.3442, 0.3671, 0.1385, 0.3248, 0.1538, 0.3852, 0.334, 0.0568, 0.1696, -0.2532, 0.2008, 0.3063]}, \"token.table\": {\"Topic\": [3, 3, 5, 1, 2, 3, 5, 1, 2, 3, 5, 2, 5, 2, 3, 4, 5, 3, 4, 5, 1, 2, 3, 4, 5, 3, 4, 5, 1, 3, 5, 2, 5, 5, 5, 1, 2, 3, 4, 5, 3, 1, 2, 3, 5, 3, 5, 1, 2, 3, 4, 5, 5, 3, 5, 1, 2, 5, 1, 5, 4, 5, 2, 3, 5, 1, 2, 3, 4, 5, 4, 3, 4, 5, 3, 5, 3, 4, 5, 1, 2, 5, 1, 3, 5, 1, 3, 5, 1, 2, 3, 5, 1, 2, 3, 4, 5, 2, 3, 5, 4, 5, 4, 5, 1, 2, 3, 4, 5, 1, 3, 5, 1, 2, 3, 5, 1, 5, 1, 2, 3, 5, 3, 1, 3, 4, 5, 3, 1, 2, 3, 4, 5, 1, 2, 3, 4, 5, 3, 5, 1, 5, 4, 1, 2, 3, 5, 1, 3, 1, 2, 3, 5, 1, 2, 3, 5, 4, 3, 5, 1, 2, 3, 5, 2, 3, 5, 1, 5, 1, 3, 5, 1, 2, 3, 4, 5, 1, 2, 3, 4, 5, 3, 5, 1, 1, 2, 3, 4, 5, 1, 2, 3, 5, 1, 2, 3, 1, 5, 3, 3, 5, 1, 2, 3, 5, 1, 1, 2, 3, 4, 5, 3, 5, 2, 3, 5, 1, 2, 5, 3, 2, 1, 2, 3, 5, 1, 2, 3, 4, 5, 5, 1, 2, 3, 4, 5, 3, 1, 5, 2, 3, 5, 1, 2, 3, 4, 5, 1, 5, 2, 3, 5, 1, 2, 3, 4, 5, 1, 1, 2, 3, 5, 2, 5, 1, 2, 3, 4, 5, 4, 5, 1, 3, 5, 1, 2, 3, 4, 5, 1, 4, 1, 2, 3, 5, 1, 2, 3, 5, 5, 1, 2, 3, 4, 5, 4, 4, 5, 5, 3, 5, 1, 3, 5, 2, 3, 5, 1, 3, 5, 1, 3, 5, 1, 2, 3, 5, 1, 2, 3, 4, 5, 3, 5, 3, 1, 3, 5, 1, 2, 3, 4, 5, 5, 1, 2, 3, 4, 5, 3, 4, 5, 1, 3, 5, 1, 3, 5, 1, 1, 2, 3, 5, 4, 5, 1, 2, 3, 5, 1, 5, 1, 3, 5, 1, 2, 3, 5, 3, 4, 5, 1, 2, 3, 5, 4, 5, 1, 2, 3, 4, 5, 4, 5, 1, 5, 3, 3, 5, 1, 3, 5, 2, 3, 5, 1, 2, 3, 5, 1, 2, 3, 5, 1, 2, 5, 1, 2, 3, 4, 5, 3, 5, 1, 2, 3, 4, 5, 1, 2, 5, 1, 2, 3, 4, 5, 2, 3, 4, 5, 1, 2, 3, 4, 5, 1, 5, 1, 5, 1, 2, 3, 5, 1, 2, 3, 4, 5, 1, 2, 3, 4, 5, 4, 5, 1, 2, 5, 2, 3, 5, 1, 2, 3, 5, 1, 2, 3, 4, 5, 1, 2, 3, 4, 5, 2, 3, 5, 1, 2, 3, 5, 2, 2, 3, 5, 1, 2, 3, 4, 5, 1, 2, 3, 4, 5, 2, 5, 1, 2, 3, 5, 2, 3, 5, 1, 2, 3, 5, 1, 2, 3, 4, 5, 3, 1, 2, 3, 4, 5, 1, 2, 3, 4, 5, 1, 2, 3, 5, 1, 3, 4, 5, 5, 1, 3, 5, 3, 5, 1, 2, 5, 5, 4, 5, 2, 3, 5, 2, 3, 5, 1, 2, 3, 4, 5, 2, 5, 1, 2, 3, 4, 5, 1, 2, 5, 1, 2, 3, 4, 5, 1, 2, 3, 5, 1, 2, 3, 4, 5, 2, 3, 5, 1, 2, 3, 5, 3, 5, 1, 3, 5, 3, 5, 3, 5, 2, 3, 5, 1, 2, 3, 5, 1, 2, 3, 4, 5, 3, 5, 2, 5, 1, 2, 3, 4, 5, 1, 5, 1, 2, 3, 4, 5, 1, 5, 5, 1, 3, 5, 1, 2, 3, 4, 5, 5, 2, 5, 3, 5, 1, 2, 3, 4, 5, 1, 2, 3, 4, 5, 1, 2, 3, 4, 5, 1, 5, 3, 5, 1, 2, 3, 5, 1, 2, 3, 4, 5, 1, 2, 3, 5, 1, 2, 3, 4, 5, 1, 5, 1, 4, 5, 3, 1, 2, 3, 5, 3, 4, 1, 2, 3, 5, 4, 5, 1, 5, 1, 2, 3, 5, 1, 2, 5, 5, 1, 2, 3, 5, 1, 2, 3, 4, 5, 5, 1, 2, 3, 5, 3, 1, 1, 2, 3, 5, 1, 5, 1, 2, 3, 4, 5, 1, 2, 1, 2, 3, 4, 5, 1, 2, 3, 4, 5, 1, 3, 5, 1, 5, 4, 5, 4, 1, 5, 1, 2, 3, 4, 5, 2, 3, 5, 2, 3, 5, 1, 2, 3, 4, 5, 1, 3, 5, 3, 5, 2, 3, 5, 1, 3, 5, 1, 2, 3, 4, 5, 1, 5, 2, 3, 5, 1, 3, 5, 2, 5, 1, 2, 3, 5, 2, 3, 5, 4, 5, 2, 5, 1, 2, 3, 4, 5, 1, 2, 3, 5, 2, 3, 5, 1, 2, 3, 4, 5, 4, 5, 5, 2, 3, 5, 2, 3, 5, 1, 2, 3, 5, 4, 3, 4, 5, 1, 3, 4, 5, 1, 2, 3, 5, 2, 3, 5, 1, 2, 3, 5, 1, 2, 3, 4, 5, 1, 5, 1, 2, 3, 4, 5, 1, 2, 3, 4, 5, 1, 5, 3, 3, 4, 5, 1, 2, 3, 4, 5, 5, 1, 2, 3, 4, 5, 2, 3, 4, 3, 1, 2, 3, 5, 1, 5, 4, 5, 1, 2, 3, 5, 1, 2, 3, 4, 5, 3, 4, 5, 1, 2, 3, 4, 5, 1, 3, 5, 1, 2, 3, 4, 5, 2, 3, 5, 2, 5, 5, 1, 2, 3, 5, 3, 1, 2, 3, 5], \"Freq\": [0.9704818725453701, 0.9952147743350558, 0.0033850842664457682, 0.010071129032199413, 0.003357043010733138, 0.584125483867566, 0.3994881182772434, 0.1279776387163065, 0.017774672043931454, 0.6576628656254638, 0.19552139248324601, 0.9816824446438109, 0.9972159598419604, 0.012361430667857042, 0.7581677476285652, 0.012361430667857042, 0.21838527513214107, 0.9808378497990414, 0.9934773243848541, 0.004319466627760235, 0.09230203986177715, 0.10109271032480355, 0.048348687546645175, 0.007691836655148096, 0.7494046569730002, 0.9878678275632532, 0.00833643736340298, 0.002084109340850745, 0.005335426678155778, 0.016006280034467333, 0.9763830821025075, 0.9536531010208928, 0.03532048522299603, 0.9872576552980724, 0.9861878037357397, 0.7590594493761063, 0.1095968188938763, 0.09336025313182056, 0.0040591414405139374, 0.04059141440513937, 0.9895529013078359, 0.27385069230261894, 0.06628233316878675, 0.38897263938524856, 0.27036214845163015, 0.9650678320100028, 0.020105579833541724, 0.9877116922665762, 0.010071164673786315, 0.9639543330624044, 0.018703591537031727, 0.0071936890527045105, 0.9920315345307601, 0.0787937673814207, 0.9185102026177042, 0.9205785293566979, 0.06092063797213443, 0.020306879324044808, 0.9861356811573329, 0.009391768391974599, 0.9719272499875216, 0.017671404545227663, 0.005645477522587328, 0.002822738761293664, 0.9907813052140761, 0.002758506195640163, 0.008275518586920489, 0.030343568152041794, 0.013792530978200815, 0.946167625104576, 0.9866009213595299, 0.0042268407811591035, 0.7016555696724112, 0.29165201389997814, 0.9868772415710484, 0.01701512485467325, 0.007731006811112306, 0.9818378650112629, 0.011596510216668458, 0.9812238189130769, 0.9625115536840975, 0.021875262583729488, 0.9827183579565848, 0.01786760650830154, 0.01786760650830154, 0.0041151093471303935, 0.028805765429912755, 0.9670506965756425, 0.02356412729590532, 0.08433477137481903, 0.07193259911381623, 0.8185433692261848, 0.0014790595492904402, 0.0014790595492904402, 0.20854739644995207, 0.025144012337937484, 0.7631947274338672, 0.0097195760316889, 0.0097195760316889, 0.981677179200579, 0.9919508839314004, 0.010019705898296974, 0.9906921236671802, 0.010006991148153335, 0.15518983495568586, 0.038797458738921466, 0.04526370186207505, 0.3944408305123682, 0.36857585801975395, 0.005900762454155935, 0.991328092298197, 0.005900762454155935, 0.004376791199012915, 0.030637538393090406, 0.00875358239802583, 0.9585172725838284, 0.9754367654971279, 0.016257279424952132, 0.009152644988436988, 0.814585403970892, 0.05491586993062193, 0.11898438484968085, 0.9785045839682195, 0.03336699315058895, 0.09771762279815335, 0.7650574858099324, 0.10486769275899385, 0.9967571651056006, 0.003941534593286154, 0.04729841511943384, 0.02364920755971692, 0.6582362770787876, 0.27196588693674456, 0.11156027304354647, 0.5093884165384575, 0.16839286497139092, 0.06104241355212921, 0.15155357847425183, 0.010581352392700149, 0.9946471249138139, 0.009855781338594055, 0.9855781338594055, 0.9807960823002335, 0.009169253742300138, 0.009169253742300138, 0.01528208957050023, 0.9688844787697146, 0.9731889235100123, 0.020274769239791924, 0.01029266365370728, 0.012422180271715683, 0.053947754322879536, 0.9235003733429773, 0.14671717472455484, 0.5933894622193107, 0.04890572490818494, 0.20866442627492243, 0.9712712909824577, 0.013766213295309379, 0.9819898817320689, 0.6156792943500271, 0.019957189444085158, 0.07883089830413637, 0.2853878090504178, 0.9762039904432331, 0.019524079808864662, 0.0065080266029548875, 0.9638456489862427, 0.03603161304621468, 0.14484319720922367, 0.7891456951399083, 0.06492970909378992, 0.0846866063224904, 0.05833966213327116, 0.4930642412553885, 0.06398543588810385, 0.30110793359107696, 0.1045663407423863, 0.19360302691907166, 0.2277682669636137, 0.015529654565700934, 0.45864246484036764, 0.9922935997373552, 0.012403669996716939, 0.9804402636168161, 0.009181815173483494, 0.5646816331692349, 0.013772722760225242, 0.08263633656135144, 0.33054534624540577, 0.0883767744781641, 0.0009018038212057561, 0.8251504964032669, 0.08567136301454684, 0.010873748088412271, 0.880773595161394, 0.09786373279571045, 0.9569476648232492, 0.0375273594048333, 0.9780393801547714, 0.9643046158429964, 0.0311066005110644, 0.8309226496316968, 0.011434715361904085, 0.06860829217142451, 0.08766615110793131, 0.9691362240823171, 0.3097889026022099, 0.05418749781490801, 0.22032841092665426, 0.012268867429790492, 0.40333901675436246, 0.004555317926783, 0.993059308038694, 0.9665171267545283, 0.023289569319386222, 0.011644784659693111, 0.96326128439169, 0.01356706034354493, 0.01356706034354493, 0.9529386132515394, 0.9721347830446813, 0.00251856465588647, 0.04701320690988078, 0.40045178028594874, 0.5498866165352126, 0.13531686724638486, 0.08429575336660042, 0.015528165093847444, 0.1819013625279272, 0.5856336549679607, 0.9847245005434716, 0.10463492088886682, 0.03345884098190509, 0.08334293117310904, 0.0018250276899220957, 0.7768534533435054, 0.9654263487052839, 0.9847270602373022, 0.016412117670621704, 0.9014144011460855, 0.07695000985393413, 0.010992858550562019, 0.2644345257369594, 0.03099677140813186, 0.2622968173639848, 0.00010688541864873055, 0.4421849769497983, 0.9775750212596055, 0.02036614627624178, 0.9203756833075198, 0.021404085658314417, 0.053510214145786036, 0.036669560436969395, 0.06417173076469644, 0.8113140246679479, 0.004583695054621174, 0.0870902060378023, 0.9654943413131697, 0.011524555177840495, 0.005762277588920247, 0.8470548055712763, 0.13829466213408592, 0.9715777400648683, 0.01646741932313336, 0.005193001671817129, 0.007789502507725694, 0.018175505851359953, 0.005193001671817129, 0.9607053092861689, 0.9702091320789921, 0.03129706877674168, 0.0136626980014895, 0.983714256107244, 0.0136626980014895, 0.0825348220180309, 0.050437946788796664, 0.28199397522827224, 0.19716651926529605, 0.38745513669575615, 0.9805673723820891, 0.9521129131456457, 0.11305502040756628, 0.02299424143882704, 0.02299424143882704, 0.8392898125171869, 0.18890794972422198, 0.005903373428881937, 0.6109991498892805, 0.1948113231531039, 0.9839701009476216, 0.09465150706510127, 0.002201197838723285, 0.026414374064679422, 0.002201197838723285, 0.8738755419731442, 0.9444168093393293, 0.9805572261994294, 0.009904618446458884, 0.9930222057959406, 0.01625779398837823, 0.9808869039654864, 0.9883177659963138, 0.007640092117227975, 0.9855718831224087, 0.9689581877913521, 0.012919442503884694, 0.012919442503884694, 0.9904410788227241, 0.0053249520366813125, 0.0053249520366813125, 0.0934535968275204, 0.7413985348316618, 0.16821647428953673, 0.0441493198326388, 0.0015223903390565103, 0.3638512910345059, 0.590687451553926, 0.8771344288205974, 0.04152115639387444, 0.02076057819693722, 0.025950722746171523, 0.03633101184464013, 0.9825832062960151, 0.014036902947085931, 0.9784872074086987, 0.0037328041512587123, 0.04852645396636326, 0.9443994502684542, 0.2179407885666169, 0.011826244340824172, 0.005068390431781788, 0.005068390431781788, 0.7594138330286379, 0.993127150676349, 0.3067983926212129, 0.027639494830739898, 0.23355373131975216, 0.00829184844922197, 0.42288427091032044, 0.013325003950432027, 0.9638419524145833, 0.022208339917386712, 0.002991131893102345, 0.9930557885099786, 0.002991131893102345, 0.12389034347752814, 0.8291122986573037, 0.04765013210674159, 0.9596551777571772, 0.5496458140081822, 0.1917369118633194, 0.0051129843163551835, 0.250536231501404, 0.9885036862359013, 0.010478837663278106, 0.14009931845429618, 0.049034761459003665, 0.5306261686456468, 0.28019863690859237, 0.9807521667457595, 0.022289821971494532, 0.0418578338953201, 0.9376154792551702, 0.02511470033719206, 0.802178159404798, 0.005284441102798406, 0.16593145062786996, 0.02642220551399203, 0.05124304847713782, 0.9223748725884808, 0.02562152423856891, 0.011221214304016458, 0.9538032158413989, 0.028053035760041145, 0.011221214304016458, 0.9912078092485374, 0.004906969352715532, 0.0005427863555087458, 0.501534592490081, 0.31970116339465127, 0.11669906643438034, 0.06133485817248827, 0.9939819995058257, 0.004437419640651008, 0.9666096469899533, 0.030686020539363597, 0.9813305455865587, 0.9868084856237034, 0.01701393940730523, 0.8649037837984477, 0.020790956341308838, 0.11227116424306773, 0.005232050812561021, 0.010464101625122043, 0.983625552761472, 0.6063105375836159, 0.04367491160559945, 0.01798378713171742, 0.3314155057130782, 0.9309514290400286, 0.03723805716160114, 0.01861902858080057, 0.012412685720533714, 0.9205840170582849, 0.06509179918593933, 0.00929882845513419, 0.6037976996533262, 0.06533631824606888, 0.12391370701840651, 0.0045059529824875095, 0.20276788421193792, 0.008833370549698582, 0.9893375015662412, 0.7047150969329186, 0.03572288509798205, 0.0032475350089074587, 0.009742605026722376, 0.24681266067696686, 0.9297542765590674, 0.03521796502117679, 0.028174372016941437, 0.46305690924754556, 0.11065256013188102, 0.19604747066844136, 0.010824706969423142, 0.22130512026376203, 0.016970423791202924, 0.9503437323073637, 0.016970423791202924, 0.016970423791202924, 0.07664537772233597, 0.0995045254640853, 0.18825180493205326, 0.001344655749514666, 0.6346775137709224, 0.9793104776988443, 0.013233925374308706, 0.9726464627676845, 0.0198499278115854, 0.0038603502516781473, 0.0019301751258390737, 0.04825437814597684, 0.9457858116611461, 0.5475037521515534, 0.0857755878370767, 0.14782601308091942, 0.0036500250143436893, 0.21352646333910583, 0.3887585743727375, 0.09532777302626512, 0.04617439005959717, 0.03723741133838482, 0.43344346797879924, 0.9840825704405445, 0.9860651729762504, 0.8510568073336342, 0.03897970109925042, 0.10394586959800112, 0.939677638562587, 0.050116140723337976, 0.012529035180834494, 0.08788226215982743, 0.02754518664711009, 0.1587127421095391, 0.7253565817072324, 0.46005177265196, 0.0043503713725953665, 0.3763071237294992, 0.015226299804083783, 0.1435622552956471, 0.20954282297334745, 0.01420629308293881, 0.6357316154615118, 0.03729151934271438, 0.10299562485130638, 0.7241116786021178, 0.03732534425784112, 0.23141713439861494, 0.14986631219737548, 0.3072259400046198, 0.03996434991930013, 0.5020521458612079, 0.9353516721517893, 0.9679427682984408, 0.011523128194029057, 0.023046256388058114, 0.6616864509808946, 0.01390932479539418, 0.07948185597368103, 0.0039740927986840514, 0.24241966071972715, 0.015824364714242534, 0.21538718638830115, 0.039560911785606334, 0.020220021579309903, 0.7094590180218736, 0.9326155629856422, 0.05485973899915542, 0.00579624007991188, 0.9331946528658127, 0.0289812003995594, 0.03477744047947128, 0.8912585973387341, 0.023149573956850238, 0.08102350884897583, 0.16591584569273984, 0.11453545476853653, 0.1038312066593275, 0.6154942662795188, 0.032698989835240035, 0.002179932655682669, 0.4730453862831392, 0.010899663278413345, 0.47958518425018715, 0.9749178214693114, 0.6644507787783265, 0.05135469752745687, 0.16512510435751515, 0.028442601707514573, 0.09006823874046281, 0.0009762153820644787, 0.0009762153820644787, 0.12397935352218879, 0.004881076910322394, 0.8698079054194505, 0.010990954837372622, 0.9232402063393002, 0.054954774186863106, 0.021981909674745243, 0.017395846491367814, 0.06212802318345648, 0.6486165620352856, 0.2721207415435394, 0.9856334901760384, 0.0014376985910580927, 0.024440876047987576, 0.9733219461463287, 0.983045544457585, 0.028087015555931, 0.0037410658544404824, 0.037410658544404826, 0.9577128587367635, 0.9893627769688298, 0.9906210232581213, 0.005896553709869769, 0.7765139816002573, 0.1674834077961339, 0.055827802598711306, 0.9326069262775327, 0.027943278689963526, 0.03842200819869985, 0.08178364873681612, 0.1011143293473363, 0.44311867861038556, 0.00297395086315695, 0.3717438578946188, 0.9506870363988243, 0.03802748145595297, 0.11941537922878158, 0.041795382730073556, 0.02865969101490758, 0.6603670471351621, 0.14926922403597698, 0.9608810508319157, 0.9749378750374481, 0.02321280654851067, 0.04926856863445492, 0.07325458231175534, 0.22883953589424458, 0.004537894479489269, 0.6437327454475492, 0.014028016439386237, 0.06312607397723806, 0.03682354315338887, 0.8855185377362562, 0.6408412940232623, 0.002848183528992277, 0.01708910117395366, 0.005696367057984554, 0.3332374728920964, 0.9665171267545283, 0.023289569319386222, 0.011644784659693111, 0.005421485293740103, 0.9216524999358174, 0.04337188234992082, 0.03252891176244061, 0.008221731580089757, 0.9866077896107709, 0.0072299993460215395, 0.0072299993460215395, 0.9832799110589294, 0.9160300094698557, 0.07508442700572587, 0.01898222043604233, 0.9744206490501729, 0.005729388249340758, 0.022917552997363033, 0.9739960023879289, 0.11166611479426686, 0.09094456771904208, 0.06446703534514375, 0.7333125270510101, 0.035692754302968914, 0.07584710289380894, 0.7071626946275716, 0.006692391431806672, 0.176232974370909, 0.9515222986514864, 0.04921667061990447, 0.9310392035597285, 0.04655196017798642, 0.871508709308918, 0.032527352084888835, 0.012337961135647488, 0.003364898491540224, 0.08075756379696537, 0.9921591186557089, 0.006484700121932738, 0.03945104575291685, 0.190082311354963, 0.35505941177625167, 0.06814271539140183, 0.34788649436663044, 0.9757057059052593, 0.01072204072423362, 0.9799219160325896, 0.980245178532356, 0.008064822752039116, 0.9879407871247916, 0.056616172985285165, 0.0020968952957513025, 0.41308837326300657, 0.018872057661761723, 0.5095455568675665, 0.9916168008872259, 0.9762722659877077, 0.019525445319754153, 0.9761032246494468, 0.01600169220736798, 0.31852315261170194, 0.11028296526270741, 0.27505868983169374, 0.025948933002989977, 0.26986890323109575, 0.8272107769437393, 0.05071693981261827, 0.061210099773849634, 0.001748859993538561, 0.05858680978354179, 0.0649046040243739, 0.09141493524559705, 0.010969792229471646, 0.0009141493524559705, 0.8318759107349332, 0.9839542624942816, 0.02522959647421235, 0.9551579546282489, 0.0318385984876083, 0.006740385407173314, 0.020221156221519942, 0.030331734332279914, 0.943653957004264, 0.12532564908579533, 0.02109441618275763, 0.09554529682778455, 0.03970713634401436, 0.7184509982245099, 0.3066757606494782, 0.45812058072329465, 0.03407508451660869, 0.20066438659780675, 0.08239638777489232, 0.37504562711330297, 0.028412547508583557, 0.034095057010300266, 0.4801720528950621, 0.9559902719191079, 0.026929303434341068, 0.9754776753701343, 0.015733510893066682, 0.007866755446533341, 0.9895529013078359, 0.004352243484073719, 0.7137679313880899, 0.026113460904442314, 0.25243012207627574, 0.9934364053387441, 0.9398635164878115, 0.962206733452785, 0.009207719937347224, 0.004603859968673612, 0.023019299843368063, 0.9712712909824577, 0.9863570846685199, 0.9384466325857953, 0.046922331629289764, 0.10879789324626632, 0.843183672658564, 0.018132982207711052, 0.018132982207711052, 0.9612119365752048, 0.012989350494259524, 0.02597870098851905, 0.9872576552980724, 0.6914194581176669, 0.10515885294565276, 0.036805598530978464, 0.1656251933894031, 0.04080547150856482, 0.023063962157014898, 0.05677282992495975, 0.19515660286704914, 0.6830481100346719, 0.9842834421577046, 0.005736823530238715, 0.9580495295498654, 0.017210470590716145, 0.02294729412095486, 0.978020355377869, 0.9801078136800283, 0.0023603775981235866, 0.0015735850654157244, 0.005507547728955035, 0.9905717986791984, 0.9858297536731904, 0.011139319250544524, 0.011515902000765556, 0.0038386340002551853, 0.6602450480438918, 0.019193170001275926, 0.3070907200204148, 0.018941419908836035, 0.9660124153506379, 0.013365341012905624, 0.024821347595396157, 0.04391469189954705, 0.015274675443320713, 0.9031151855863372, 0.24014161702170375, 0.008426021649884341, 0.05055612989930605, 0.3286148443454893, 0.370744952594911, 0.763977670493447, 0.003293007200402789, 0.23380351122859802, 0.961336980234422, 0.030358009902139643, 0.9931210659537985, 0.0069938103236182984, 0.9945450276633494, 0.9672472371787837, 0.01896563210154478, 0.0030436435775392946, 0.8339583402457668, 0.036523722930471535, 0.018261861465235767, 0.10957116879141461, 0.016415394453146694, 0.010943596302097796, 0.9739800708867038, 0.01100816968645756, 0.01651225452968634, 0.9714709748298797, 0.14350472490484245, 0.18640819936092937, 0.42459645409989466, 0.017753161843898035, 0.2278322436633581, 0.0028855574946100894, 0.011542229978440358, 0.9839751056620405, 0.004450470612945803, 0.9969054172998599, 0.9813455045323572, 0.012912440849109964, 0.012912440849109964, 0.9603189658339426, 0.010003322560770236, 0.020006645121540472, 0.07813296590229435, 0.19888391320584017, 0.17047192560500585, 0.033147318867640024, 0.5197026065319276, 0.9536465194824042, 0.04058070295669805, 0.00550198678139783, 0.07702781493956962, 0.9169977968996382, 0.11507055788550026, 0.883741884560642, 0.004602822315420011, 0.982604315627744, 0.013839497403207663, 0.003625808511908827, 0.9535876386320215, 0.018129042559544135, 0.02538065958336179, 0.9340488791751903, 0.011974985630451159, 0.047899942521804635, 0.9934446185150043, 0.004174137052584051, 0.9733077970953441, 0.02703632769709289, 0.1626363671117476, 0.04152417883704194, 0.031143134127781455, 0.3702572612969573, 0.3910193507154783, 0.022890053731957544, 0.002692947497877358, 0.22486111607275938, 0.7499858781588442, 0.9665171267545283, 0.023289569319386222, 0.011644784659693111, 0.002335077228261118, 0.024907490434785257, 0.07005231684783353, 0.007005231684783353, 0.8951129375000951, 0.9712699300880344, 0.9940541400969607, 0.9940541396929268, 0.950232632956863, 0.03334149589322326, 0.01667074794661163, 0.9762039904432331, 0.019524079808864662, 0.0065080266029548875, 0.2490648731766376, 0.2939414269021579, 0.017950621490208117, 0.43979022651009886, 0.9662571103237817, 0.006924647151594285, 0.948676659768417, 0.04154788290956571, 0.9770809713221521, 0.0012991033256041504, 0.9977113540639876, 0.0012991033256041504, 0.6812880875868255, 0.18263445721454055, 0.01436450787080656, 0.12312435317834196, 0.9316747743995052, 0.024199344789597538, 0.03629901718439631, 0.8101241755413582, 0.06057003181617631, 0.07192691278170937, 0.05678440482766529, 0.5912097779608387, 0.04282404830299838, 0.20698290013115883, 0.014274682767666127, 0.14512594147127228, 0.9965753800311342, 0.00467875765272833, 0.5296036177641149, 0.08757225175627098, 0.002085053613244547, 0.002085053613244547, 0.37739470399726305, 0.16507110250933474, 0.09890336099715415, 0.12676346268649333, 0.012537045760202637, 0.5969026786940922, 0.9422287908121649, 0.03719324174258546, 0.9770643995177908, 0.003927139858874053, 0.9778578248596392, 0.015708559435496212, 0.0602459537505538, 0.15537114388300716, 0.04280633555960402, 0.03646465621744046, 0.7055118268156958, 0.985117704802995, 0.16544973274839236, 0.07215101127373502, 0.35204717569770705, 0.029855590871890353, 0.380658783616602, 0.9758375036599454, 0.9811075721449917, 0.9458767515171047, 0.9772897759671876, 0.0022594042442212964, 0.029372255174876852, 0.05648510610553241, 0.9127993146654038, 0.9595975331198888, 0.026655487031108024, 0.9785250193334141, 0.01578266160215184, 0.002710274107226362, 0.0785979491095645, 0.7453253794872495, 0.17345754286248716, 0.005931670914751041, 0.8660239535536521, 0.017795012744253127, 0.023726683659004166, 0.08304339280651458, 0.0022198296012613337, 0.9967034909663388, 0.0022198296012613337, 0.00490138574511541, 0.5293496604724642, 0.08822494341207737, 0.02450692872557705, 0.3528997736483095, 0.9830800082133863, 0.006898807075181658, 0.010348210612772487, 0.1513635184645687, 0.0912862456719306, 0.13341835905897548, 0.018725383727575505, 0.6054540738582748, 0.9865323636788323, 0.008020588322592132, 0.004010294161296066, 0.9655904403948374, 0.0371380938613399, 0.9869057479129633, 0.028756936491226744, 0.03747115967038636, 0.08539938715576427, 0.8478939153322309, 0.9676823202830614, 0.002205593750831936, 0.0242615312591513, 0.07719578127911778, 0.8976766565885981], \"Term\": [\"aaaaaaaaaaaaaaaa\", \"aaaaaaaaaaaaaaaaaaaaaaaaaaaaaaaaaaaaaaaaaaaaaaaaaaaaaaaaaaaaaaaaaaaaaaaaaaaa\", \"aaaaaaaaaaaaaaaaaaaaaaaaaaaaaaaaaaaaaaaaaaaaaaaaaaaaaaaaaaaaaaaaaaaaaaaaaaaa\", \"account\", \"account\", \"account\", \"account\", \"address\", \"address\", \"address\", \"address\", \"agave\", \"aggies\", \"alert\", \"alert\", \"alert\", \"alert\", \"alias\", \"align\", \"align\", \"also\", \"also\", \"also\", \"also\", \"also\", \"amazon\", \"amazon\", \"amazon\", \"andersen\", \"andersen\", \"andersen\", \"apb\", \"apb\", \"aps\", \"asarco\", \"attached\", \"attached\", \"attached\", \"attached\", \"attached\", \"aunt\", \"available\", \"available\", \"available\", \"available\", \"aw\", \"aw\", \"backout\", \"bakernet\", \"bakernet\", \"bakernet\", \"bakernet\", \"balancing\", \"bankruptcy\", \"bankruptcy\", \"barry\", \"barry\", \"barry\", \"beth\", \"beth\", \"bgcolor\", \"bgcolor\", \"billion\", \"billion\", \"billion\", \"board\", \"board\", \"board\", \"board\", \"board\", \"bodydefault\", \"border\", \"border\", \"border\", \"borland\", \"borland\", \"br\", \"br\", \"br\", \"breese\", \"brochure\", \"brochure\", \"bt\", \"bt\", \"bt\", \"bush\", \"bush\", \"bush\", \"business\", \"business\", \"business\", \"business\", \"california\", \"california\", \"california\", \"california\", \"california\", \"campaign\", \"campaign\", \"campaign\", \"cellpadding\", \"cellpadding\", \"cellspacing\", \"cellspacing\", \"center\", \"center\", \"center\", \"center\", \"center\", \"certificate\", \"certificate\", \"certificate\", \"chairman\", \"chairman\", \"chairman\", \"chairman\", \"cherry\", \"cherry\", \"choice\", \"choice\", \"choice\", \"choice\", \"christmas\", \"class\", \"class\", \"class\", \"class\", \"classmate\", \"clear\", \"clear\", \"clear\", \"clear\", \"clear\", \"click\", \"click\", \"click\", \"click\", \"click\", \"collapse\", \"collapse\", \"college\", \"college\", \"colspan\", \"committee\", \"committee\", \"committee\", \"committee\", \"commoditylogic\", \"commoditylogic\", \"company\", \"company\", \"company\", \"company\", \"conference\", \"conference\", \"conference\", \"conference\", \"coords\", \"copyright\", \"copyright\", \"corp\", \"corp\", \"corp\", \"corp\", \"ctr\", \"ctr\", \"ctr\", \"darrell\", \"darrell\", \"database\", \"database\", \"database\", \"date\", \"date\", \"date\", \"date\", \"date\", \"day\", \"day\", \"day\", \"day\", \"day\", \"dbcaps\", \"dbcaps\", \"demoes\", \"desk\", \"desk\", \"desk\", \"desk\", \"desk\", \"development\", \"development\", \"development\", \"development\", \"deviation\", \"deviation\", \"deviation\", \"devon\", \"devon\", \"dickerman\", \"discover\", \"discover\", \"doc\", \"doc\", \"doc\", \"doc\", \"dynergy\", \"e\", \"e\", \"e\", \"e\", \"e\", \"earnings\", \"earnings\", \"ecar\", \"ecar\", \"ecar\", \"eei\", \"eei\", \"eei\", \"eezc\", \"emailed\", \"employee\", \"employee\", \"employee\", \"employee\", \"end\", \"end\", \"end\", \"end\", \"end\", \"ended\", \"energy\", \"energy\", \"energy\", \"energy\", \"energy\", \"enews\", \"enform\", \"enform\", \"enlarge\", \"enlarge\", \"enlarge\", \"enron\", \"enron\", \"enron\", \"enron\", \"enron\", \"epenergy\", \"epenergy\", \"ercot\", \"ercot\", \"ercot\", \"error\", \"error\", \"error\", \"error\", \"error\", \"estoppel\", \"et\", \"et\", \"et\", \"et\", \"euci\", \"euci\", \"executive\", \"executive\", \"executive\", \"executive\", \"executive\", \"exotica\", \"exotica\", \"explorer\", \"explorer\", \"explorer\", \"f\", \"f\", \"f\", \"f\", \"f\", \"fagan\", \"ffffff\", \"financial\", \"financial\", \"financial\", \"financial\", \"find\", \"find\", \"find\", \"find\", \"fired\", \"firm\", \"firm\", \"firm\", \"firm\", \"firm\", \"fname\", \"font\", \"font\", \"football\", \"former\", \"former\", \"fran\", \"france\", \"france\", \"frcc\", \"frcc\", \"frcc\", \"fri\", \"fri\", \"fri\", \"friend\", \"friend\", \"friend\", \"fund\", \"fund\", \"fund\", \"fund\", \"fw\", \"fw\", \"fw\", \"fw\", \"fw\", \"fx\", \"fx\", \"galore\", \"game\", \"game\", \"game\", \"gas\", \"gas\", \"gas\", \"gas\", \"gas\", \"gate\", \"get\", \"get\", \"get\", \"get\", \"get\", \"gif\", \"gif\", \"gif\", \"gift\", \"gift\", \"gift\", \"gold\", \"gold\", \"gold\", \"graf\", \"greg\", \"greg\", \"greg\", \"greg\", \"height\", \"height\", \"help\", \"help\", \"help\", \"help\", \"hereto\", \"hereto\", \"hotmail\", \"hotmail\", \"hotmail\", \"hou\", \"hou\", \"hou\", \"hou\", \"hourahead\", \"hourahead\", \"hourahead\", \"hp\", \"hp\", \"hp\", \"hp\", \"href\", \"href\", \"image\", \"image\", \"image\", \"image\", \"image\", \"img\", \"img\", \"impacted\", \"impacted\", \"informative\", \"initialize\", \"initialize\", \"intended\", \"intended\", \"intended\", \"investor\", \"investor\", \"investor\", \"january\", \"january\", \"january\", \"january\", \"jason\", \"jason\", \"jason\", \"jason\", \"jay\", \"jay\", \"jay\", \"john\", \"john\", \"john\", \"john\", \"john\", \"journal\", \"journal\", \"kim\", \"kim\", \"kim\", \"kim\", \"kim\", \"kimberly\", \"kimberly\", \"kimberly\", \"know\", \"know\", \"know\", \"know\", \"know\", \"labour\", \"labour\", \"labour\", \"labour\", \"last\", \"last\", \"last\", \"last\", \"last\", \"laurel\", \"laurel\", \"lavorato\", \"lavorato\", \"lay\", \"lay\", \"lay\", \"lay\", \"let\", \"let\", \"let\", \"let\", \"let\", \"like\", \"like\", \"like\", \"like\", \"like\", \"linkbarseperator\", \"lubbock\", \"lynn\", \"lynn\", \"lynn\", \"maac\", \"maac\", \"maac\", \"made\", \"made\", \"made\", \"made\", \"mail\", \"mail\", \"mail\", \"mail\", \"mail\", \"mailto\", \"mailto\", \"mailto\", \"mailto\", \"mailto\", \"main\", \"main\", \"main\", \"management\", \"management\", \"management\", \"management\", \"mansoor\", \"mapp\", \"mapp\", \"mapp\", \"mark\", \"mark\", \"mark\", \"mark\", \"mark\", \"market\", \"market\", \"market\", \"market\", \"market\", \"marten\", \"marten\", \"matrix\", \"matrix\", \"matrix\", \"matrix\", \"max\", \"max\", \"max\", \"may\", \"may\", \"may\", \"may\", \"member\", \"member\", \"member\", \"member\", \"member\", \"merry\", \"message\", \"message\", \"message\", \"message\", \"message\", \"million\", \"million\", \"million\", \"million\", \"million\", \"min\", \"min\", \"min\", \"min\", \"money\", \"money\", \"money\", \"money\", \"mpc\", \"mr\", \"mr\", \"mr\", \"mule\", \"mule\", \"mw\", \"mw\", \"mw\", \"mws\", \"nbsp\", \"nbsp\", \"nc\", \"nc\", \"nc\", \"ne\", \"ne\", \"ne\", \"need\", \"need\", \"need\", \"need\", \"need\", \"nella\", \"nella\", \"net\", \"net\", \"net\", \"net\", \"net\", \"netback\", \"neumin\", \"neumin\", \"new\", \"new\", \"new\", \"new\", \"new\", \"news\", \"news\", \"news\", \"news\", \"november\", \"november\", \"november\", \"november\", \"november\", \"npcc\", \"npcc\", \"npcc\", \"nw\", \"nw\", \"nw\", \"nw\", \"nyse\", \"nyse\", \"nytimes\", \"nytimes\", \"nytimes\", \"occurred\", \"occurred\", \"official\", \"official\", \"oil\", \"oil\", \"oil\", \"one\", \"one\", \"one\", \"one\", \"order\", \"order\", \"order\", \"order\", \"order\", \"ordering\", \"ordering\", \"organizational\", \"organizational\", \"original\", \"original\", \"original\", \"original\", \"original\", \"outage\", \"outage\", \"p\", \"p\", \"p\", \"p\", \"p\", \"pager\", \"pager\", \"palo\", \"pampa\", \"partnership\", \"partnership\", \"pay\", \"pay\", \"pay\", \"pay\", \"pay\", \"pcg\", \"pep\", \"pep\", \"perfect\", \"perfect\", \"please\", \"please\", \"please\", \"please\", \"please\", \"pm\", \"pm\", \"pm\", \"pm\", \"pm\", \"power\", \"power\", \"power\", \"power\", \"power\", \"ppt\", \"ppt\", \"preference\", \"preference\", \"president\", \"president\", \"president\", \"president\", \"price\", \"price\", \"price\", \"price\", \"price\", \"process\", \"process\", \"process\", \"process\", \"product\", \"product\", \"product\", \"product\", \"product\", \"pseg\", \"pseg\", \"pt\", \"pt\", \"pt\", \"quelnunes\", \"range\", \"range\", \"range\", \"range\", \"raquel\", \"realtime\", \"recipient\", \"recipient\", \"recipient\", \"recipient\", \"rect\", \"redshirt\", \"ref\", \"ref\", \"reg\", \"reg\", \"reg\", \"reg\", \"reliantenergy\", \"reliantenergy\", \"reliantenergy\", \"relieve\", \"request\", \"request\", \"request\", \"request\", \"right\", \"right\", \"right\", \"right\", \"right\", \"riverside\", \"rk\", \"rk\", \"rk\", \"rk\", \"roommate\", \"royalty\", \"said\", \"said\", \"said\", \"said\", \"sat\", \"sat\", \"saving\", \"saving\", \"saving\", \"saving\", \"saving\", \"savita\", \"savita\", \"say\", \"say\", \"say\", \"say\", \"say\", \"schedule\", \"schedule\", \"schedule\", \"schedule\", \"schedule\", \"scheduled\", \"scheduled\", \"scheduled\", \"schoolcraft\", \"schoolcraft\", \"scoop\", \"scoop\", \"script\", \"sdg\", \"sdg\", \"se\", \"se\", \"se\", \"se\", \"se\", \"sec\", \"sec\", \"sec\", \"security\", \"security\", \"security\", \"see\", \"see\", \"see\", \"see\", \"see\", \"sell\", \"sell\", \"sell\", \"sept\", \"sept\", \"serc\", \"serc\", \"serc\", \"server\", \"server\", \"server\", \"service\", \"service\", \"service\", \"service\", \"service\", \"sfs\", \"sfs\", \"share\", \"share\", \"share\", \"shipping\", \"shipping\", \"shipping\", \"simulation\", \"simulation\", \"sp\", \"sp\", \"sp\", \"sp\", \"spp\", \"spp\", \"spp\", \"src\", \"src\", \"stack\", \"stack\", \"start\", \"start\", \"start\", \"start\", \"start\", \"state\", \"state\", \"state\", \"state\", \"std\", \"std\", \"std\", \"stock\", \"stock\", \"stock\", \"stock\", \"stock\", \"stocklookup\", \"stsw\", \"stwbom\", \"sw\", \"sw\", \"sw\", \"syncrasy\", \"syncrasy\", \"syncrasy\", \"system\", \"system\", \"system\", \"system\", \"tab\", \"table\", \"table\", \"table\", \"tagline\", \"td\", \"td\", \"td\", \"team\", \"team\", \"team\", \"team\", \"temp\", \"temp\", \"temp\", \"thank\", \"thank\", \"thank\", \"thank\", \"thanks\", \"thanks\", \"thanks\", \"thanks\", \"thanks\", \"thru\", \"thru\", \"thursday\", \"thursday\", \"thursday\", \"thursday\", \"thursday\", \"time\", \"time\", \"time\", \"time\", \"time\", \"tonight\", \"tonight\", \"toy\", \"tr\", \"tr\", \"tr\", \"trading\", \"trading\", \"trading\", \"trading\", \"trading\", \"tyco\", \"u\", \"u\", \"u\", \"u\", \"u\", \"ubswenergy\", \"uncle\", \"underscore\", \"unshipped\", \"utility\", \"utility\", \"utility\", \"utility\", \"validation\", \"validation\", \"valign\", \"valign\", \"visit\", \"visit\", \"visit\", \"visit\", \"volatility\", \"volatility\", \"volatility\", \"volatility\", \"volatility\", \"width\", \"width\", \"width\", \"within\", \"within\", \"within\", \"within\", \"within\", \"wj\", \"wj\", \"wj\", \"would\", \"would\", \"would\", \"would\", \"would\", \"wscc\", \"wscc\", \"wscc\", \"wyndham\", \"wyndham\", \"wyoming\", \"year\", \"year\", \"year\", \"year\", \"yeow\", \"york\", \"york\", \"york\", \"york\"]}, \"R\": 30, \"lambda.step\": 0.01, \"plot.opts\": {\"xlab\": \"PC1\", \"ylab\": \"PC2\"}, \"topic.order\": [1, 2, 3, 4, 5]};\n",
       "\n",
       "function LDAvis_load_lib(url, callback){\n",
       "  var s = document.createElement('script');\n",
       "  s.src = url;\n",
       "  s.async = true;\n",
       "  s.onreadystatechange = s.onload = callback;\n",
       "  s.onerror = function(){console.warn(\"failed to load library \" + url);};\n",
       "  document.getElementsByTagName(\"head\")[0].appendChild(s);\n",
       "}\n",
       "\n",
       "if(typeof(LDAvis) !== \"undefined\"){\n",
       "   // already loaded: just create the visualization\n",
       "   !function(LDAvis){\n",
       "       new LDAvis(\"#\" + \"ldavis_el19311402307958780648739371760\", ldavis_el19311402307958780648739371760_data);\n",
       "   }(LDAvis);\n",
       "}else if(typeof define === \"function\" && define.amd){\n",
       "   // require.js is available: use it to load d3/LDAvis\n",
       "   require.config({paths: {d3: \"https://d3js.org/d3.v5\"}});\n",
       "   require([\"d3\"], function(d3){\n",
       "      window.d3 = d3;\n",
       "      LDAvis_load_lib(\"https://cdn.jsdelivr.net/gh/bmabey/pyLDAvis@3.4.0/pyLDAvis/js/ldavis.v3.0.0.js\", function(){\n",
       "        new LDAvis(\"#\" + \"ldavis_el19311402307958780648739371760\", ldavis_el19311402307958780648739371760_data);\n",
       "      });\n",
       "    });\n",
       "}else{\n",
       "    // require.js not available: dynamically load d3 & LDAvis\n",
       "    LDAvis_load_lib(\"https://d3js.org/d3.v5.js\", function(){\n",
       "         LDAvis_load_lib(\"https://cdn.jsdelivr.net/gh/bmabey/pyLDAvis@3.4.0/pyLDAvis/js/ldavis.v3.0.0.js\", function(){\n",
       "                 new LDAvis(\"#\" + \"ldavis_el19311402307958780648739371760\", ldavis_el19311402307958780648739371760_data);\n",
       "            })\n",
       "         });\n",
       "}\n",
       "</script>"
      ],
      "text/plain": [
       "<IPython.core.display.HTML object>"
      ]
     },
     "execution_count": 117,
     "metadata": {},
     "output_type": "execute_result"
    }
   ],
   "source": [
    "pyLDAvis.display(lda_display)"
   ]
  },
  {
   "cell_type": "markdown",
   "metadata": {},
   "source": [
    "#### Assign topics to your original data\n",
    "\n",
    "* One practical application of topic modeling is to determine what topic a given text is about\n",
    "* To find that, find the topic number that has the highest percentage contribution in that text\n",
    "* The function, `get_topic_details` shown here, nicely aggregates this information in a presentable table\n",
    "* Combine the original text data with the output of the `get_topic_details` function\n",
    "* Each row contains the dominant topic number, the probability score with that topic and the original text data\n",
    "\n",
    "```python\n",
    "def get_topic_details(ldamodel, corpus):\n",
    "    topic_details_df = pd.DataFrame()\n",
    "    for i, row in enumerate(ldamodel[corpus]):\n",
    "        row = sorted(row, key=lambda x: (x[1]), reverse=True)\n",
    "        for j, (topic_num, prop_topic) in enumerate(row):\n",
    "            if j == 0:  # => dominant topic\n",
    "                wp = ldamodel.show_topic(topic_num)\n",
    "                topic_details_df = topic_details_df.append(pd.Series([topic_num, prop_topic]), ignore_index=True)\n",
    "    topic_details_df.columns = ['Dominant_Topic', '% Score']\n",
    "    return topic_details_df\n",
    "\n",
    "\n",
    "contents = pd.DataFrame({'Original text':text_clean})\n",
    "topic_details = pd.concat([get_topic_details(ldamodel,\n",
    "                           corpus), contents], axis=1)\n",
    "topic_details.head()\n",
    "\n",
    "\n",
    "     Dominant_Topic    % Score     Original text\n",
    "0    0.0              0.989108    [investools, advisory, free, ...\n",
    "1    0.0              0.993513    [forwarded, richard, b, ...\n",
    "2    1.0              0.964858    [hey, wearing, target, purple, ...\n",
    "3    0.0              0.989241    [leslie, milosevich, santa, clara, ...\n",
    "```"
   ]
  },
  {
   "cell_type": "markdown",
   "metadata": {},
   "source": [
    "### Interpreting the topic model\n",
    "\n",
    "* Use the visualization results from the pyLDAvis library shown in 4.4.0.2.\n",
    "* Have a look at topic 1 and 3 from the LDA model on the Enron email data. Which one would you research further for fraud detection purposes?\n",
    "\n",
    "**Possible Answers**\n",
    "\n",
    "* __**Topic 1.**__\n",
    "* ~~Topic 3.~~\n",
    "* ~~None of these topics seem related to fraud.~~\n",
    "\n",
    "\n",
    "**Topic 1 seems to discuss the employee share option program, and seems to point to internal conversation (with \"please, may, know\" etc), so this is more likely to be related to the internal accounting fraud and trading stock with insider knowledge. Topic 3 seems to be more related to general news around Enron.**"
   ]
  },
  {
   "cell_type": "markdown",
   "metadata": {},
   "source": [
    "### Finding fraudsters based on topic\n",
    "\n",
    "In this exercise you're going to **link the results** from the topic model **back to your original data**. You now learned that you want to **flag everything related to topic 3**. As you will see, this is actually not that straightforward. You'll be given the function `get_topic_details()` which takes the arguments `ldamodel` and `corpus`. It retrieves the details of the topics for each line of text. With that function, you can append the results back to your original data. If you want to learn more detail on how to work with the model results, which is beyond the scope of this course, you're highly encouraged to read this [article](https://www.machinelearningplus.com/nlp/topic-modeling-gensim-python/).\n",
    "\n",
    "Available for you are the `dictionary` and `corpus`, the text data `text_clean` as well as your model results `ldamodel`. Also defined is `get_topic_details()`.\n",
    "\n",
    "**Instructions 1/3**\n",
    "\n",
    "* Print and inspect the results from the `get_topic_details()` function by inserting your LDA model results and `corpus`."
   ]
  },
  {
   "cell_type": "markdown",
   "metadata": {},
   "source": [
    "#### def get_topic_details"
   ]
  },
  {
   "cell_type": "code",
   "execution_count": 118,
   "metadata": {
    "tags": []
   },
   "outputs": [],
   "source": [
    "def get_topic_details(ldamodel, corpus):\n",
    "    topic_details_df = pd.DataFrame()\n",
    "    for i, row in enumerate(ldamodel[corpus]):\n",
    "        row = sorted(row, key=lambda x: (x[1]), reverse=True)\n",
    "        for j, (topic_num, prop_topic) in enumerate(row):\n",
    "            if j == 0:  # => dominant topic\n",
    "                wp = ldamodel.show_topic(topic_num)\n",
    "                topic_details_df = topic_details_df.append(pd.Series([topic_num, prop_topic]), ignore_index=True)\n",
    "    topic_details_df.columns = ['Dominant_Topic', '% Score']\n",
    "    return topic_details_df"
   ]
  },
  {
   "cell_type": "code",
   "execution_count": 119,
   "metadata": {
    "tags": []
   },
   "outputs": [],
   "source": [
    "# Run get_topic_details function and check the results\n",
    "topic_details_df = get_topic_details(ldamodel, corpus)"
   ]
  },
  {
   "cell_type": "code",
   "execution_count": 120,
   "metadata": {
    "tags": []
   },
   "outputs": [
    {
     "data": {
      "text/html": [
       "<div>\n",
       "<style scoped>\n",
       "    .dataframe tbody tr th:only-of-type {\n",
       "        vertical-align: middle;\n",
       "    }\n",
       "\n",
       "    .dataframe tbody tr th {\n",
       "        vertical-align: top;\n",
       "    }\n",
       "\n",
       "    .dataframe thead th {\n",
       "        text-align: right;\n",
       "    }\n",
       "</style>\n",
       "<table border=\"1\" class=\"dataframe\">\n",
       "  <thead>\n",
       "    <tr style=\"text-align: right;\">\n",
       "      <th></th>\n",
       "      <th>Dominant_Topic</th>\n",
       "      <th>% Score</th>\n",
       "    </tr>\n",
       "  </thead>\n",
       "  <tbody>\n",
       "    <tr>\n",
       "      <th>0</th>\n",
       "      <td>4.0</td>\n",
       "      <td>0.999210</td>\n",
       "    </tr>\n",
       "    <tr>\n",
       "      <th>1</th>\n",
       "      <td>2.0</td>\n",
       "      <td>0.797266</td>\n",
       "    </tr>\n",
       "    <tr>\n",
       "      <th>2</th>\n",
       "      <td>0.0</td>\n",
       "      <td>0.805093</td>\n",
       "    </tr>\n",
       "    <tr>\n",
       "      <th>3</th>\n",
       "      <td>4.0</td>\n",
       "      <td>0.663991</td>\n",
       "    </tr>\n",
       "    <tr>\n",
       "      <th>4</th>\n",
       "      <td>2.0</td>\n",
       "      <td>0.607515</td>\n",
       "    </tr>\n",
       "  </tbody>\n",
       "</table>\n",
       "</div>"
      ],
      "text/plain": [
       "   Dominant_Topic   % Score\n",
       "0             4.0  0.999210\n",
       "1             2.0  0.797266\n",
       "2             0.0  0.805093\n",
       "3             4.0  0.663991\n",
       "4             2.0  0.607515"
      ]
     },
     "execution_count": 120,
     "metadata": {},
     "output_type": "execute_result"
    }
   ],
   "source": [
    "topic_details_df.head()"
   ]
  },
  {
   "cell_type": "code",
   "execution_count": 121,
   "metadata": {
    "tags": []
   },
   "outputs": [
    {
     "data": {
      "text/html": [
       "<div>\n",
       "<style scoped>\n",
       "    .dataframe tbody tr th:only-of-type {\n",
       "        vertical-align: middle;\n",
       "    }\n",
       "\n",
       "    .dataframe tbody tr th {\n",
       "        vertical-align: top;\n",
       "    }\n",
       "\n",
       "    .dataframe thead th {\n",
       "        text-align: right;\n",
       "    }\n",
       "</style>\n",
       "<table border=\"1\" class=\"dataframe\">\n",
       "  <thead>\n",
       "    <tr style=\"text-align: right;\">\n",
       "      <th></th>\n",
       "      <th>Dominant_Topic</th>\n",
       "      <th>% Score</th>\n",
       "    </tr>\n",
       "  </thead>\n",
       "  <tbody>\n",
       "    <tr>\n",
       "      <th>2085</th>\n",
       "      <td>3.0</td>\n",
       "      <td>0.680628</td>\n",
       "    </tr>\n",
       "    <tr>\n",
       "      <th>2086</th>\n",
       "      <td>3.0</td>\n",
       "      <td>0.598685</td>\n",
       "    </tr>\n",
       "    <tr>\n",
       "      <th>2087</th>\n",
       "      <td>1.0</td>\n",
       "      <td>0.999324</td>\n",
       "    </tr>\n",
       "    <tr>\n",
       "      <th>2088</th>\n",
       "      <td>1.0</td>\n",
       "      <td>0.998144</td>\n",
       "    </tr>\n",
       "    <tr>\n",
       "      <th>2089</th>\n",
       "      <td>1.0</td>\n",
       "      <td>0.988361</td>\n",
       "    </tr>\n",
       "  </tbody>\n",
       "</table>\n",
       "</div>"
      ],
      "text/plain": [
       "      Dominant_Topic   % Score\n",
       "2085             3.0  0.680628\n",
       "2086             3.0  0.598685\n",
       "2087             1.0  0.999324\n",
       "2088             1.0  0.998144\n",
       "2089             1.0  0.988361"
      ]
     },
     "execution_count": 121,
     "metadata": {},
     "output_type": "execute_result"
    }
   ],
   "source": [
    "topic_details_df.tail()"
   ]
  },
  {
   "cell_type": "markdown",
   "metadata": {},
   "source": [
    "**Instructions 2/3**\n",
    "\n",
    "* Concatenate column-wise the results from the previously defined function `get_topic_details()` to the original text data contained under `contents` and inspect the results."
   ]
  },
  {
   "cell_type": "code",
   "execution_count": 122,
   "metadata": {
    "tags": []
   },
   "outputs": [],
   "source": [
    "# Add original text to topic details in a dataframe\n",
    "contents = pd.DataFrame({'Original text': text_clean})\n",
    "topic_details = pd.concat([get_topic_details(ldamodel, corpus), contents], axis=1)"
   ]
  },
  {
   "cell_type": "code",
   "execution_count": 123,
   "metadata": {
    "tags": []
   },
   "outputs": [
    {
     "data": {
      "text/html": [
       "<div>\n",
       "<style scoped>\n",
       "    .dataframe tbody tr th:only-of-type {\n",
       "        vertical-align: middle;\n",
       "    }\n",
       "\n",
       "    .dataframe tbody tr th {\n",
       "        vertical-align: top;\n",
       "    }\n",
       "\n",
       "    .dataframe thead th {\n",
       "        text-align: right;\n",
       "    }\n",
       "</style>\n",
       "<table border=\"1\" class=\"dataframe\">\n",
       "  <thead>\n",
       "    <tr style=\"text-align: right;\">\n",
       "      <th></th>\n",
       "      <th>Dominant_Topic</th>\n",
       "      <th>% Score</th>\n",
       "      <th>Original text</th>\n",
       "    </tr>\n",
       "  </thead>\n",
       "  <tbody>\n",
       "    <tr>\n",
       "      <th>154</th>\n",
       "      <td>4.0</td>\n",
       "      <td>0.999957</td>\n",
       "      <td>[joint, venture, enron, meeting, belies, offic...</td>\n",
       "    </tr>\n",
       "    <tr>\n",
       "      <th>135</th>\n",
       "      <td>4.0</td>\n",
       "      <td>0.999953</td>\n",
       "      <td>[lawyer, agree, order, safeguard, document, ho...</td>\n",
       "    </tr>\n",
       "    <tr>\n",
       "      <th>107</th>\n",
       "      <td>4.0</td>\n",
       "      <td>0.999905</td>\n",
       "      <td>[sample, article, original, message, schmidt, ...</td>\n",
       "    </tr>\n",
       "    <tr>\n",
       "      <th>849</th>\n",
       "      <td>2.0</td>\n",
       "      <td>0.999875</td>\n",
       "      <td>[original, message, received, thu, aug, cdt, e...</td>\n",
       "    </tr>\n",
       "    <tr>\n",
       "      <th>149</th>\n",
       "      <td>4.0</td>\n",
       "      <td>0.999769</td>\n",
       "      <td>[electricity, trading, build, oh, slowly, fran...</td>\n",
       "    </tr>\n",
       "  </tbody>\n",
       "</table>\n",
       "</div>"
      ],
      "text/plain": [
       "     Dominant_Topic   % Score  \\\n",
       "154             4.0  0.999957   \n",
       "135             4.0  0.999953   \n",
       "107             4.0  0.999905   \n",
       "849             2.0  0.999875   \n",
       "149             4.0  0.999769   \n",
       "\n",
       "                                         Original text  \n",
       "154  [joint, venture, enron, meeting, belies, offic...  \n",
       "135  [lawyer, agree, order, safeguard, document, ho...  \n",
       "107  [sample, article, original, message, schmidt, ...  \n",
       "849  [original, message, received, thu, aug, cdt, e...  \n",
       "149  [electricity, trading, build, oh, slowly, fran...  "
      ]
     },
     "execution_count": 123,
     "metadata": {},
     "output_type": "execute_result"
    }
   ],
   "source": [
    "topic_details.sort_values(by=['% Score'], ascending=False).head(10).head()"
   ]
  },
  {
   "cell_type": "code",
   "execution_count": 124,
   "metadata": {
    "tags": []
   },
   "outputs": [
    {
     "data": {
      "text/html": [
       "<div>\n",
       "<style scoped>\n",
       "    .dataframe tbody tr th:only-of-type {\n",
       "        vertical-align: middle;\n",
       "    }\n",
       "\n",
       "    .dataframe tbody tr th {\n",
       "        vertical-align: top;\n",
       "    }\n",
       "\n",
       "    .dataframe thead th {\n",
       "        text-align: right;\n",
       "    }\n",
       "</style>\n",
       "<table border=\"1\" class=\"dataframe\">\n",
       "  <thead>\n",
       "    <tr style=\"text-align: right;\">\n",
       "      <th></th>\n",
       "      <th>Dominant_Topic</th>\n",
       "      <th>% Score</th>\n",
       "      <th>Original text</th>\n",
       "    </tr>\n",
       "  </thead>\n",
       "  <tbody>\n",
       "    <tr>\n",
       "      <th>265</th>\n",
       "      <td>4.0</td>\n",
       "      <td>0.999751</td>\n",
       "      <td>[u, based, enron, corp, expands, pulp, paper, ...</td>\n",
       "    </tr>\n",
       "    <tr>\n",
       "      <th>81</th>\n",
       "      <td>4.0</td>\n",
       "      <td>0.999722</td>\n",
       "      <td>[brazil, scramble, energy, new, york, time, wo...</td>\n",
       "    </tr>\n",
       "    <tr>\n",
       "      <th>2081</th>\n",
       "      <td>3.0</td>\n",
       "      <td>0.999631</td>\n",
       "      <td>[unsubscribe, mailing, please, go, money, net,...</td>\n",
       "    </tr>\n",
       "    <tr>\n",
       "      <th>478</th>\n",
       "      <td>4.0</td>\n",
       "      <td>0.999354</td>\n",
       "      <td>[greeting, jeff, thanks, make, copy, bring, cl...</td>\n",
       "    </tr>\n",
       "    <tr>\n",
       "      <th>2087</th>\n",
       "      <td>1.0</td>\n",
       "      <td>0.999324</td>\n",
       "      <td>[image, image, image, image, image, image, ima...</td>\n",
       "    </tr>\n",
       "  </tbody>\n",
       "</table>\n",
       "</div>"
      ],
      "text/plain": [
       "      Dominant_Topic   % Score  \\\n",
       "265              4.0  0.999751   \n",
       "81               4.0  0.999722   \n",
       "2081             3.0  0.999631   \n",
       "478              4.0  0.999354   \n",
       "2087             1.0  0.999324   \n",
       "\n",
       "                                          Original text  \n",
       "265   [u, based, enron, corp, expands, pulp, paper, ...  \n",
       "81    [brazil, scramble, energy, new, york, time, wo...  \n",
       "2081  [unsubscribe, mailing, please, go, money, net,...  \n",
       "478   [greeting, jeff, thanks, make, copy, bring, cl...  \n",
       "2087  [image, image, image, image, image, image, ima...  "
      ]
     },
     "execution_count": 124,
     "metadata": {},
     "output_type": "execute_result"
    }
   ],
   "source": [
    "topic_details.sort_values(by=['% Score'], ascending=False).head(10).tail()"
   ]
  },
  {
   "cell_type": "markdown",
   "metadata": {},
   "source": [
    "**Instructions 3/3**\n",
    "\n",
    "* Create a flag with the `np.where()` function to flag all content that has topic 3 as a dominant topic with a 1, and 0 otherwise"
   ]
  },
  {
   "cell_type": "code",
   "execution_count": 125,
   "metadata": {
    "tags": []
   },
   "outputs": [],
   "source": [
    "# Create flag for text highest associated with topic 3\n",
    "topic_details['flag'] = np.where((topic_details['Dominant_Topic'] == 3.0), 1, 0)"
   ]
  },
  {
   "cell_type": "code",
   "execution_count": 126,
   "metadata": {
    "tags": []
   },
   "outputs": [],
   "source": [
    "topic_details_1 = topic_details[topic_details.flag == 1]"
   ]
  },
  {
   "cell_type": "code",
   "execution_count": 127,
   "metadata": {
    "tags": []
   },
   "outputs": [
    {
     "data": {
      "text/html": [
       "<div>\n",
       "<style scoped>\n",
       "    .dataframe tbody tr th:only-of-type {\n",
       "        vertical-align: middle;\n",
       "    }\n",
       "\n",
       "    .dataframe tbody tr th {\n",
       "        vertical-align: top;\n",
       "    }\n",
       "\n",
       "    .dataframe thead th {\n",
       "        text-align: right;\n",
       "    }\n",
       "</style>\n",
       "<table border=\"1\" class=\"dataframe\">\n",
       "  <thead>\n",
       "    <tr style=\"text-align: right;\">\n",
       "      <th></th>\n",
       "      <th>Dominant_Topic</th>\n",
       "      <th>% Score</th>\n",
       "      <th>Original text</th>\n",
       "      <th>flag</th>\n",
       "    </tr>\n",
       "  </thead>\n",
       "  <tbody>\n",
       "    <tr>\n",
       "      <th>2081</th>\n",
       "      <td>3.0</td>\n",
       "      <td>0.999631</td>\n",
       "      <td>[unsubscribe, mailing, please, go, money, net,...</td>\n",
       "      <td>1</td>\n",
       "    </tr>\n",
       "    <tr>\n",
       "      <th>2018</th>\n",
       "      <td>3.0</td>\n",
       "      <td>0.994399</td>\n",
       "      <td>[attention, reading, message, mail, reader, ca...</td>\n",
       "      <td>1</td>\n",
       "    </tr>\n",
       "    <tr>\n",
       "      <th>743</th>\n",
       "      <td>3.0</td>\n",
       "      <td>0.990053</td>\n",
       "      <td>[start, date, hourahead, hour, ancillary, sche...</td>\n",
       "      <td>1</td>\n",
       "    </tr>\n",
       "    <tr>\n",
       "      <th>1208</th>\n",
       "      <td>3.0</td>\n",
       "      <td>0.988372</td>\n",
       "      <td>[start, date, hourahead, hour, ancillary, sche...</td>\n",
       "      <td>1</td>\n",
       "    </tr>\n",
       "    <tr>\n",
       "      <th>2064</th>\n",
       "      <td>3.0</td>\n",
       "      <td>0.987983</td>\n",
       "      <td>[start, date, hourahead, hour, ancillary, sche...</td>\n",
       "      <td>1</td>\n",
       "    </tr>\n",
       "    <tr>\n",
       "      <th>1202</th>\n",
       "      <td>3.0</td>\n",
       "      <td>0.986647</td>\n",
       "      <td>[start, date, hourahead, hour, ancillary, sche...</td>\n",
       "      <td>1</td>\n",
       "    </tr>\n",
       "    <tr>\n",
       "      <th>750</th>\n",
       "      <td>3.0</td>\n",
       "      <td>0.984895</td>\n",
       "      <td>[start, date, hourahead, hour, ancillary, sche...</td>\n",
       "      <td>1</td>\n",
       "    </tr>\n",
       "    <tr>\n",
       "      <th>1198</th>\n",
       "      <td>3.0</td>\n",
       "      <td>0.984754</td>\n",
       "      <td>[start, date, hourahead, hour, ancillary, sche...</td>\n",
       "      <td>1</td>\n",
       "    </tr>\n",
       "    <tr>\n",
       "      <th>1210</th>\n",
       "      <td>3.0</td>\n",
       "      <td>0.984748</td>\n",
       "      <td>[start, date, hourahead, hour, ancillary, sche...</td>\n",
       "      <td>1</td>\n",
       "    </tr>\n",
       "    <tr>\n",
       "      <th>739</th>\n",
       "      <td>3.0</td>\n",
       "      <td>0.984725</td>\n",
       "      <td>[start, date, hourahead, hour, ancillary, sche...</td>\n",
       "      <td>1</td>\n",
       "    </tr>\n",
       "  </tbody>\n",
       "</table>\n",
       "</div>"
      ],
      "text/plain": [
       "      Dominant_Topic   % Score  \\\n",
       "2081             3.0  0.999631   \n",
       "2018             3.0  0.994399   \n",
       "743              3.0  0.990053   \n",
       "1208             3.0  0.988372   \n",
       "2064             3.0  0.987983   \n",
       "1202             3.0  0.986647   \n",
       "750              3.0  0.984895   \n",
       "1198             3.0  0.984754   \n",
       "1210             3.0  0.984748   \n",
       "739              3.0  0.984725   \n",
       "\n",
       "                                          Original text  flag  \n",
       "2081  [unsubscribe, mailing, please, go, money, net,...     1  \n",
       "2018  [attention, reading, message, mail, reader, ca...     1  \n",
       "743   [start, date, hourahead, hour, ancillary, sche...     1  \n",
       "1208  [start, date, hourahead, hour, ancillary, sche...     1  \n",
       "2064  [start, date, hourahead, hour, ancillary, sche...     1  \n",
       "1202  [start, date, hourahead, hour, ancillary, sche...     1  \n",
       "750   [start, date, hourahead, hour, ancillary, sche...     1  \n",
       "1198  [start, date, hourahead, hour, ancillary, sche...     1  \n",
       "1210  [start, date, hourahead, hour, ancillary, sche...     1  \n",
       "739   [start, date, hourahead, hour, ancillary, sche...     1  "
      ]
     },
     "execution_count": 127,
     "metadata": {},
     "output_type": "execute_result"
    }
   ],
   "source": [
    "topic_details_1.sort_values(by=['% Score'], ascending=False).head(10)"
   ]
  },
  {
   "cell_type": "markdown",
   "metadata": {},
   "source": [
    "**You have now flagged all data that is highest associated with topic 3, that seems to cover internal conversation about enron stock options. You are a true detective. With these exercises you have demonstrated that text mining and topic modeling can be a powerful tool for fraud detection.**"
   ]
  },
  {
   "cell_type": "markdown",
   "metadata": {},
   "source": [
    "## Lesson 4: Recap"
   ]
  },
  {
   "cell_type": "markdown",
   "metadata": {},
   "source": [
    "### Working with imbalanced data\n",
    "\n",
    "* Worked with highly imbalanced fraud data\n",
    "* Learned how to resample your data\n",
    "* Learned about different resampling methods"
   ]
  },
  {
   "cell_type": "markdown",
   "metadata": {},
   "source": [
    "### Fraud detection with labeled data\n",
    "\n",
    "* Refreshed supervised learning techniques to detect fraud\n",
    "* Learned how to get reliable performance metrics and worked with the precision recall trade-off\n",
    "* Explored how to optimize your model parameters to handle fraud data\n",
    "* Applied ensemble methods to fraud detection"
   ]
  },
  {
   "cell_type": "markdown",
   "metadata": {},
   "source": [
    "### Fraud detection without labels\n",
    "\n",
    "* Learned about the importance of segmentation\n",
    "* Refreshed your knowledge on clustering methods\n",
    "* Learned how to detect fraud using outliers and small clusters with K-means clustering\n",
    "* Applied a DB-scan clustering model for fraud detection"
   ]
  },
  {
   "cell_type": "markdown",
   "metadata": {},
   "source": [
    "### Text mining for fraud detection\n",
    "\n",
    "* Know how to augment fraud detection analysis with text mining techniques\n",
    "* Applied word searches to flag use of certain words, and learned how to apply topic modeling for fraud detection\n",
    "* Learned how to effectively clean messy text data"
   ]
  },
  {
   "cell_type": "markdown",
   "metadata": {},
   "source": [
    "### Further learning for fraud detection\n",
    "\n",
    "* Network analysis to detect fraud\n",
    "* Different supervised and unsupervised learning techniques (e.g. Neural Networks)\n",
    "* Working with very large data"
   ]
  }
 ],
 "metadata": {
  "kernelspec": {
   "display_name": "Python 3",
   "language": "python",
   "name": "python3"
  },
  "language_info": {
   "codemirror_mode": {
    "name": "ipython",
    "version": 3
   },
   "file_extension": ".py",
   "mimetype": "text/x-python",
   "name": "python",
   "nbconvert_exporter": "python",
   "pygments_lexer": "ipython3",
   "version": "3.8.10"
  },
  "toc-autonumbering": true
 },
 "nbformat": 4,
 "nbformat_minor": 4
}
